{
 "cells": [
  {
   "cell_type": "markdown",
   "metadata": {},
   "source": [
    "# Classifying Computer Screenshots"
   ]
  },
  {
   "cell_type": "markdown",
   "metadata": {},
   "source": [
    "The goal in this work is to redesign a <b>supervised computer screen classifier</b> I developed in 2017 as a part of my PhD thesis (For more, see chapters 4 and 5 here: https://ruor.uottawa.ca/handle/10393/36272). \n",
    "\n",
    "Classification is often cast as a solved problem, where you only need more data to resolve any type of problem. This is, of course, the wrong way to think about classification. Instead, classification is a journey of exploration, following the data wherever it leads, until, hopefully, you land on an acceptable solution. Often the answer is to collect more data, rather than wandering the ML landscape, hoping for a miracle. But sometimes, as we will see here, it is very worthwhile spending a few days trying lots of stuff.\n",
    "\n",
    "The approaches explored in this work may be interesting to machine learning practitioners, mostly because of all of the approaches that did not work, and the use of a proprietary dataset. It may be interesting for you to see the application of machine learning on a proprietary dataset. The problem itself comes from wrestling with the data and models to try and force some learning to generalize to unseen data. Computer screens are big and noisy, and so classifying what is happening on them is an interesting problem.\n",
    "\n",
    "<b>Summary</b>\n",
    "\n",
    "For you TL;DR people, here are the approaches and results you will encounter below (skipping boring stuff):\n",
    "\n",
    "- ❌ Failed on Google Collab so moved to Titan V on-premise\n",
    "- ✅ Look at the data. Check for dataset class imbalance and use our eyes to understand the data.\n",
    "- ❌ Failed trying a basic CNN model (fails to generalize)\n",
    "- ❌ Failed after adding data augmentation (horizontal flip is the only one that didn't make things worse - model still fails to generalize)\n",
    "- ❌ Failed transfer learning from InceptionV3, even with class weights enabled. Model didn't generalize. I could have tried other networks like VGG19, etc, but decided to move on to other approaches.\n",
    "- ✅ First success with a 'normal' ML approach a pipeline with PCA and SVM. Results MEH but at least it learned something\n",
    "- ✅ Moved on to AutoML with TPOT to see if it can make a better ML pipeline than my PCA+SVM approach. It crushed it. Did amazing.\n",
    "- ❌ Failed to get mlblocks to run. Config issues. Moved on.\n",
    "- ✅ Also found success with a pretraining step. Started with an autoencoder and then retrained the encoder as a classifier. Worked like a charm\n",
    "\n",
    "The original classifier from my thesis was a convolutional neural network, and in the remainder of this notebook I will go through a variety of approaches solve the problem, and perhaps to improve on my original results. In this work I restricted the categories I'm working on to those for which I had more data (between 600 and 3000 labelled images per category for 5 categories of screenshot). The data is messy. Some screenshots are of a window, or a program, or the whole screen. \n",
    "\n",
    "This screenshot classification model is a subcomponent of a larger project to help computer users work with the computer to do stuff. To set the scene, the following is the <b>thesis abstract</b>: <i>\"A new way to train a virtual assistant with unsupervised learning is presented in this thesis. Rather than integrating with a particular set of programs and interfaces, this new approach involves shallow integration between the virtual assistant and computer through machine vision. In effect the assistant interprets the computer screen in order to produce helpful recommendations to assist the computer user. In developing this new approach, called AVRA, the following methods are described: an unsupervised learning algorithm which enables the system to watch and learn from user behavior, a method for fast filtering of the text displayed on the computer screen, a deep learning classifier used to recognize key onscreen text in the presence of OCR translation errors, and a recommendation filtering algorithm to triage the many possible action recommendations. AVRA is compared to a similar commercial state-of-the-art system, to highlight how this work adds to the state of the art. AVRA is a deep learning image processing and recommender system that can collaborate with the computer user to accomplish various tasks. This document presents a comprehensive overview of the development and possible applications of this novel virtual assistant technology. It detects onscreen tasks based upon the context it perceives by analyzing successive computer screen images with neural networks. AVRA is a recommender system, as it assists the user by producing action recommendations regarding onscreen tasks. In order to simplify the interaction between the user and AVRA, the system was designed to only produce action recommendations that can be accepted with a single mouse click. These action recommendations are produced without integration into each individual application executing on the computer. Furthermore, the action recommendations are personalized to the user’s interests utilizing a history of the user’s interaction.\"</i>"
   ]
  },
  {
   "cell_type": "markdown",
   "metadata": {},
   "source": [
    "## Let's use google collab"
   ]
  },
  {
   "cell_type": "markdown",
   "metadata": {
    "ExecuteTime": {
     "end_time": "2020-04-21T01:43:19.710621Z",
     "start_time": "2020-04-21T01:43:19.705220Z"
    }
   },
   "source": [
    "Let's set the path:\n",
    "\n",
    "<b>PATH = \"/content/gdrive/My Drive/Colab Notebooks/data/avra/\"</b>\n",
    "\n",
    "Let's upload the 1GB of images and mount google drive to the notebook\n",
    "\n",
    "<b>from google.colab import drive\n",
    "drive.mount('/content/gdrive')</b>\n",
    "\n",
    "... Nope. Disk access is too slow, and the GPU libraries are not the same setup as standard NVIDIA images"
   ]
  },
  {
   "cell_type": "markdown",
   "metadata": {
    "ExecuteTime": {
     "end_time": "2020-04-21T01:47:27.904466Z",
     "start_time": "2020-04-21T01:47:27.898808Z"
    }
   },
   "source": [
    "## Let's use an on-premise Titan V instead"
   ]
  },
  {
   "cell_type": "markdown",
   "metadata": {},
   "source": [
    "Upload files to server. Unzip. Move files to a nice location. Keep moving."
   ]
  },
  {
   "cell_type": "markdown",
   "metadata": {
    "colab_type": "text",
    "id": "kKA6Tkg_mtZ7"
   },
   "source": [
    "### Set path to images directory and identify broken images"
   ]
  },
  {
   "cell_type": "code",
   "execution_count": 1,
   "metadata": {
    "ExecuteTime": {
     "end_time": "2020-04-20T10:53:00.366818Z",
     "start_time": "2020-04-20T10:53:00.357346Z"
    },
    "colab": {},
    "colab_type": "code",
    "id": "2mQCJdKxm5HA"
   },
   "outputs": [
    {
     "data": {
      "text/plain": [
       "'/home/lemay/daniel/thesis_redo/'"
      ]
     },
     "execution_count": 1,
     "metadata": {},
     "output_type": "execute_result"
    }
   ],
   "source": [
    "PATH = \"/home/lemay/daniel/thesis_redo/\"\n",
    "PATH"
   ]
  },
  {
   "cell_type": "markdown",
   "metadata": {},
   "source": [
    "The following code opens up each image to make sure there are no broken images. Many images are dropped from the dataset during this step. The flag \"test\" specifies if we should re-run this testing and data cleanup script when we rerun all the cells in the notebook. After it runs the first time, the result is always that the dataset is fine, and so after running it once it can be skipped. "
   ]
  },
  {
   "cell_type": "code",
   "execution_count": 192,
   "metadata": {
    "ExecuteTime": {
     "end_time": "2020-04-21T01:54:36.803020Z",
     "start_time": "2020-04-21T01:54:36.795349Z"
    },
    "colab": {},
    "colab_type": "code",
    "id": "baO2hUvokRLJ"
   },
   "outputs": [],
   "source": [
    "# Sources: https://opensource.com/article/17/2/python-tricks-artists\n",
    "# See also: https://stackoverflow.com/questions/46232981/userwarning-possibly-corrupt-exif-data-while-classifying-images\n",
    "# See also: https://github.com/python-pillow/Pillow/issues/3352\n",
    "import glob\n",
    "from PIL import Image\n",
    "from tqdm import tqdm_notebook as tqdm\n",
    "\n",
    "test=False\n",
    "if test:\n",
    "    total=0\n",
    "    broken=0\n",
    "    for filename in tqdm(glob.glob(PATH+\"*/*/*.jpg\")):\n",
    "        try:\n",
    "            total+=1\n",
    "            img = Image.open(filename) # open the image file\n",
    "            img.verify() # verify that it is, in fact an image\n",
    "            exif_data = img._getexif()\n",
    "        except (IOError, SyntaxError, ValueError,AttributeError,UserWarning) as e:\n",
    "            broken+=1\n",
    "            print('Bad file:', filename) # print out the names of corrupt files\n",
    "            !rm {filename.replace(\" \",\"\\ \")}\n",
    "    print(broken/total,broken,total)"
   ]
  },
  {
   "cell_type": "markdown",
   "metadata": {
    "colab_type": "text",
    "id": "zF9uvbXNVrVY"
   },
   "source": [
    "## Import Packages"
   ]
  },
  {
   "cell_type": "code",
   "execution_count": 208,
   "metadata": {
    "ExecuteTime": {
     "end_time": "2020-04-21T02:13:49.861488Z",
     "start_time": "2020-04-21T02:13:49.856159Z"
    },
    "colab": {},
    "colab_type": "code",
    "id": "L1WtoaOHVrVh"
   },
   "outputs": [],
   "source": [
    "import tensorflow as tf\n",
    "from tensorflow.keras.models import Sequential\n",
    "from tensorflow.keras.layers import Dense, Conv2D, Flatten, Dropout, MaxPooling2D\n",
    "from tensorflow.keras.preprocessing.image import ImageDataGenerator\n",
    "import os\n",
    "import numpy as np\n",
    "import matplotlib.pyplot as plt\n",
    "\n",
    "# This next part is actually important, and the machine learning will not work on the dataset without it\n",
    "# Source: https://stackoverflow.com/questions/12984426/python-pil-ioerror-image-file-truncated-with-big-images\n",
    "from PIL import ImageFile\n",
    "ImageFile.LOAD_TRUNCATED_IMAGES = True"
   ]
  },
  {
   "cell_type": "markdown",
   "metadata": {
    "colab_type": "text",
    "id": "UZZI6lNkVrVm"
   },
   "source": [
    "## Load data"
   ]
  },
  {
   "cell_type": "markdown",
   "metadata": {
    "colab_type": "text",
    "id": "Giv0wMQzVrVw"
   },
   "source": [
    "This part of the notebook is based upon a Tensorflow <a href=\"https://colab.research.google.com/github/tensorflow/docs/blob/master/site/en/tutorials/images/classification.ipynb\" target=\"_blank\">Google Collab tutorial on classifying cat and dog images</a>. \n",
    "\n",
    "Their dataset had the following directory structure:\n",
    "\n",
    "<pre>\n",
    "<b>cats_and_dogs_filtered</b>\n",
    "|__ <b>train</b>\n",
    "    |______ <b>cats</b>: [cat.0.jpg, cat.1.jpg, cat.2.jpg ....]\n",
    "    |______ <b>dogs</b>: [dog.0.jpg, dog.1.jpg, dog.2.jpg ...]\n",
    "|__ <b>validation</b>\n",
    "    |______ <b>cats</b>: [cat.2000.jpg, cat.2001.jpg, cat.2002.jpg ....]\n",
    "    |______ <b>dogs</b>: [dog.2000.jpg, dog.2001.jpg, dog.2002.jpg ...]\n",
    "</pre>\n",
    "\n",
    "Our dataset has this identical directory structure:\n",
    "\n",
    "<pre>\n",
    "<b>PATH</b>\n",
    "|__ <b>train</b>\n",
    "    |______ <b>console</b>: [...]\n",
    "    |______ <b>gene</b>: [...]\n",
    "    ...\n",
    "|__ <b>validation</b>\n",
    "    |______ <b>console</b>: [...]\n",
    "    |______ <b>gene</b>: [...]\n",
    "    ...\n",
    "</pre>"
   ]
  },
  {
   "cell_type": "code",
   "execution_count": 209,
   "metadata": {
    "ExecuteTime": {
     "end_time": "2020-04-21T02:13:52.303238Z",
     "start_time": "2020-04-21T02:13:52.296216Z"
    },
    "colab": {},
    "colab_type": "code",
    "id": "sRucI3QqVrVy"
   },
   "outputs": [
    {
     "data": {
      "text/plain": [
       "(['/home/lemay/daniel/thesis_redo/train/console',\n",
       "  '/home/lemay/daniel/thesis_redo/train/gene',\n",
       "  '/home/lemay/daniel/thesis_redo/train/eclipse',\n",
       "  '/home/lemay/daniel/thesis_redo/train/facebook',\n",
       "  '/home/lemay/daniel/thesis_redo/train/legal'],\n",
       " ['/home/lemay/daniel/thesis_redo/validation/console',\n",
       "  '/home/lemay/daniel/thesis_redo/validation/gene',\n",
       "  '/home/lemay/daniel/thesis_redo/validation/eclipse',\n",
       "  '/home/lemay/daniel/thesis_redo/validation/facebook',\n",
       "  '/home/lemay/daniel/thesis_redo/validation/legal'])"
      ]
     },
     "execution_count": 209,
     "metadata": {},
     "output_type": "execute_result"
    }
   ],
   "source": [
    "train_dir = os.path.join(PATH, 'train')\n",
    "validation_dir = os.path.join(PATH, 'validation')\n",
    "\n",
    "categories=os.listdir(train_dir)\n",
    "# directories with our training pictures\n",
    "train_dirs= [os.path.join(train_dir, cat) for cat in categories]  \n",
    "# directories with our validation pictures\n",
    "validation_dirs = [os.path.join(validation_dir, cat) for cat in categories]  \n",
    "train_dirs,validation_dirs"
   ]
  },
  {
   "cell_type": "markdown",
   "metadata": {
    "colab_type": "text",
    "id": "ZdrHHTy2VrV3"
   },
   "source": [
    "## Understand the data. Look at the data with our eyes."
   ]
  },
  {
   "cell_type": "code",
   "execution_count": 210,
   "metadata": {
    "ExecuteTime": {
     "end_time": "2020-04-21T02:13:53.772059Z",
     "start_time": "2020-04-21T02:13:53.762876Z"
    },
    "colab": {},
    "colab_type": "code",
    "id": "vc4u8e9hVrV4"
   },
   "outputs": [
    {
     "name": "stdout",
     "output_type": "stream",
     "text": [
      "7105 training images, and 50 validation images on 5 categories\n"
     ]
    }
   ],
   "source": [
    "# count the number of training (num_tr) and validation images (num_val) in each folder\n",
    "num_tr =  [len(os.listdir(aDir)) for aDir in train_dirs]\n",
    "num_val = [len(os.listdir(aDir)) for aDir in validation_dirs]\n",
    "\n",
    "# count the total number of training and validation images\n",
    "total_train = sum(num_tr)\n",
    "total_val = sum(num_val)\n",
    "print(\"{} training images, and {} validation images on {} categories\"\n",
    "      .format(total_train,total_val,len(num_tr)))"
   ]
  },
  {
   "cell_type": "markdown",
   "metadata": {},
   "source": [
    "### Check for dataset imbalance"
   ]
  },
  {
   "cell_type": "code",
   "execution_count": 211,
   "metadata": {
    "ExecuteTime": {
     "end_time": "2020-04-21T02:13:55.546555Z",
     "start_time": "2020-04-21T02:13:55.535698Z"
    },
    "colab": {},
    "colab_type": "code",
    "id": "g4GGzGt0VrV7"
   },
   "outputs": [
    {
     "name": "stdout",
     "output_type": "stream",
     "text": [
      "console total training images: 638\n",
      "gene total training images: 970\n",
      "eclipse total training images: 1679\n",
      "facebook total training images: 882\n",
      "legal total training images: 2936\n"
     ]
    },
    {
     "data": {
      "text/plain": [
       "{'console': 4.601880877742946,\n",
       " 'gene': 3.02680412371134,\n",
       " 'eclipse': 1.748659916617034,\n",
       " 'facebook': 3.328798185941043,\n",
       " 'legal': 1.0}"
      ]
     },
     "execution_count": 211,
     "metadata": {},
     "output_type": "execute_result"
    }
   ],
   "source": [
    "from collections import Counter\n",
    "counts={}\n",
    "for cat in train_dirs:\n",
    "    clss=cat.split(\"/\")[-1]\n",
    "    count=len(os.listdir(cat))\n",
    "    print('{} total training images: {}'.format(clss, count))\n",
    "    counts[clss]=count\n",
    "\n",
    "# Source: https://github.com/keras-team/keras/issues/1875\n",
    "def get_class_weights(y):\n",
    "    counter = Counter(y)\n",
    "    majority = max(counter.values())\n",
    "    return  {cls: float(majority/count) for cls, count in counter.items()}    \n",
    "\n",
    "class_weights=get_class_weights(counts)\n",
    "class_weights"
   ]
  },
  {
   "cell_type": "markdown",
   "metadata": {},
   "source": [
    "Let's check our work. The console class is the smallest class (638 training samples), and it got the highest weight (4.6). The legal class is the biggest (2936 training samples), and it got the lowest weight (1.0). <a href=\"https://www.dictionary.com/e/acronyms/lgtm/\" target=\"_blank\">LGTM</a>."
   ]
  },
  {
   "cell_type": "markdown",
   "metadata": {
    "colab_type": "text",
    "id": "8Lp-0ejxOtP1"
   },
   "source": [
    "### Set parameters for pre-processing the dataset and training the network."
   ]
  },
  {
   "cell_type": "markdown",
   "metadata": {},
   "source": [
    "Note: I did a lot of fiddling with the image sizes to find which sizes are too small for me to do the tasks of classifying image screenshots. The intuition is that you want to downsample the data, but not so much that the differentiating features disappear."
   ]
  },
  {
   "cell_type": "code",
   "execution_count": 212,
   "metadata": {
    "ExecuteTime": {
     "end_time": "2020-04-21T02:13:59.054525Z",
     "start_time": "2020-04-21T02:13:59.049828Z"
    },
    "colab": {},
    "colab_type": "code",
    "id": "3NqNselLVrWA"
   },
   "outputs": [],
   "source": [
    "batch_size = 32\n",
    "epochs = 15\n",
    "IMG_HEIGHT = 128\n",
    "IMG_WIDTH = 128"
   ]
  },
  {
   "cell_type": "markdown",
   "metadata": {
    "colab_type": "text",
    "id": "INn-cOn1VrWC"
   },
   "source": [
    "### Data preparation"
   ]
  },
  {
   "cell_type": "markdown",
   "metadata": {
    "colab_type": "text",
    "id": "5Jfk6aSAVrWD"
   },
   "source": [
    "Source: https://www.tensorflow.org/tutorials/images/classification\n",
    "\n",
    "Format the images into appropriately pre-processed floating point tensors before feeding to the network:\n",
    "\n",
    "1. Read images from the disk.\n",
    "2. Decode contents of these images and convert it into proper grid format as per their RGB content.\n",
    "3. Convert them into floating point tensors.\n",
    "4. Rescale the tensors from values between 0 and 255 to values between 0 and 1, as neural networks prefer to deal with small input values.\n",
    "\n",
    "Use `ImageDataGenerator` in `tf.keras` to read images from disk and preprocess them into proper tensors. It will also set up generators that convert these images into batches of tensors—helpful when training the network. After defining the generators for training and validation images, the `flow_from_directory` method load images from the disk, applies rescaling, and resizes the images into the required dimensions."
   ]
  },
  {
   "cell_type": "code",
   "execution_count": 214,
   "metadata": {
    "ExecuteTime": {
     "end_time": "2020-04-21T02:14:08.680748Z",
     "start_time": "2020-04-21T02:14:08.454730Z"
    },
    "colab": {},
    "colab_type": "code",
    "id": "syDdF_LWVrWE"
   },
   "outputs": [
    {
     "name": "stdout",
     "output_type": "stream",
     "text": [
      "Found 7105 images belonging to 5 classes.\n"
     ]
    }
   ],
   "source": [
    "# Generator for our training data\n",
    "train_image_generator = ImageDataGenerator(rescale=1./255) \n",
    "# Generator for our validation data\n",
    "validation_image_generator = ImageDataGenerator(rescale=1./255) \n",
    "# Create the training data generator\n",
    "train_data_gen = train_image_generator.flow_from_directory(batch_size=batch_size,\n",
    "                                                           directory=train_dir,\n",
    "                                                           shuffle=True,\n",
    "                                                           target_size=(IMG_HEIGHT, IMG_WIDTH))"
   ]
  },
  {
   "cell_type": "code",
   "execution_count": 215,
   "metadata": {
    "ExecuteTime": {
     "end_time": "2020-04-21T02:14:09.686157Z",
     "start_time": "2020-04-21T02:14:09.573522Z"
    },
    "colab": {},
    "colab_type": "code",
    "id": "2oUoKUzRVrWM"
   },
   "outputs": [
    {
     "name": "stdout",
     "output_type": "stream",
     "text": [
      "Found 50 images belonging to 5 classes.\n"
     ]
    }
   ],
   "source": [
    "# Create the validation data generator\n",
    "val_data_gen = validation_image_generator.flow_from_directory(batch_size=batch_size,\n",
    "                                                              directory=validation_dir,\n",
    "                                                              target_size=(IMG_HEIGHT, IMG_WIDTH))"
   ]
  },
  {
   "cell_type": "markdown",
   "metadata": {
    "colab_type": "text",
    "id": "hyexPJ8CVrWP"
   },
   "source": [
    "### Visualize the image data"
   ]
  },
  {
   "cell_type": "markdown",
   "metadata": {
    "colab_type": "text",
    "id": "60CnhEL4VrWQ"
   },
   "source": [
    "Source: https://www.tensorflow.org/tutorials/images/classification\n",
    "\n",
    "Visualize the training images by extracting a batch of images from the training generator—which is 32 images in this example—then plot five of them with `matplotlib`. The `next` function returns a batch from the dataset. The return value of `next` function is in form of `(x_train, y_train)` where x_train is training features and y_train, its labels. Discard the labels to only visualize the training images."
   ]
  },
  {
   "cell_type": "code",
   "execution_count": 216,
   "metadata": {
    "ExecuteTime": {
     "end_time": "2020-04-21T02:14:16.253762Z",
     "start_time": "2020-04-21T02:14:15.730977Z"
    },
    "colab": {},
    "colab_type": "code",
    "id": "JMt2RES_VrWU"
   },
   "outputs": [
    {
     "data": {
      "image/png": "[encoded data removed]",
      "text/plain": [
       "<Figure size 1440x1440 with 5 Axes>"
      ]
     },
     "metadata": {
      "needs_background": "light"
     },
     "output_type": "display_data"
    }
   ],
   "source": [
    "sample_training_images, _ = next(train_data_gen)\n",
    "\n",
    "# This function will plot images in the form of a grid with 1 row and 5 columns where images are placed in each column.\n",
    "def plotImages(images_arr):\n",
    "    fig, axes = plt.subplots(1, 5, figsize=(20,20))\n",
    "    axes = axes.flatten()\n",
    "    for img, ax in zip( images_arr, axes):\n",
    "        ax.imshow(img)\n",
    "        ax.axis('off')\n",
    "    plt.tight_layout()\n",
    "    plt.show()\n",
    "    \n",
    "plotImages(sample_training_images[:5])"
   ]
  },
  {
   "cell_type": "markdown",
   "metadata": {},
   "source": [
    "We can see in this data preview that the data is pretty hard to make out. For example, screenshots of facebook, the Eclipse IDE, and a black terminal console are to me, a human, pretty easy to tell apart, but the difference between a research paper on genetics (the gene class) and legal documents (the legal class) are hard to tell apart. I made a point ot browse the images in Windows file explorer, to become more familiar with the images in the dataset."
   ]
  },
  {
   "cell_type": "code",
   "execution_count": null,
   "metadata": {},
   "outputs": [],
   "source": [
    "# Source: https://scikit-image.org/docs/dev/auto_examples/color_exposure/plot_equalize.html\n",
    "\n",
    "import matplotlib\n",
    "import matplotlib.pyplot as plt\n",
    "import numpy as np\n",
    "\n",
    "from skimage import data, img_as_float\n",
    "from skimage import exposure\n",
    "\n",
    "matplotlib.rcParams['font.size'] = 8\n",
    "\n",
    "def plot_img_and_hist(image, axes, bins=256):\n",
    "    \"\"\"Plot an image along with its histogram and cumulative histogram.\n",
    "\n",
    "    \"\"\"\n",
    "    image = img_as_float(image)\n",
    "    ax_img, ax_hist = axes\n",
    "    ax_cdf = ax_hist.twinx()\n",
    "\n",
    "    # Display image\n",
    "    ax_img.imshow(image, cmap=plt.cm.gray)\n",
    "    ax_img.set_axis_off()\n",
    "\n",
    "    # Display histogram\n",
    "    ax_hist.hist(image.ravel(), bins=bins, histtype='step', color='black')\n",
    "    ax_hist.ticklabel_format(axis='y', style='scientific', scilimits=(0, 0))\n",
    "    ax_hist.set_xlabel('Pixel intensity')\n",
    "    ax_hist.set_xlim(0, 1)\n",
    "    ax_hist.set_yticks([])\n",
    "\n",
    "    # Display cumulative distribution\n",
    "    img_cdf, bins = exposure.cumulative_distribution(image, bins)\n",
    "    ax_cdf.plot(bins, img_cdf, 'r')\n",
    "    ax_cdf.set_yticks([])\n",
    "\n",
    "    return ax_img, ax_hist, ax_cdf\n",
    "\n",
    "for _ in tqdm(range(5)):\n",
    "    print(\"=============\")\n",
    "    data=next(val_data_gen)\n",
    "    # Load an example image\n",
    "    img = data[0][0]\n",
    "    print(img.shape)\n",
    "    from PIL import Image\n",
    "    im = Image.fromarray(np.uint8(cm.gist_earth(img)*255))\n",
    "    \n",
    "    print(im.histogram().shape)\n",
    "    print(\"LABEL==\",np.argmax(data[1][0]))\n",
    "    # Contrast stretching\n",
    "    p2, p98 = np.percentile(img, (2, 98))\n",
    "    img_rescale = exposure.rescale_intensity(img, in_range=(p2, p98))\n",
    "\n",
    "    # Equalization\n",
    "    img_eq = exposure.equalize_hist(img)\n",
    "\n",
    "    # Adaptive Equalization\n",
    "    img_adapteq = exposure.equalize_adapthist(img, clip_limit=0.03)\n",
    "\n",
    "    # Display results\n",
    "    fig = plt.figure(figsize=(8, 5))\n",
    "    axes = np.zeros((2, 4), dtype=np.object)\n",
    "    axes[0, 0] = fig.add_subplot(2, 4, 1)\n",
    "    for i in range(1, 4):\n",
    "        axes[0, i] = fig.add_subplot(2, 4, 1+i, sharex=axes[0,0], sharey=axes[0,0])\n",
    "    for i in range(0, 4):\n",
    "        axes[1, i] = fig.add_subplot(2, 4, 5+i)\n",
    "\n",
    "    ax_img, ax_hist, ax_cdf = plot_img_and_hist(img, axes[:, 0])\n",
    "    ax_img.set_title('Low contrast image')\n",
    "\n",
    "    y_min, y_max = ax_hist.get_ylim()\n",
    "    ax_hist.set_ylabel('Number of pixels')\n",
    "    ax_hist.set_yticks(np.linspace(0, y_max, 5))\n",
    "\n",
    "    ax_img, ax_hist, ax_cdf = plot_img_and_hist(img_rescale, axes[:, 1])\n",
    "    ax_img.set_title('Contrast stretching')\n",
    "\n",
    "    ax_img, ax_hist, ax_cdf = plot_img_and_hist(img_eq, axes[:, 2])\n",
    "    ax_img.set_title('Histogram equalization')\n",
    "\n",
    "    ax_img, ax_hist, ax_cdf = plot_img_and_hist(img_adapteq, axes[:, 3])\n",
    "    ax_img.set_title('Adaptive equalization')\n",
    "\n",
    "    ax_cdf.set_ylabel('Fraction of total intensity')\n",
    "    ax_cdf.set_yticks(np.linspace(0, 1, 5))\n",
    "\n",
    "    # prevent overlap of y-axis labels\n",
    "    fig.tight_layout()\n",
    "    plt.show()"
   ]
  },
  {
   "cell_type": "markdown",
   "metadata": {
    "colab_type": "text",
    "id": "b5Ej-HLGVrWZ"
   },
   "source": [
    "## Create compile and summarize a convolutional NN model from random weights"
   ]
  },
  {
   "cell_type": "markdown",
   "metadata": {
    "colab_type": "text",
    "id": "wEgW4i18VrWZ"
   },
   "source": [
    "Source: https://www.tensorflow.org/tutorials/images/classification\n",
    "\n",
    "The model consists of three convolution blocks with a max pool layer in each of them. There's a fully connected layer with 512 units on top of it that is activated by a `relu` activation function. The Tensorflow tutorial chose the *ADAM* optimizer and *binary cross entropy* loss function."
   ]
  },
  {
   "cell_type": "code",
   "execution_count": 217,
   "metadata": {
    "ExecuteTime": {
     "end_time": "2020-04-21T02:21:32.879435Z",
     "start_time": "2020-04-21T02:21:32.790566Z"
    },
    "colab": {},
    "colab_type": "code",
    "id": "F15-uwLPVrWa"
   },
   "outputs": [
    {
     "name": "stdout",
     "output_type": "stream",
     "text": [
      "Model: \"sequential\"\n",
      "_________________________________________________________________\n",
      "Layer (type)                 Output Shape              Param #   \n",
      "=================================================================\n",
      "conv2d (Conv2D)              (None, 128, 128, 16)      448       \n",
      "_________________________________________________________________\n",
      "max_pooling2d (MaxPooling2D) (None, 64, 64, 16)        0         \n",
      "_________________________________________________________________\n",
      "conv2d_1 (Conv2D)            (None, 64, 64, 32)        4640      \n",
      "_________________________________________________________________\n",
      "max_pooling2d_1 (MaxPooling2 (None, 32, 32, 32)        0         \n",
      "_________________________________________________________________\n",
      "conv2d_2 (Conv2D)            (None, 32, 32, 64)        18496     \n",
      "_________________________________________________________________\n",
      "max_pooling2d_2 (MaxPooling2 (None, 16, 16, 64)        0         \n",
      "_________________________________________________________________\n",
      "flatten (Flatten)            (None, 16384)             0         \n",
      "_________________________________________________________________\n",
      "dense (Dense)                (None, 512)               8389120   \n",
      "_________________________________________________________________\n",
      "dense_1 (Dense)              (None, 5)                 2565      \n",
      "=================================================================\n",
      "Total params: 8,415,269\n",
      "Trainable params: 8,415,269\n",
      "Non-trainable params: 0\n",
      "_________________________________________________________________\n"
     ]
    }
   ],
   "source": [
    "model = Sequential([\n",
    "    Conv2D(16, 3, padding='same', activation='relu', input_shape=(IMG_HEIGHT, IMG_WIDTH ,3)),\n",
    "    MaxPooling2D(),\n",
    "    Conv2D(32, 3, padding='same', activation='relu'),\n",
    "    MaxPooling2D(),\n",
    "    Conv2D(64, 3, padding='same', activation='relu'),\n",
    "    MaxPooling2D(),\n",
    "    Flatten(),\n",
    "    Dense(512, activation='relu'),\n",
    "    Dense(5)\n",
    "])\n",
    "\n",
    "model.compile(optimizer='adam',\n",
    "              loss=tf.keras.losses.CategoricalCrossentropy(),\n",
    "              metrics=['accuracy'])\n",
    "model.summary()"
   ]
  },
  {
   "cell_type": "markdown",
   "metadata": {
    "colab_type": "text",
    "id": "N06iqE8VVrWj"
   },
   "source": [
    "### Train the CNN model, and see what goes wrong"
   ]
  },
  {
   "cell_type": "markdown",
   "metadata": {
    "colab_type": "text",
    "id": "oub9RtoFVrWk"
   },
   "source": [
    "Use the `fit_generator` method of the `ImageDataGenerator` class to train the network."
   ]
  },
  {
   "cell_type": "code",
   "execution_count": 40,
   "metadata": {
    "ExecuteTime": {
     "end_time": "2020-04-20T03:34:08.795684Z",
     "start_time": "2020-04-20T03:15:10.502642Z"
    },
    "colab": {},
    "colab_type": "code",
    "id": "KSF2HqhDVrWk"
   },
   "outputs": [
    {
     "name": "stderr",
     "output_type": "stream",
     "text": [
      "W0419 23:15:11.274147 140288296396544 data_adapter.py:1091] sample_weight modes were coerced from\n",
      "  ...\n",
      "    to  \n",
      "  ['...']\n",
      "W0419 23:15:11.584211 140288296396544 data_adapter.py:1091] sample_weight modes were coerced from\n",
      "  ...\n",
      "    to  \n",
      "  ['...']\n"
     ]
    },
    {
     "name": "stdout",
     "output_type": "stream",
     "text": [
      "Train for 55 steps, validate for 1 steps\n",
      "Epoch 1/15\n",
      "55/55 [==============================] - 85s 2s/step - loss: 8.0087 - accuracy: 0.0897 - val_loss: 9.6709 - val_accuracy: 0.2000\n",
      "Epoch 2/15\n",
      "55/55 [==============================] - 84s 2s/step - loss: 8.0064 - accuracy: 0.0894 - val_loss: 9.6709 - val_accuracy: 0.2000\n",
      "Epoch 3/15\n",
      "55/55 [==============================] - 84s 2s/step - loss: 8.0179 - accuracy: 0.0902 - val_loss: 9.6709 - val_accuracy: 0.2000\n",
      "Epoch 4/15\n",
      "55/55 [==============================] - 84s 2s/step - loss: 8.0179 - accuracy: 0.0897 - val_loss: 9.6709 - val_accuracy: 0.2000\n",
      "Epoch 5/15\n",
      "55/55 [==============================] - 84s 2s/step - loss: 8.0019 - accuracy: 0.0900 - val_loss: 9.6709 - val_accuracy: 0.2000\n",
      "Epoch 6/15\n",
      "55/55 [==============================] - 84s 2s/step - loss: 8.0064 - accuracy: 0.0892 - val_loss: 9.6709 - val_accuracy: 0.2000\n",
      "Epoch 7/15\n",
      "55/55 [==============================] - 84s 2s/step - loss: 8.0270 - accuracy: 0.0892 - val_loss: 9.6709 - val_accuracy: 0.2000\n",
      "Epoch 8/15\n",
      "55/55 [==============================] - 84s 2s/step - loss: 7.9927 - accuracy: 0.0899 - val_loss: 9.6709 - val_accuracy: 0.2000\n",
      "Epoch 9/15\n",
      "55/55 [==============================] - 84s 2s/step - loss: 8.0019 - accuracy: 0.0896 - val_loss: 9.6709 - val_accuracy: 0.2000\n",
      "Epoch 10/15\n",
      "55/55 [==============================] - 84s 2s/step - loss: 8.0179 - accuracy: 0.0899 - val_loss: 9.6709 - val_accuracy: 0.2000\n",
      "Epoch 11/15\n",
      "55/55 [==============================] - 84s 2s/step - loss: 8.0248 - accuracy: 0.0902 - val_loss: 9.6709 - val_accuracy: 0.2000\n",
      "Epoch 12/15\n",
      "55/55 [==============================] - 84s 2s/step - loss: 8.0179 - accuracy: 0.0902 - val_loss: 9.6709 - val_accuracy: 0.2000\n",
      "Epoch 13/15\n",
      "55/55 [==============================] - 84s 2s/step - loss: 8.0041 - accuracy: 0.0894 - val_loss: 9.6709 - val_accuracy: 0.2000\n",
      "Epoch 14/15\n",
      "31/55 [===============>..............] - ETA: 36s - loss: 7.9878 - accuracy: 0.0853"
     ]
    },
    {
     "ename": "KeyboardInterrupt",
     "evalue": "",
     "output_type": "error",
     "traceback": [
      "\u001b[0;31m---------------------------------------------------------------------------\u001b[0m",
      "\u001b[0;31mKeyboardInterrupt\u001b[0m                         Traceback (most recent call last)",
      "\u001b[0;32m<ipython-input-40-01c6f78f4d4f>\u001b[0m in \u001b[0;36m<module>\u001b[0;34m\u001b[0m\n\u001b[1;32m      4\u001b[0m     \u001b[0mepochs\u001b[0m\u001b[0;34m=\u001b[0m\u001b[0mepochs\u001b[0m\u001b[0;34m,\u001b[0m\u001b[0;34m\u001b[0m\u001b[0;34m\u001b[0m\u001b[0m\n\u001b[1;32m      5\u001b[0m     \u001b[0mvalidation_data\u001b[0m\u001b[0;34m=\u001b[0m\u001b[0mval_data_gen\u001b[0m\u001b[0;34m,\u001b[0m\u001b[0;34m\u001b[0m\u001b[0;34m\u001b[0m\u001b[0m\n\u001b[0;32m----> 6\u001b[0;31m     \u001b[0mvalidation_steps\u001b[0m\u001b[0;34m=\u001b[0m\u001b[0mtotal_val\u001b[0m \u001b[0;34m//\u001b[0m \u001b[0mbatch_size\u001b[0m\u001b[0;34m\u001b[0m\u001b[0;34m\u001b[0m\u001b[0m\n\u001b[0m\u001b[1;32m      7\u001b[0m )\n",
      "\u001b[0;32m/home/lemay/py_36_env/lib/python3.6/site-packages/tensorflow_core/python/util/deprecation.py\u001b[0m in \u001b[0;36mnew_func\u001b[0;34m(*args, **kwargs)\u001b[0m\n\u001b[1;32m    322\u001b[0m               \u001b[0;34m'in a future version'\u001b[0m \u001b[0;32mif\u001b[0m \u001b[0mdate\u001b[0m \u001b[0;32mis\u001b[0m \u001b[0;32mNone\u001b[0m \u001b[0;32melse\u001b[0m \u001b[0;34m(\u001b[0m\u001b[0;34m'after %s'\u001b[0m \u001b[0;34m%\u001b[0m \u001b[0mdate\u001b[0m\u001b[0;34m)\u001b[0m\u001b[0;34m,\u001b[0m\u001b[0;34m\u001b[0m\u001b[0;34m\u001b[0m\u001b[0m\n\u001b[1;32m    323\u001b[0m               instructions)\n\u001b[0;32m--> 324\u001b[0;31m       \u001b[0;32mreturn\u001b[0m \u001b[0mfunc\u001b[0m\u001b[0;34m(\u001b[0m\u001b[0;34m*\u001b[0m\u001b[0margs\u001b[0m\u001b[0;34m,\u001b[0m \u001b[0;34m**\u001b[0m\u001b[0mkwargs\u001b[0m\u001b[0;34m)\u001b[0m\u001b[0;34m\u001b[0m\u001b[0;34m\u001b[0m\u001b[0m\n\u001b[0m\u001b[1;32m    325\u001b[0m     return tf_decorator.make_decorator(\n\u001b[1;32m    326\u001b[0m         \u001b[0mfunc\u001b[0m\u001b[0;34m,\u001b[0m \u001b[0mnew_func\u001b[0m\u001b[0;34m,\u001b[0m \u001b[0;34m'deprecated'\u001b[0m\u001b[0;34m,\u001b[0m\u001b[0;34m\u001b[0m\u001b[0;34m\u001b[0m\u001b[0m\n",
      "\u001b[0;32m/home/lemay/py_36_env/lib/python3.6/site-packages/tensorflow_core/python/keras/engine/training.py\u001b[0m in \u001b[0;36mfit_generator\u001b[0;34m(self, generator, steps_per_epoch, epochs, verbose, callbacks, validation_data, validation_steps, validation_freq, class_weight, max_queue_size, workers, use_multiprocessing, shuffle, initial_epoch)\u001b[0m\n\u001b[1;32m   1304\u001b[0m         \u001b[0muse_multiprocessing\u001b[0m\u001b[0;34m=\u001b[0m\u001b[0muse_multiprocessing\u001b[0m\u001b[0;34m,\u001b[0m\u001b[0;34m\u001b[0m\u001b[0;34m\u001b[0m\u001b[0m\n\u001b[1;32m   1305\u001b[0m         \u001b[0mshuffle\u001b[0m\u001b[0;34m=\u001b[0m\u001b[0mshuffle\u001b[0m\u001b[0;34m,\u001b[0m\u001b[0;34m\u001b[0m\u001b[0;34m\u001b[0m\u001b[0m\n\u001b[0;32m-> 1306\u001b[0;31m         initial_epoch=initial_epoch)\n\u001b[0m\u001b[1;32m   1307\u001b[0m \u001b[0;34m\u001b[0m\u001b[0m\n\u001b[1;32m   1308\u001b[0m   @deprecation.deprecated(\n",
      "\u001b[0;32m/home/lemay/py_36_env/lib/python3.6/site-packages/tensorflow_core/python/keras/engine/training.py\u001b[0m in \u001b[0;36mfit\u001b[0;34m(self, x, y, batch_size, epochs, verbose, callbacks, validation_split, validation_data, shuffle, class_weight, sample_weight, initial_epoch, steps_per_epoch, validation_steps, validation_freq, max_queue_size, workers, use_multiprocessing, **kwargs)\u001b[0m\n\u001b[1;32m    817\u001b[0m         \u001b[0mmax_queue_size\u001b[0m\u001b[0;34m=\u001b[0m\u001b[0mmax_queue_size\u001b[0m\u001b[0;34m,\u001b[0m\u001b[0;34m\u001b[0m\u001b[0;34m\u001b[0m\u001b[0m\n\u001b[1;32m    818\u001b[0m         \u001b[0mworkers\u001b[0m\u001b[0;34m=\u001b[0m\u001b[0mworkers\u001b[0m\u001b[0;34m,\u001b[0m\u001b[0;34m\u001b[0m\u001b[0;34m\u001b[0m\u001b[0m\n\u001b[0;32m--> 819\u001b[0;31m         use_multiprocessing=use_multiprocessing)\n\u001b[0m\u001b[1;32m    820\u001b[0m \u001b[0;34m\u001b[0m\u001b[0m\n\u001b[1;32m    821\u001b[0m   def evaluate(self,\n",
      "\u001b[0;32m/home/lemay/py_36_env/lib/python3.6/site-packages/tensorflow_core/python/keras/engine/training_v2.py\u001b[0m in \u001b[0;36mfit\u001b[0;34m(self, model, x, y, batch_size, epochs, verbose, callbacks, validation_split, validation_data, shuffle, class_weight, sample_weight, initial_epoch, steps_per_epoch, validation_steps, validation_freq, max_queue_size, workers, use_multiprocessing, **kwargs)\u001b[0m\n\u001b[1;32m    340\u001b[0m                 \u001b[0mmode\u001b[0m\u001b[0;34m=\u001b[0m\u001b[0mModeKeys\u001b[0m\u001b[0;34m.\u001b[0m\u001b[0mTRAIN\u001b[0m\u001b[0;34m,\u001b[0m\u001b[0;34m\u001b[0m\u001b[0;34m\u001b[0m\u001b[0m\n\u001b[1;32m    341\u001b[0m                 \u001b[0mtraining_context\u001b[0m\u001b[0;34m=\u001b[0m\u001b[0mtraining_context\u001b[0m\u001b[0;34m,\u001b[0m\u001b[0;34m\u001b[0m\u001b[0;34m\u001b[0m\u001b[0m\n\u001b[0;32m--> 342\u001b[0;31m                 total_epochs=epochs)\n\u001b[0m\u001b[1;32m    343\u001b[0m             \u001b[0mcbks\u001b[0m\u001b[0;34m.\u001b[0m\u001b[0mmake_logs\u001b[0m\u001b[0;34m(\u001b[0m\u001b[0mmodel\u001b[0m\u001b[0;34m,\u001b[0m \u001b[0mepoch_logs\u001b[0m\u001b[0;34m,\u001b[0m \u001b[0mtraining_result\u001b[0m\u001b[0;34m,\u001b[0m \u001b[0mModeKeys\u001b[0m\u001b[0;34m.\u001b[0m\u001b[0mTRAIN\u001b[0m\u001b[0;34m)\u001b[0m\u001b[0;34m\u001b[0m\u001b[0;34m\u001b[0m\u001b[0m\n\u001b[1;32m    344\u001b[0m \u001b[0;34m\u001b[0m\u001b[0m\n",
      "\u001b[0;32m/home/lemay/py_36_env/lib/python3.6/site-packages/tensorflow_core/python/keras/engine/training_v2.py\u001b[0m in \u001b[0;36mrun_one_epoch\u001b[0;34m(model, iterator, execution_function, dataset_size, batch_size, strategy, steps_per_epoch, num_samples, mode, training_context, total_epochs)\u001b[0m\n\u001b[1;32m    126\u001b[0m         step=step, mode=mode, size=current_batch_size) as batch_logs:\n\u001b[1;32m    127\u001b[0m       \u001b[0;32mtry\u001b[0m\u001b[0;34m:\u001b[0m\u001b[0;34m\u001b[0m\u001b[0;34m\u001b[0m\u001b[0m\n\u001b[0;32m--> 128\u001b[0;31m         \u001b[0mbatch_outs\u001b[0m \u001b[0;34m=\u001b[0m \u001b[0mexecution_function\u001b[0m\u001b[0;34m(\u001b[0m\u001b[0miterator\u001b[0m\u001b[0;34m)\u001b[0m\u001b[0;34m\u001b[0m\u001b[0;34m\u001b[0m\u001b[0m\n\u001b[0m\u001b[1;32m    129\u001b[0m       \u001b[0;32mexcept\u001b[0m \u001b[0;34m(\u001b[0m\u001b[0mStopIteration\u001b[0m\u001b[0;34m,\u001b[0m \u001b[0merrors\u001b[0m\u001b[0;34m.\u001b[0m\u001b[0mOutOfRangeError\u001b[0m\u001b[0;34m)\u001b[0m\u001b[0;34m:\u001b[0m\u001b[0;34m\u001b[0m\u001b[0;34m\u001b[0m\u001b[0m\n\u001b[1;32m    130\u001b[0m         \u001b[0;31m# TODO(kaftan): File bug about tf function and errors.OutOfRangeError?\u001b[0m\u001b[0;34m\u001b[0m\u001b[0;34m\u001b[0m\u001b[0;34m\u001b[0m\u001b[0m\n",
      "\u001b[0;32m/home/lemay/py_36_env/lib/python3.6/site-packages/tensorflow_core/python/keras/engine/training_v2_utils.py\u001b[0m in \u001b[0;36mexecution_function\u001b[0;34m(input_fn)\u001b[0m\n\u001b[1;32m     96\u001b[0m     \u001b[0;31m# `numpy` translates Tensors to values in Eager mode.\u001b[0m\u001b[0;34m\u001b[0m\u001b[0;34m\u001b[0m\u001b[0;34m\u001b[0m\u001b[0m\n\u001b[1;32m     97\u001b[0m     return nest.map_structure(_non_none_constant_value,\n\u001b[0;32m---> 98\u001b[0;31m                               distributed_function(input_fn))\n\u001b[0m\u001b[1;32m     99\u001b[0m \u001b[0;34m\u001b[0m\u001b[0m\n\u001b[1;32m    100\u001b[0m   \u001b[0;32mreturn\u001b[0m \u001b[0mexecution_function\u001b[0m\u001b[0;34m\u001b[0m\u001b[0;34m\u001b[0m\u001b[0m\n",
      "\u001b[0;32m/home/lemay/py_36_env/lib/python3.6/site-packages/tensorflow_core/python/eager/def_function.py\u001b[0m in \u001b[0;36m__call__\u001b[0;34m(self, *args, **kwds)\u001b[0m\n\u001b[1;32m    566\u001b[0m         \u001b[0mxla_context\u001b[0m\u001b[0;34m.\u001b[0m\u001b[0mExit\u001b[0m\u001b[0;34m(\u001b[0m\u001b[0;34m)\u001b[0m\u001b[0;34m\u001b[0m\u001b[0;34m\u001b[0m\u001b[0m\n\u001b[1;32m    567\u001b[0m     \u001b[0;32melse\u001b[0m\u001b[0;34m:\u001b[0m\u001b[0;34m\u001b[0m\u001b[0;34m\u001b[0m\u001b[0m\n\u001b[0;32m--> 568\u001b[0;31m       \u001b[0mresult\u001b[0m \u001b[0;34m=\u001b[0m \u001b[0mself\u001b[0m\u001b[0;34m.\u001b[0m\u001b[0m_call\u001b[0m\u001b[0;34m(\u001b[0m\u001b[0;34m*\u001b[0m\u001b[0margs\u001b[0m\u001b[0;34m,\u001b[0m \u001b[0;34m**\u001b[0m\u001b[0mkwds\u001b[0m\u001b[0;34m)\u001b[0m\u001b[0;34m\u001b[0m\u001b[0;34m\u001b[0m\u001b[0m\n\u001b[0m\u001b[1;32m    569\u001b[0m \u001b[0;34m\u001b[0m\u001b[0m\n\u001b[1;32m    570\u001b[0m     \u001b[0;32mif\u001b[0m \u001b[0mtracing_count\u001b[0m \u001b[0;34m==\u001b[0m \u001b[0mself\u001b[0m\u001b[0;34m.\u001b[0m\u001b[0m_get_tracing_count\u001b[0m\u001b[0;34m(\u001b[0m\u001b[0;34m)\u001b[0m\u001b[0;34m:\u001b[0m\u001b[0;34m\u001b[0m\u001b[0;34m\u001b[0m\u001b[0m\n",
      "\u001b[0;32m/home/lemay/py_36_env/lib/python3.6/site-packages/tensorflow_core/python/eager/def_function.py\u001b[0m in \u001b[0;36m_call\u001b[0;34m(self, *args, **kwds)\u001b[0m\n\u001b[1;32m    597\u001b[0m       \u001b[0;31m# In this case we have created variables on the first call, so we run the\u001b[0m\u001b[0;34m\u001b[0m\u001b[0;34m\u001b[0m\u001b[0;34m\u001b[0m\u001b[0m\n\u001b[1;32m    598\u001b[0m       \u001b[0;31m# defunned version which is guaranteed to never create variables.\u001b[0m\u001b[0;34m\u001b[0m\u001b[0;34m\u001b[0m\u001b[0;34m\u001b[0m\u001b[0m\n\u001b[0;32m--> 599\u001b[0;31m       \u001b[0;32mreturn\u001b[0m \u001b[0mself\u001b[0m\u001b[0;34m.\u001b[0m\u001b[0m_stateless_fn\u001b[0m\u001b[0;34m(\u001b[0m\u001b[0;34m*\u001b[0m\u001b[0margs\u001b[0m\u001b[0;34m,\u001b[0m \u001b[0;34m**\u001b[0m\u001b[0mkwds\u001b[0m\u001b[0;34m)\u001b[0m  \u001b[0;31m# pylint: disable=not-callable\u001b[0m\u001b[0;34m\u001b[0m\u001b[0;34m\u001b[0m\u001b[0m\n\u001b[0m\u001b[1;32m    600\u001b[0m     \u001b[0;32melif\u001b[0m \u001b[0mself\u001b[0m\u001b[0;34m.\u001b[0m\u001b[0m_stateful_fn\u001b[0m \u001b[0;32mis\u001b[0m \u001b[0;32mnot\u001b[0m \u001b[0;32mNone\u001b[0m\u001b[0;34m:\u001b[0m\u001b[0;34m\u001b[0m\u001b[0;34m\u001b[0m\u001b[0m\n\u001b[1;32m    601\u001b[0m       \u001b[0;31m# Release the lock early so that multiple threads can perform the call\u001b[0m\u001b[0;34m\u001b[0m\u001b[0;34m\u001b[0m\u001b[0;34m\u001b[0m\u001b[0m\n",
      "\u001b[0;32m/home/lemay/py_36_env/lib/python3.6/site-packages/tensorflow_core/python/eager/function.py\u001b[0m in \u001b[0;36m__call__\u001b[0;34m(self, *args, **kwargs)\u001b[0m\n\u001b[1;32m   2361\u001b[0m     \u001b[0;32mwith\u001b[0m \u001b[0mself\u001b[0m\u001b[0;34m.\u001b[0m\u001b[0m_lock\u001b[0m\u001b[0;34m:\u001b[0m\u001b[0;34m\u001b[0m\u001b[0;34m\u001b[0m\u001b[0m\n\u001b[1;32m   2362\u001b[0m       \u001b[0mgraph_function\u001b[0m\u001b[0;34m,\u001b[0m \u001b[0margs\u001b[0m\u001b[0;34m,\u001b[0m \u001b[0mkwargs\u001b[0m \u001b[0;34m=\u001b[0m \u001b[0mself\u001b[0m\u001b[0;34m.\u001b[0m\u001b[0m_maybe_define_function\u001b[0m\u001b[0;34m(\u001b[0m\u001b[0margs\u001b[0m\u001b[0;34m,\u001b[0m \u001b[0mkwargs\u001b[0m\u001b[0;34m)\u001b[0m\u001b[0;34m\u001b[0m\u001b[0;34m\u001b[0m\u001b[0m\n\u001b[0;32m-> 2363\u001b[0;31m     \u001b[0;32mreturn\u001b[0m \u001b[0mgraph_function\u001b[0m\u001b[0;34m.\u001b[0m\u001b[0m_filtered_call\u001b[0m\u001b[0;34m(\u001b[0m\u001b[0margs\u001b[0m\u001b[0;34m,\u001b[0m \u001b[0mkwargs\u001b[0m\u001b[0;34m)\u001b[0m  \u001b[0;31m# pylint: disable=protected-access\u001b[0m\u001b[0;34m\u001b[0m\u001b[0;34m\u001b[0m\u001b[0m\n\u001b[0m\u001b[1;32m   2364\u001b[0m \u001b[0;34m\u001b[0m\u001b[0m\n\u001b[1;32m   2365\u001b[0m   \u001b[0;34m@\u001b[0m\u001b[0mproperty\u001b[0m\u001b[0;34m\u001b[0m\u001b[0;34m\u001b[0m\u001b[0m\n",
      "\u001b[0;32m/home/lemay/py_36_env/lib/python3.6/site-packages/tensorflow_core/python/eager/function.py\u001b[0m in \u001b[0;36m_filtered_call\u001b[0;34m(self, args, kwargs)\u001b[0m\n\u001b[1;32m   1609\u001b[0m          if isinstance(t, (ops.Tensor,\n\u001b[1;32m   1610\u001b[0m                            resource_variable_ops.BaseResourceVariable))),\n\u001b[0;32m-> 1611\u001b[0;31m         self.captured_inputs)\n\u001b[0m\u001b[1;32m   1612\u001b[0m \u001b[0;34m\u001b[0m\u001b[0m\n\u001b[1;32m   1613\u001b[0m   \u001b[0;32mdef\u001b[0m \u001b[0m_call_flat\u001b[0m\u001b[0;34m(\u001b[0m\u001b[0mself\u001b[0m\u001b[0;34m,\u001b[0m \u001b[0margs\u001b[0m\u001b[0;34m,\u001b[0m \u001b[0mcaptured_inputs\u001b[0m\u001b[0;34m,\u001b[0m \u001b[0mcancellation_manager\u001b[0m\u001b[0;34m=\u001b[0m\u001b[0;32mNone\u001b[0m\u001b[0;34m)\u001b[0m\u001b[0;34m:\u001b[0m\u001b[0;34m\u001b[0m\u001b[0;34m\u001b[0m\u001b[0m\n",
      "\u001b[0;32m/home/lemay/py_36_env/lib/python3.6/site-packages/tensorflow_core/python/eager/function.py\u001b[0m in \u001b[0;36m_call_flat\u001b[0;34m(self, args, captured_inputs, cancellation_manager)\u001b[0m\n\u001b[1;32m   1690\u001b[0m       \u001b[0;31m# No tape is watching; skip to running the function.\u001b[0m\u001b[0;34m\u001b[0m\u001b[0;34m\u001b[0m\u001b[0;34m\u001b[0m\u001b[0m\n\u001b[1;32m   1691\u001b[0m       return self._build_call_outputs(self._inference_function.call(\n\u001b[0;32m-> 1692\u001b[0;31m           ctx, args, cancellation_manager=cancellation_manager))\n\u001b[0m\u001b[1;32m   1693\u001b[0m     forward_backward = self._select_forward_and_backward_functions(\n\u001b[1;32m   1694\u001b[0m         \u001b[0margs\u001b[0m\u001b[0;34m,\u001b[0m\u001b[0;34m\u001b[0m\u001b[0;34m\u001b[0m\u001b[0m\n",
      "\u001b[0;32m/home/lemay/py_36_env/lib/python3.6/site-packages/tensorflow_core/python/eager/function.py\u001b[0m in \u001b[0;36mcall\u001b[0;34m(self, ctx, args, cancellation_manager)\u001b[0m\n\u001b[1;32m    543\u001b[0m               \u001b[0minputs\u001b[0m\u001b[0;34m=\u001b[0m\u001b[0margs\u001b[0m\u001b[0;34m,\u001b[0m\u001b[0;34m\u001b[0m\u001b[0;34m\u001b[0m\u001b[0m\n\u001b[1;32m    544\u001b[0m               \u001b[0mattrs\u001b[0m\u001b[0;34m=\u001b[0m\u001b[0;34m(\u001b[0m\u001b[0;34m\"executor_type\"\u001b[0m\u001b[0;34m,\u001b[0m \u001b[0mexecutor_type\u001b[0m\u001b[0;34m,\u001b[0m \u001b[0;34m\"config_proto\"\u001b[0m\u001b[0;34m,\u001b[0m \u001b[0mconfig\u001b[0m\u001b[0;34m)\u001b[0m\u001b[0;34m,\u001b[0m\u001b[0;34m\u001b[0m\u001b[0;34m\u001b[0m\u001b[0m\n\u001b[0;32m--> 545\u001b[0;31m               ctx=ctx)\n\u001b[0m\u001b[1;32m    546\u001b[0m         \u001b[0;32melse\u001b[0m\u001b[0;34m:\u001b[0m\u001b[0;34m\u001b[0m\u001b[0;34m\u001b[0m\u001b[0m\n\u001b[1;32m    547\u001b[0m           outputs = execute.execute_with_cancellation(\n",
      "\u001b[0;32m/home/lemay/py_36_env/lib/python3.6/site-packages/tensorflow_core/python/eager/execute.py\u001b[0m in \u001b[0;36mquick_execute\u001b[0;34m(op_name, num_outputs, inputs, attrs, ctx, name)\u001b[0m\n\u001b[1;32m     59\u001b[0m     tensors = pywrap_tensorflow.TFE_Py_Execute(ctx._handle, device_name,\n\u001b[1;32m     60\u001b[0m                                                \u001b[0mop_name\u001b[0m\u001b[0;34m,\u001b[0m \u001b[0minputs\u001b[0m\u001b[0;34m,\u001b[0m \u001b[0mattrs\u001b[0m\u001b[0;34m,\u001b[0m\u001b[0;34m\u001b[0m\u001b[0;34m\u001b[0m\u001b[0m\n\u001b[0;32m---> 61\u001b[0;31m                                                num_outputs)\n\u001b[0m\u001b[1;32m     62\u001b[0m   \u001b[0;32mexcept\u001b[0m \u001b[0mcore\u001b[0m\u001b[0;34m.\u001b[0m\u001b[0m_NotOkStatusException\u001b[0m \u001b[0;32mas\u001b[0m \u001b[0me\u001b[0m\u001b[0;34m:\u001b[0m\u001b[0;34m\u001b[0m\u001b[0;34m\u001b[0m\u001b[0m\n\u001b[1;32m     63\u001b[0m     \u001b[0;32mif\u001b[0m \u001b[0mname\u001b[0m \u001b[0;32mis\u001b[0m \u001b[0;32mnot\u001b[0m \u001b[0;32mNone\u001b[0m\u001b[0;34m:\u001b[0m\u001b[0;34m\u001b[0m\u001b[0;34m\u001b[0m\u001b[0m\n",
      "\u001b[0;31mKeyboardInterrupt\u001b[0m: "
     ]
    }
   ],
   "source": [
    "history = model.fit_generator(\n",
    "    train_data_gen,\n",
    "    steps_per_epoch=total_train // batch_size,\n",
    "    epochs=epochs,\n",
    "    validation_data=val_data_gen,\n",
    "    validation_steps=total_val // batch_size\n",
    ")"
   ]
  },
  {
   "cell_type": "markdown",
   "metadata": {
    "colab_type": "text",
    "id": "ojJNteAGVrWo"
   },
   "source": [
    "The model fails to learn. The next step is to see if overfitting is the problem. In the original Tensorflow tutorial on classifying cats vs dogs, training accuracy and validation accuracy were off by large margin and the model achieved only around **70%** accuracy on the validation set. <i>\"When there are a small number of training examples, the model sometimes learns from noises or unwanted details from training examples—to an extent that it negatively impacts the performance of the model on new examples. This phenomenon is known as overfitting. It means that the model will have a difficult time generalizing on a new dataset.\"</i> They moved on to look at <b>data augmentation</b> and <b>dropout</b>, and so will we. Keep in mind that with five balanced classes in our validation dataset, a 20% validation score is random chance. A bit less or more than 20% is just luck."
   ]
  },
  {
   "cell_type": "markdown",
   "metadata": {
    "colab_type": "text",
    "id": "UOoVpxFwVrWy"
   },
   "source": [
    "## Apply data augmentation, and retrain a CNN"
   ]
  },
  {
   "cell_type": "markdown",
   "metadata": {},
   "source": [
    "I found that applying transformations like rotation are a bad idea. screenshot angles don't change, and so it is harder to learn when this augmentation is added. zoom and other augmentations also didn't help, and so the only transformation I kept was horizontal flip. Ironically, I ended up in the same place for my thesis work. \n",
    "\n",
    "Generally, you only apply data augmentation to the training examples. In this case, only flip the validation images and convert them into batches using `ImageDataGenerator`. The validation data is unaltered."
   ]
  },
  {
   "cell_type": "markdown",
   "metadata": {},
   "source": [
    "### Add image flips"
   ]
  },
  {
   "cell_type": "code",
   "execution_count": 218,
   "metadata": {
    "ExecuteTime": {
     "end_time": "2020-04-21T02:32:01.220228Z",
     "start_time": "2020-04-21T02:32:00.119121Z"
    },
    "colab": {},
    "colab_type": "code",
    "id": "VOvTs32FVrXU"
   },
   "outputs": [
    {
     "name": "stdout",
     "output_type": "stream",
     "text": [
      "Found 7105 images belonging to 5 classes.\n"
     ]
    }
   ],
   "source": [
    "# zoom_range from 0 - 1 where 1 = 100%.\n",
    "image_gen = ImageDataGenerator(rescale=1./255, zoom_range=0.75) # \n",
    "\n",
    "train_data_gen = image_gen.flow_from_directory(batch_size=batch_size,\n",
    "                                               directory=train_dir,\n",
    "                                               shuffle=True,\n",
    "                                               target_size=(IMG_HEIGHT, IMG_WIDTH))\n",
    "\n",
    "augmented_images = [train_data_gen[0][0][0] for i in range(5)]"
   ]
  },
  {
   "cell_type": "code",
   "execution_count": 219,
   "metadata": {
    "ExecuteTime": {
     "end_time": "2020-04-21T02:32:05.796636Z",
     "start_time": "2020-04-21T02:32:05.488877Z"
    },
    "colab": {},
    "colab_type": "code",
    "id": "-KQWw8IZVrXZ"
   },
   "outputs": [
    {
     "data": {
      "image/png": "[encoded data removed]",
      "text/plain": [
       "<Figure size 1440x1440 with 5 Axes>"
      ]
     },
     "metadata": {
      "needs_background": "light"
     },
     "output_type": "display_data"
    }
   ],
   "source": [
    "plotImages(augmented_images)"
   ]
  },
  {
   "cell_type": "markdown",
   "metadata": {},
   "source": [
    "The images above show you what the zoom_range augmentation does to the images, and so I'm not surprised it didn't help the model learn about this beer goggles effect particular classification problem. Some datasets do benefit from this approach, and so it's not a one-size-fits-all world."
   ]
  },
  {
   "cell_type": "code",
   "execution_count": 224,
   "metadata": {
    "ExecuteTime": {
     "end_time": "2020-04-21T02:38:47.994736Z",
     "start_time": "2020-04-21T02:38:47.772543Z"
    },
    "colab": {},
    "colab_type": "code",
    "id": "gnr2xujaVrXe"
   },
   "outputs": [
    {
     "name": "stdout",
     "output_type": "stream",
     "text": [
      "Found 7105 images belonging to 5 classes.\n"
     ]
    }
   ],
   "source": [
    "image_gen_train = ImageDataGenerator(\n",
    "                    rescale=1./255,\n",
    "                    #rotation_range=45,\n",
    "                    #width_shift_range=.15,\n",
    "                    #height_shift_range=.15,\n",
    "                    horizontal_flip=True,\n",
    "                    #zoom_range=0.5\n",
    "                    )\n",
    "\n",
    "train_data_gen = image_gen_train.flow_from_directory(batch_size=batch_size,\n",
    "                                                     directory=train_dir,\n",
    "                                                     shuffle=True,\n",
    "                                                     target_size=(IMG_HEIGHT, IMG_WIDTH),\n",
    "                                                     class_mode='categorical')"
   ]
  },
  {
   "cell_type": "code",
   "execution_count": 225,
   "metadata": {
    "ExecuteTime": {
     "end_time": "2020-04-21T02:38:50.008478Z",
     "start_time": "2020-04-21T02:38:48.998320Z"
    },
    "colab": {},
    "colab_type": "code",
    "id": "z2m68eMhVrXm"
   },
   "outputs": [
    {
     "data": {
      "image/png": "[encoded data removed]",
      "text/plain": [
       "<Figure size 1440x1440 with 5 Axes>"
      ]
     },
     "metadata": {
      "needs_background": "light"
     },
     "output_type": "display_data"
    }
   ],
   "source": [
    "augmented_images = [train_data_gen[0][0][0] for i in range(5)]\n",
    "plotImages(augmented_images)"
   ]
  },
  {
   "cell_type": "code",
   "execution_count": 227,
   "metadata": {
    "ExecuteTime": {
     "end_time": "2020-04-21T02:40:00.986882Z",
     "start_time": "2020-04-21T02:40:00.873914Z"
    },
    "colab": {},
    "colab_type": "code",
    "id": "1PCHKzI8VrXv"
   },
   "outputs": [
    {
     "name": "stdout",
     "output_type": "stream",
     "text": [
      "Found 50 images belonging to 5 classes.\n"
     ]
    }
   ],
   "source": [
    "# Here we put the validation data generator. It does the scaling and yielding bit of the job\n",
    "image_gen_val = ImageDataGenerator(rescale=1./255)\n",
    "val_data_gen = image_gen_val.flow_from_directory(batch_size=batch_size,\n",
    "                                                 directory=validation_dir,\n",
    "                                                 target_size=(IMG_HEIGHT, IMG_WIDTH),\n",
    "                                                 class_mode='categorical')"
   ]
  },
  {
   "cell_type": "markdown",
   "metadata": {
    "colab_type": "text",
    "id": "yQGhdqHFVrXx"
   },
   "source": [
    "### Add dropout to the model"
   ]
  },
  {
   "cell_type": "markdown",
   "metadata": {
    "colab_type": "text",
    "id": "2Iq5TAH_VrXx"
   },
   "source": [
    "Source: https://www.tensorflow.org/tutorials/images/classification\n",
    "\n",
    "When you apply dropout *regularization* to a layer it randomly drops out (sets to zero) a number of output units from the applied layer during the training process. Here, you apply dropout to first and last max pool layers. Applying dropout will randomly set 20% of the neurons to zero during each training epoch. This helps to avoid overfitting on the training dataset.\n",
    "\n",
    "You can see in the cell below that I did a lot of messing with the architecture and parameters to try and get the model to learn."
   ]
  },
  {
   "cell_type": "code",
   "execution_count": 229,
   "metadata": {
    "ExecuteTime": {
     "end_time": "2020-04-21T02:45:23.111802Z",
     "start_time": "2020-04-21T02:45:23.013989Z"
    },
    "colab": {},
    "colab_type": "code",
    "id": "2fjio8EsVrXz"
   },
   "outputs": [
    {
     "name": "stdout",
     "output_type": "stream",
     "text": [
      "Model: \"sequential_2\"\n",
      "_________________________________________________________________\n",
      "Layer (type)                 Output Shape              Param #   \n",
      "=================================================================\n",
      "conv2d_6 (Conv2D)            (None, 128, 128, 16)      448       \n",
      "_________________________________________________________________\n",
      "max_pooling2d_6 (MaxPooling2 (None, 64, 64, 16)        0         \n",
      "_________________________________________________________________\n",
      "dropout_2 (Dropout)          (None, 64, 64, 16)        0         \n",
      "_________________________________________________________________\n",
      "conv2d_7 (Conv2D)            (None, 64, 64, 16)        2320      \n",
      "_________________________________________________________________\n",
      "max_pooling2d_7 (MaxPooling2 (None, 32, 32, 16)        0         \n",
      "_________________________________________________________________\n",
      "conv2d_8 (Conv2D)            (None, 32, 32, 256)       37120     \n",
      "_________________________________________________________________\n",
      "max_pooling2d_8 (MaxPooling2 (None, 16, 16, 256)       0         \n",
      "_________________________________________________________________\n",
      "flatten_2 (Flatten)          (None, 65536)             0         \n",
      "_________________________________________________________________\n",
      "dense_4 (Dense)              (None, 64)                4194368   \n",
      "_________________________________________________________________\n",
      "dropout_3 (Dropout)          (None, 64)                0         \n",
      "_________________________________________________________________\n",
      "dense_5 (Dense)              (None, 5)                 325       \n",
      "=================================================================\n",
      "Total params: 4,234,581\n",
      "Trainable params: 4,234,581\n",
      "Non-trainable params: 0\n",
      "_________________________________________________________________\n"
     ]
    }
   ],
   "source": [
    "model_new = Sequential([\n",
    "    Conv2D(16, 3, padding='same', activation='relu', \n",
    "           input_shape=(IMG_HEIGHT, IMG_WIDTH ,3)),\n",
    "    MaxPooling2D(),\n",
    "    Dropout(0.2),\n",
    "    Conv2D(16, 3, padding='same', activation='relu'),\n",
    "    MaxPooling2D(),\n",
    "    Conv2D(256, 3, padding='same', activation='relu'),\n",
    "    MaxPooling2D(),\n",
    "    #Dropout(0.2),\n",
    "    Flatten(),\n",
    "#     Dense(256, activation='relu'),\n",
    "    Dense(64, activation='relu'),\n",
    "    Dropout(0.2),\n",
    "    Dense(5)\n",
    "])\n",
    "model_new.compile(optimizer='adam',\n",
    "                  loss=tf.keras.losses.CategoricalCrossentropy(),\n",
    "                  metrics=['accuracy'])\n",
    "\n",
    "model_new.summary()"
   ]
  },
  {
   "cell_type": "markdown",
   "metadata": {
    "colab_type": "text",
    "id": "7KiDshEUVrX6"
   },
   "source": [
    "### Train the new CNN model and see what went wrong"
   ]
  },
  {
   "cell_type": "markdown",
   "metadata": {
    "colab_type": "text",
    "id": "NFj0oVqVVrX6"
   },
   "source": [
    "After successfully introducing data augmentations to the training examples and adding dropouts to the network, train this new network:"
   ]
  },
  {
   "cell_type": "code",
   "execution_count": 24,
   "metadata": {
    "ExecuteTime": {
     "end_time": "2020-04-20T05:48:12.957152Z",
     "start_time": "2020-04-20T05:31:02.854027Z"
    },
    "colab": {},
    "colab_type": "code",
    "id": "GWxHs_luVrX7",
    "scrolled": true
   },
   "outputs": [
    {
     "name": "stderr",
     "output_type": "stream",
     "text": [
      "WARNING: Logging before flag parsing goes to stderr.\n",
      "W0420 01:31:02.857608 140281110439680 deprecation.py:323] From <ipython-input-24-2401ab36538a>:6: Model.fit_generator (from tensorflow.python.keras.engine.training) is deprecated and will be removed in a future version.\n",
      "Instructions for updating:\n",
      "Please use Model.fit, which supports generators.\n",
      "W0420 01:31:03.246812 140281110439680 data_adapter.py:1091] sample_weight modes were coerced from\n",
      "  ...\n",
      "    to  \n",
      "  ['...']\n",
      "W0420 01:31:03.491335 140281110439680 data_adapter.py:1091] sample_weight modes were coerced from\n",
      "  ...\n",
      "    to  \n",
      "  ['...']\n"
     ]
    },
    {
     "name": "stdout",
     "output_type": "stream",
     "text": [
      "Train for 222 steps, validate for 1 steps\n",
      "Epoch 1/15\n",
      " 71/222 [========>.....................] - ETA: 1:32 - loss: 1.6407 - accuracy: 0.0612"
     ]
    },
    {
     "name": "stderr",
     "output_type": "stream",
     "text": [
      "/home/lemay/py_36_env/lib/python3.6/site-packages/PIL/TiffImagePlugin.py:788: UserWarning: Corrupt EXIF data.  Expecting to read 4 bytes but only got 0. \n",
      "  warnings.warn(str(msg))\n"
     ]
    },
    {
     "name": "stdout",
     "output_type": "stream",
     "text": [
      "222/222 [==============================] - 134s 606ms/step - loss: 5.2851 - accuracy: 0.1924 - val_loss: 9.0664 - val_accuracy: 0.1875\n",
      "Epoch 2/15\n",
      "222/222 [==============================] - 134s 602ms/step - loss: 8.9703 - accuracy: 0.3913 - val_loss: 9.5701 - val_accuracy: 0.1875\n",
      "Epoch 3/15\n",
      "222/222 [==============================] - 134s 602ms/step - loss: 7.1625 - accuracy: 0.3817 - val_loss: 7.0531 - val_accuracy: 0.1875\n",
      "Epoch 4/15\n",
      "222/222 [==============================] - 134s 602ms/step - loss: 7.0049 - accuracy: 0.3819 - val_loss: 7.0517 - val_accuracy: 0.1875\n",
      "Epoch 5/15\n",
      "222/222 [==============================] - 134s 602ms/step - loss: 4.2285 - accuracy: 0.3308 - val_loss: 7.0517 - val_accuracy: 0.1875\n",
      "Epoch 6/15\n",
      "222/222 [==============================] - 134s 602ms/step - loss: 4.4773 - accuracy: 0.3303 - val_loss: 7.0517 - val_accuracy: 0.1875\n",
      "Epoch 7/15\n",
      "222/222 [==============================] - 133s 601ms/step - loss: 4.5222 - accuracy: 0.3272 - val_loss: 7.0517 - val_accuracy: 0.1875\n",
      "Epoch 8/15\n",
      "156/222 [====================>.........] - ETA: 39s - loss: 4.6733 - accuracy: 0.3346"
     ]
    },
    {
     "ename": "KeyboardInterrupt",
     "evalue": "",
     "output_type": "error",
     "traceback": [
      "\u001b[0;31m---------------------------------------------------------------------------\u001b[0m",
      "\u001b[0;31mKeyboardInterrupt\u001b[0m                         Traceback (most recent call last)",
      "\u001b[0;32m<ipython-input-24-2401ab36538a>\u001b[0m in \u001b[0;36m<module>\u001b[0;34m\u001b[0m\n\u001b[1;32m      4\u001b[0m     \u001b[0mepochs\u001b[0m\u001b[0;34m=\u001b[0m\u001b[0mepochs\u001b[0m\u001b[0;34m,\u001b[0m\u001b[0;34m\u001b[0m\u001b[0;34m\u001b[0m\u001b[0m\n\u001b[1;32m      5\u001b[0m     \u001b[0mvalidation_data\u001b[0m\u001b[0;34m=\u001b[0m\u001b[0mval_data_gen\u001b[0m\u001b[0;34m,\u001b[0m\u001b[0;34m\u001b[0m\u001b[0;34m\u001b[0m\u001b[0m\n\u001b[0;32m----> 6\u001b[0;31m     \u001b[0mvalidation_steps\u001b[0m\u001b[0;34m=\u001b[0m\u001b[0mtotal_val\u001b[0m \u001b[0;34m//\u001b[0m \u001b[0mbatch_size\u001b[0m\u001b[0;34m\u001b[0m\u001b[0;34m\u001b[0m\u001b[0m\n\u001b[0m\u001b[1;32m      7\u001b[0m )\n",
      "\u001b[0;32m/home/lemay/py_36_env/lib/python3.6/site-packages/tensorflow_core/python/util/deprecation.py\u001b[0m in \u001b[0;36mnew_func\u001b[0;34m(*args, **kwargs)\u001b[0m\n\u001b[1;32m    322\u001b[0m               \u001b[0;34m'in a future version'\u001b[0m \u001b[0;32mif\u001b[0m \u001b[0mdate\u001b[0m \u001b[0;32mis\u001b[0m \u001b[0;32mNone\u001b[0m \u001b[0;32melse\u001b[0m \u001b[0;34m(\u001b[0m\u001b[0;34m'after %s'\u001b[0m \u001b[0;34m%\u001b[0m \u001b[0mdate\u001b[0m\u001b[0;34m)\u001b[0m\u001b[0;34m,\u001b[0m\u001b[0;34m\u001b[0m\u001b[0;34m\u001b[0m\u001b[0m\n\u001b[1;32m    323\u001b[0m               instructions)\n\u001b[0;32m--> 324\u001b[0;31m       \u001b[0;32mreturn\u001b[0m \u001b[0mfunc\u001b[0m\u001b[0;34m(\u001b[0m\u001b[0;34m*\u001b[0m\u001b[0margs\u001b[0m\u001b[0;34m,\u001b[0m \u001b[0;34m**\u001b[0m\u001b[0mkwargs\u001b[0m\u001b[0;34m)\u001b[0m\u001b[0;34m\u001b[0m\u001b[0;34m\u001b[0m\u001b[0m\n\u001b[0m\u001b[1;32m    325\u001b[0m     return tf_decorator.make_decorator(\n\u001b[1;32m    326\u001b[0m         \u001b[0mfunc\u001b[0m\u001b[0;34m,\u001b[0m \u001b[0mnew_func\u001b[0m\u001b[0;34m,\u001b[0m \u001b[0;34m'deprecated'\u001b[0m\u001b[0;34m,\u001b[0m\u001b[0;34m\u001b[0m\u001b[0;34m\u001b[0m\u001b[0m\n",
      "\u001b[0;32m/home/lemay/py_36_env/lib/python3.6/site-packages/tensorflow_core/python/keras/engine/training.py\u001b[0m in \u001b[0;36mfit_generator\u001b[0;34m(self, generator, steps_per_epoch, epochs, verbose, callbacks, validation_data, validation_steps, validation_freq, class_weight, max_queue_size, workers, use_multiprocessing, shuffle, initial_epoch)\u001b[0m\n\u001b[1;32m   1304\u001b[0m         \u001b[0muse_multiprocessing\u001b[0m\u001b[0;34m=\u001b[0m\u001b[0muse_multiprocessing\u001b[0m\u001b[0;34m,\u001b[0m\u001b[0;34m\u001b[0m\u001b[0;34m\u001b[0m\u001b[0m\n\u001b[1;32m   1305\u001b[0m         \u001b[0mshuffle\u001b[0m\u001b[0;34m=\u001b[0m\u001b[0mshuffle\u001b[0m\u001b[0;34m,\u001b[0m\u001b[0;34m\u001b[0m\u001b[0;34m\u001b[0m\u001b[0m\n\u001b[0;32m-> 1306\u001b[0;31m         initial_epoch=initial_epoch)\n\u001b[0m\u001b[1;32m   1307\u001b[0m \u001b[0;34m\u001b[0m\u001b[0m\n\u001b[1;32m   1308\u001b[0m   @deprecation.deprecated(\n",
      "\u001b[0;32m/home/lemay/py_36_env/lib/python3.6/site-packages/tensorflow_core/python/keras/engine/training.py\u001b[0m in \u001b[0;36mfit\u001b[0;34m(self, x, y, batch_size, epochs, verbose, callbacks, validation_split, validation_data, shuffle, class_weight, sample_weight, initial_epoch, steps_per_epoch, validation_steps, validation_freq, max_queue_size, workers, use_multiprocessing, **kwargs)\u001b[0m\n\u001b[1;32m    817\u001b[0m         \u001b[0mmax_queue_size\u001b[0m\u001b[0;34m=\u001b[0m\u001b[0mmax_queue_size\u001b[0m\u001b[0;34m,\u001b[0m\u001b[0;34m\u001b[0m\u001b[0;34m\u001b[0m\u001b[0m\n\u001b[1;32m    818\u001b[0m         \u001b[0mworkers\u001b[0m\u001b[0;34m=\u001b[0m\u001b[0mworkers\u001b[0m\u001b[0;34m,\u001b[0m\u001b[0;34m\u001b[0m\u001b[0;34m\u001b[0m\u001b[0m\n\u001b[0;32m--> 819\u001b[0;31m         use_multiprocessing=use_multiprocessing)\n\u001b[0m\u001b[1;32m    820\u001b[0m \u001b[0;34m\u001b[0m\u001b[0m\n\u001b[1;32m    821\u001b[0m   def evaluate(self,\n",
      "\u001b[0;32m/home/lemay/py_36_env/lib/python3.6/site-packages/tensorflow_core/python/keras/engine/training_v2.py\u001b[0m in \u001b[0;36mfit\u001b[0;34m(self, model, x, y, batch_size, epochs, verbose, callbacks, validation_split, validation_data, shuffle, class_weight, sample_weight, initial_epoch, steps_per_epoch, validation_steps, validation_freq, max_queue_size, workers, use_multiprocessing, **kwargs)\u001b[0m\n\u001b[1;32m    340\u001b[0m                 \u001b[0mmode\u001b[0m\u001b[0;34m=\u001b[0m\u001b[0mModeKeys\u001b[0m\u001b[0;34m.\u001b[0m\u001b[0mTRAIN\u001b[0m\u001b[0;34m,\u001b[0m\u001b[0;34m\u001b[0m\u001b[0;34m\u001b[0m\u001b[0m\n\u001b[1;32m    341\u001b[0m                 \u001b[0mtraining_context\u001b[0m\u001b[0;34m=\u001b[0m\u001b[0mtraining_context\u001b[0m\u001b[0;34m,\u001b[0m\u001b[0;34m\u001b[0m\u001b[0;34m\u001b[0m\u001b[0m\n\u001b[0;32m--> 342\u001b[0;31m                 total_epochs=epochs)\n\u001b[0m\u001b[1;32m    343\u001b[0m             \u001b[0mcbks\u001b[0m\u001b[0;34m.\u001b[0m\u001b[0mmake_logs\u001b[0m\u001b[0;34m(\u001b[0m\u001b[0mmodel\u001b[0m\u001b[0;34m,\u001b[0m \u001b[0mepoch_logs\u001b[0m\u001b[0;34m,\u001b[0m \u001b[0mtraining_result\u001b[0m\u001b[0;34m,\u001b[0m \u001b[0mModeKeys\u001b[0m\u001b[0;34m.\u001b[0m\u001b[0mTRAIN\u001b[0m\u001b[0;34m)\u001b[0m\u001b[0;34m\u001b[0m\u001b[0;34m\u001b[0m\u001b[0m\n\u001b[1;32m    344\u001b[0m \u001b[0;34m\u001b[0m\u001b[0m\n",
      "\u001b[0;32m/home/lemay/py_36_env/lib/python3.6/site-packages/tensorflow_core/python/keras/engine/training_v2.py\u001b[0m in \u001b[0;36mrun_one_epoch\u001b[0;34m(model, iterator, execution_function, dataset_size, batch_size, strategy, steps_per_epoch, num_samples, mode, training_context, total_epochs)\u001b[0m\n\u001b[1;32m    126\u001b[0m         step=step, mode=mode, size=current_batch_size) as batch_logs:\n\u001b[1;32m    127\u001b[0m       \u001b[0;32mtry\u001b[0m\u001b[0;34m:\u001b[0m\u001b[0;34m\u001b[0m\u001b[0;34m\u001b[0m\u001b[0m\n\u001b[0;32m--> 128\u001b[0;31m         \u001b[0mbatch_outs\u001b[0m \u001b[0;34m=\u001b[0m \u001b[0mexecution_function\u001b[0m\u001b[0;34m(\u001b[0m\u001b[0miterator\u001b[0m\u001b[0;34m)\u001b[0m\u001b[0;34m\u001b[0m\u001b[0;34m\u001b[0m\u001b[0m\n\u001b[0m\u001b[1;32m    129\u001b[0m       \u001b[0;32mexcept\u001b[0m \u001b[0;34m(\u001b[0m\u001b[0mStopIteration\u001b[0m\u001b[0;34m,\u001b[0m \u001b[0merrors\u001b[0m\u001b[0;34m.\u001b[0m\u001b[0mOutOfRangeError\u001b[0m\u001b[0;34m)\u001b[0m\u001b[0;34m:\u001b[0m\u001b[0;34m\u001b[0m\u001b[0;34m\u001b[0m\u001b[0m\n\u001b[1;32m    130\u001b[0m         \u001b[0;31m# TODO(kaftan): File bug about tf function and errors.OutOfRangeError?\u001b[0m\u001b[0;34m\u001b[0m\u001b[0;34m\u001b[0m\u001b[0;34m\u001b[0m\u001b[0m\n",
      "\u001b[0;32m/home/lemay/py_36_env/lib/python3.6/site-packages/tensorflow_core/python/keras/engine/training_v2_utils.py\u001b[0m in \u001b[0;36mexecution_function\u001b[0;34m(input_fn)\u001b[0m\n\u001b[1;32m     96\u001b[0m     \u001b[0;31m# `numpy` translates Tensors to values in Eager mode.\u001b[0m\u001b[0;34m\u001b[0m\u001b[0;34m\u001b[0m\u001b[0;34m\u001b[0m\u001b[0m\n\u001b[1;32m     97\u001b[0m     return nest.map_structure(_non_none_constant_value,\n\u001b[0;32m---> 98\u001b[0;31m                               distributed_function(input_fn))\n\u001b[0m\u001b[1;32m     99\u001b[0m \u001b[0;34m\u001b[0m\u001b[0m\n\u001b[1;32m    100\u001b[0m   \u001b[0;32mreturn\u001b[0m \u001b[0mexecution_function\u001b[0m\u001b[0;34m\u001b[0m\u001b[0;34m\u001b[0m\u001b[0m\n",
      "\u001b[0;32m/home/lemay/py_36_env/lib/python3.6/site-packages/tensorflow_core/python/eager/def_function.py\u001b[0m in \u001b[0;36m__call__\u001b[0;34m(self, *args, **kwds)\u001b[0m\n\u001b[1;32m    566\u001b[0m         \u001b[0mxla_context\u001b[0m\u001b[0;34m.\u001b[0m\u001b[0mExit\u001b[0m\u001b[0;34m(\u001b[0m\u001b[0;34m)\u001b[0m\u001b[0;34m\u001b[0m\u001b[0;34m\u001b[0m\u001b[0m\n\u001b[1;32m    567\u001b[0m     \u001b[0;32melse\u001b[0m\u001b[0;34m:\u001b[0m\u001b[0;34m\u001b[0m\u001b[0;34m\u001b[0m\u001b[0m\n\u001b[0;32m--> 568\u001b[0;31m       \u001b[0mresult\u001b[0m \u001b[0;34m=\u001b[0m \u001b[0mself\u001b[0m\u001b[0;34m.\u001b[0m\u001b[0m_call\u001b[0m\u001b[0;34m(\u001b[0m\u001b[0;34m*\u001b[0m\u001b[0margs\u001b[0m\u001b[0;34m,\u001b[0m \u001b[0;34m**\u001b[0m\u001b[0mkwds\u001b[0m\u001b[0;34m)\u001b[0m\u001b[0;34m\u001b[0m\u001b[0;34m\u001b[0m\u001b[0m\n\u001b[0m\u001b[1;32m    569\u001b[0m \u001b[0;34m\u001b[0m\u001b[0m\n\u001b[1;32m    570\u001b[0m     \u001b[0;32mif\u001b[0m \u001b[0mtracing_count\u001b[0m \u001b[0;34m==\u001b[0m \u001b[0mself\u001b[0m\u001b[0;34m.\u001b[0m\u001b[0m_get_tracing_count\u001b[0m\u001b[0;34m(\u001b[0m\u001b[0;34m)\u001b[0m\u001b[0;34m:\u001b[0m\u001b[0;34m\u001b[0m\u001b[0;34m\u001b[0m\u001b[0m\n",
      "\u001b[0;32m/home/lemay/py_36_env/lib/python3.6/site-packages/tensorflow_core/python/eager/def_function.py\u001b[0m in \u001b[0;36m_call\u001b[0;34m(self, *args, **kwds)\u001b[0m\n\u001b[1;32m    597\u001b[0m       \u001b[0;31m# In this case we have created variables on the first call, so we run the\u001b[0m\u001b[0;34m\u001b[0m\u001b[0;34m\u001b[0m\u001b[0;34m\u001b[0m\u001b[0m\n\u001b[1;32m    598\u001b[0m       \u001b[0;31m# defunned version which is guaranteed to never create variables.\u001b[0m\u001b[0;34m\u001b[0m\u001b[0;34m\u001b[0m\u001b[0;34m\u001b[0m\u001b[0m\n\u001b[0;32m--> 599\u001b[0;31m       \u001b[0;32mreturn\u001b[0m \u001b[0mself\u001b[0m\u001b[0;34m.\u001b[0m\u001b[0m_stateless_fn\u001b[0m\u001b[0;34m(\u001b[0m\u001b[0;34m*\u001b[0m\u001b[0margs\u001b[0m\u001b[0;34m,\u001b[0m \u001b[0;34m**\u001b[0m\u001b[0mkwds\u001b[0m\u001b[0;34m)\u001b[0m  \u001b[0;31m# pylint: disable=not-callable\u001b[0m\u001b[0;34m\u001b[0m\u001b[0;34m\u001b[0m\u001b[0m\n\u001b[0m\u001b[1;32m    600\u001b[0m     \u001b[0;32melif\u001b[0m \u001b[0mself\u001b[0m\u001b[0;34m.\u001b[0m\u001b[0m_stateful_fn\u001b[0m \u001b[0;32mis\u001b[0m \u001b[0;32mnot\u001b[0m \u001b[0;32mNone\u001b[0m\u001b[0;34m:\u001b[0m\u001b[0;34m\u001b[0m\u001b[0;34m\u001b[0m\u001b[0m\n\u001b[1;32m    601\u001b[0m       \u001b[0;31m# Release the lock early so that multiple threads can perform the call\u001b[0m\u001b[0;34m\u001b[0m\u001b[0;34m\u001b[0m\u001b[0;34m\u001b[0m\u001b[0m\n",
      "\u001b[0;32m/home/lemay/py_36_env/lib/python3.6/site-packages/tensorflow_core/python/eager/function.py\u001b[0m in \u001b[0;36m__call__\u001b[0;34m(self, *args, **kwargs)\u001b[0m\n\u001b[1;32m   2361\u001b[0m     \u001b[0;32mwith\u001b[0m \u001b[0mself\u001b[0m\u001b[0;34m.\u001b[0m\u001b[0m_lock\u001b[0m\u001b[0;34m:\u001b[0m\u001b[0;34m\u001b[0m\u001b[0;34m\u001b[0m\u001b[0m\n\u001b[1;32m   2362\u001b[0m       \u001b[0mgraph_function\u001b[0m\u001b[0;34m,\u001b[0m \u001b[0margs\u001b[0m\u001b[0;34m,\u001b[0m \u001b[0mkwargs\u001b[0m \u001b[0;34m=\u001b[0m \u001b[0mself\u001b[0m\u001b[0;34m.\u001b[0m\u001b[0m_maybe_define_function\u001b[0m\u001b[0;34m(\u001b[0m\u001b[0margs\u001b[0m\u001b[0;34m,\u001b[0m \u001b[0mkwargs\u001b[0m\u001b[0;34m)\u001b[0m\u001b[0;34m\u001b[0m\u001b[0;34m\u001b[0m\u001b[0m\n\u001b[0;32m-> 2363\u001b[0;31m     \u001b[0;32mreturn\u001b[0m \u001b[0mgraph_function\u001b[0m\u001b[0;34m.\u001b[0m\u001b[0m_filtered_call\u001b[0m\u001b[0;34m(\u001b[0m\u001b[0margs\u001b[0m\u001b[0;34m,\u001b[0m \u001b[0mkwargs\u001b[0m\u001b[0;34m)\u001b[0m  \u001b[0;31m# pylint: disable=protected-access\u001b[0m\u001b[0;34m\u001b[0m\u001b[0;34m\u001b[0m\u001b[0m\n\u001b[0m\u001b[1;32m   2364\u001b[0m \u001b[0;34m\u001b[0m\u001b[0m\n\u001b[1;32m   2365\u001b[0m   \u001b[0;34m@\u001b[0m\u001b[0mproperty\u001b[0m\u001b[0;34m\u001b[0m\u001b[0;34m\u001b[0m\u001b[0m\n",
      "\u001b[0;32m/home/lemay/py_36_env/lib/python3.6/site-packages/tensorflow_core/python/eager/function.py\u001b[0m in \u001b[0;36m_filtered_call\u001b[0;34m(self, args, kwargs)\u001b[0m\n\u001b[1;32m   1609\u001b[0m          if isinstance(t, (ops.Tensor,\n\u001b[1;32m   1610\u001b[0m                            resource_variable_ops.BaseResourceVariable))),\n\u001b[0;32m-> 1611\u001b[0;31m         self.captured_inputs)\n\u001b[0m\u001b[1;32m   1612\u001b[0m \u001b[0;34m\u001b[0m\u001b[0m\n\u001b[1;32m   1613\u001b[0m   \u001b[0;32mdef\u001b[0m \u001b[0m_call_flat\u001b[0m\u001b[0;34m(\u001b[0m\u001b[0mself\u001b[0m\u001b[0;34m,\u001b[0m \u001b[0margs\u001b[0m\u001b[0;34m,\u001b[0m \u001b[0mcaptured_inputs\u001b[0m\u001b[0;34m,\u001b[0m \u001b[0mcancellation_manager\u001b[0m\u001b[0;34m=\u001b[0m\u001b[0;32mNone\u001b[0m\u001b[0;34m)\u001b[0m\u001b[0;34m:\u001b[0m\u001b[0;34m\u001b[0m\u001b[0;34m\u001b[0m\u001b[0m\n",
      "\u001b[0;32m/home/lemay/py_36_env/lib/python3.6/site-packages/tensorflow_core/python/eager/function.py\u001b[0m in \u001b[0;36m_call_flat\u001b[0;34m(self, args, captured_inputs, cancellation_manager)\u001b[0m\n\u001b[1;32m   1690\u001b[0m       \u001b[0;31m# No tape is watching; skip to running the function.\u001b[0m\u001b[0;34m\u001b[0m\u001b[0;34m\u001b[0m\u001b[0;34m\u001b[0m\u001b[0m\n\u001b[1;32m   1691\u001b[0m       return self._build_call_outputs(self._inference_function.call(\n\u001b[0;32m-> 1692\u001b[0;31m           ctx, args, cancellation_manager=cancellation_manager))\n\u001b[0m\u001b[1;32m   1693\u001b[0m     forward_backward = self._select_forward_and_backward_functions(\n\u001b[1;32m   1694\u001b[0m         \u001b[0margs\u001b[0m\u001b[0;34m,\u001b[0m\u001b[0;34m\u001b[0m\u001b[0;34m\u001b[0m\u001b[0m\n",
      "\u001b[0;32m/home/lemay/py_36_env/lib/python3.6/site-packages/tensorflow_core/python/eager/function.py\u001b[0m in \u001b[0;36mcall\u001b[0;34m(self, ctx, args, cancellation_manager)\u001b[0m\n\u001b[1;32m    543\u001b[0m               \u001b[0minputs\u001b[0m\u001b[0;34m=\u001b[0m\u001b[0margs\u001b[0m\u001b[0;34m,\u001b[0m\u001b[0;34m\u001b[0m\u001b[0;34m\u001b[0m\u001b[0m\n\u001b[1;32m    544\u001b[0m               \u001b[0mattrs\u001b[0m\u001b[0;34m=\u001b[0m\u001b[0;34m(\u001b[0m\u001b[0;34m\"executor_type\"\u001b[0m\u001b[0;34m,\u001b[0m \u001b[0mexecutor_type\u001b[0m\u001b[0;34m,\u001b[0m \u001b[0;34m\"config_proto\"\u001b[0m\u001b[0;34m,\u001b[0m \u001b[0mconfig\u001b[0m\u001b[0;34m)\u001b[0m\u001b[0;34m,\u001b[0m\u001b[0;34m\u001b[0m\u001b[0;34m\u001b[0m\u001b[0m\n\u001b[0;32m--> 545\u001b[0;31m               ctx=ctx)\n\u001b[0m\u001b[1;32m    546\u001b[0m         \u001b[0;32melse\u001b[0m\u001b[0;34m:\u001b[0m\u001b[0;34m\u001b[0m\u001b[0;34m\u001b[0m\u001b[0m\n\u001b[1;32m    547\u001b[0m           outputs = execute.execute_with_cancellation(\n",
      "\u001b[0;32m/home/lemay/py_36_env/lib/python3.6/site-packages/tensorflow_core/python/eager/execute.py\u001b[0m in \u001b[0;36mquick_execute\u001b[0;34m(op_name, num_outputs, inputs, attrs, ctx, name)\u001b[0m\n\u001b[1;32m     59\u001b[0m     tensors = pywrap_tensorflow.TFE_Py_Execute(ctx._handle, device_name,\n\u001b[1;32m     60\u001b[0m                                                \u001b[0mop_name\u001b[0m\u001b[0;34m,\u001b[0m \u001b[0minputs\u001b[0m\u001b[0;34m,\u001b[0m \u001b[0mattrs\u001b[0m\u001b[0;34m,\u001b[0m\u001b[0;34m\u001b[0m\u001b[0;34m\u001b[0m\u001b[0m\n\u001b[0;32m---> 61\u001b[0;31m                                                num_outputs)\n\u001b[0m\u001b[1;32m     62\u001b[0m   \u001b[0;32mexcept\u001b[0m \u001b[0mcore\u001b[0m\u001b[0;34m.\u001b[0m\u001b[0m_NotOkStatusException\u001b[0m \u001b[0;32mas\u001b[0m \u001b[0me\u001b[0m\u001b[0;34m:\u001b[0m\u001b[0;34m\u001b[0m\u001b[0;34m\u001b[0m\u001b[0m\n\u001b[1;32m     63\u001b[0m     \u001b[0;32mif\u001b[0m \u001b[0mname\u001b[0m \u001b[0;32mis\u001b[0m \u001b[0;32mnot\u001b[0m \u001b[0;32mNone\u001b[0m\u001b[0;34m:\u001b[0m\u001b[0;34m\u001b[0m\u001b[0;34m\u001b[0m\u001b[0m\n",
      "\u001b[0;31mKeyboardInterrupt\u001b[0m: "
     ]
    }
   ],
   "source": [
    "history = model_new.fit_generator(\n",
    "    train_data_gen,\n",
    "    steps_per_epoch=total_train // batch_size,\n",
    "    epochs=epochs,\n",
    "    validation_data=val_data_gen,\n",
    "    validation_steps=total_val // batch_size\n",
    ")"
   ]
  },
  {
   "cell_type": "markdown",
   "metadata": {
    "colab_type": "text",
    "id": "bbdyqZdxVrYA"
   },
   "source": [
    "### What went wrong?"
   ]
  },
  {
   "cell_type": "markdown",
   "metadata": {
    "colab_type": "text",
    "id": "OgvF2nt7OtR7"
   },
   "source": [
    "We can see that an off-the-shelf approach that worked for one dataset is stubbornly not working for a different dataset. This is really common and very frustrating. Let's move on to another approach, called transfer learning."
   ]
  },
  {
   "cell_type": "markdown",
   "metadata": {},
   "source": [
    "## A transfer learning approach"
   ]
  },
  {
   "cell_type": "markdown",
   "metadata": {
    "ExecuteTime": {
     "end_time": "2020-04-21T02:49:47.686585Z",
     "start_time": "2020-04-21T02:49:47.681158Z"
    }
   },
   "source": [
    "Maybe it is hard to learn the features that make screenshots distictive when starting from scratch with a ranomly initialized neural network (<a href=\"https://towardsdatascience.com/weight-initialization-in-neural-networks-a-journey-from-the-basics-to-kaiming-954fb9b47c79\" target=\"_blank\">interesting side note</a>), and a pretrained CNN like VGG19, inception, or some other network has already learned these features when it was trained on a massive dataset of images. In this approach let's use an example from Keras for how to do transfer learning on InceptionV3.\n",
    "\n",
    "There are 2 training phases. First just a last layer is trained, and then the last few blocks of Inception are trained. What we see is the training and validation curves don't match. See `loss` and `val_loss` below, and use your imagination a bit. The training loss goes down, but the validation loss does poorly in the first training phase and even worse in the second training phase."
   ]
  },
  {
   "cell_type": "code",
   "execution_count": 26,
   "metadata": {
    "ExecuteTime": {
     "end_time": "2020-04-20T07:19:26.792371Z",
     "start_time": "2020-04-20T05:50:30.364759Z"
    },
    "scrolled": true
   },
   "outputs": [
    {
     "name": "stdout",
     "output_type": "stream",
     "text": [
      "Epoch 1/15\n",
      " 94/222 [===========>..................] - ETA: 1:33 - loss: 1.2584"
     ]
    },
    {
     "name": "stderr",
     "output_type": "stream",
     "text": [
      "/home/lemay/py_36_env/lib/python3.6/site-packages/PIL/TiffImagePlugin.py:788: UserWarning: Corrupt EXIF data.  Expecting to read 4 bytes but only got 0. \n",
      "  warnings.warn(str(msg))\n"
     ]
    },
    {
     "name": "stdout",
     "output_type": "stream",
     "text": [
      "222/222 [==============================] - 162s 728ms/step - loss: 0.9222 - val_loss: 1.5259\n",
      "Epoch 2/15\n",
      "222/222 [==============================] - 160s 721ms/step - loss: 0.5384 - val_loss: 1.7889\n",
      "Epoch 3/15\n",
      "222/222 [==============================] - 160s 723ms/step - loss: 0.4711 - val_loss: 1.7303\n",
      "Epoch 4/15\n",
      "222/222 [==============================] - 160s 721ms/step - loss: 0.4272 - val_loss: 2.4765\n",
      "Epoch 5/15\n",
      "222/222 [==============================] - 161s 724ms/step - loss: 0.4113 - val_loss: 1.9508\n",
      "Epoch 6/15\n",
      "222/222 [==============================] - 160s 721ms/step - loss: 0.3957 - val_loss: 3.0590\n",
      "Epoch 7/15\n",
      "222/222 [==============================] - 162s 730ms/step - loss: 0.3689 - val_loss: 1.6049\n",
      "Epoch 8/15\n",
      "222/222 [==============================] - 159s 718ms/step - loss: 0.3592 - val_loss: 3.0460\n",
      "Epoch 9/15\n",
      "222/222 [==============================] - 161s 723ms/step - loss: 0.3718 - val_loss: 2.9761\n",
      "Epoch 10/15\n",
      "222/222 [==============================] - 160s 719ms/step - loss: 0.3469 - val_loss: 1.2971\n",
      "Epoch 11/15\n",
      "222/222 [==============================] - 162s 728ms/step - loss: 0.3410 - val_loss: 2.0920\n",
      "Epoch 12/15\n",
      "222/222 [==============================] - 160s 721ms/step - loss: 0.3356 - val_loss: 2.1356\n",
      "Epoch 13/15\n",
      "222/222 [==============================] - 161s 723ms/step - loss: 0.3405 - val_loss: 2.1523\n",
      "Epoch 14/15\n",
      "222/222 [==============================] - 160s 720ms/step - loss: 0.3193 - val_loss: 2.7613\n",
      "Epoch 15/15\n",
      "222/222 [==============================] - 161s 725ms/step - loss: 0.3153 - val_loss: 3.3460\n",
      "0 input_2\n",
      "1 conv2d_95\n",
      "2 batch_normalization_95\n",
      "3 activation_95\n",
      "4 conv2d_96\n",
      "5 batch_normalization_96\n",
      "6 activation_96\n",
      "7 conv2d_97\n",
      "8 batch_normalization_97\n",
      "9 activation_97\n",
      "10 max_pooling2d_5\n",
      "11 conv2d_98\n",
      "12 batch_normalization_98\n",
      "13 activation_98\n",
      "14 conv2d_99\n",
      "15 batch_normalization_99\n",
      "16 activation_99\n",
      "17 max_pooling2d_6\n",
      "18 conv2d_103\n",
      "19 batch_normalization_103\n",
      "20 activation_103\n",
      "21 conv2d_101\n",
      "22 conv2d_104\n",
      "23 batch_normalization_101\n",
      "24 batch_normalization_104\n",
      "25 activation_101\n",
      "26 activation_104\n",
      "27 average_pooling2d_10\n",
      "28 conv2d_100\n",
      "29 conv2d_102\n",
      "30 conv2d_105\n",
      "31 conv2d_106\n",
      "32 batch_normalization_100\n",
      "33 batch_normalization_102\n",
      "34 batch_normalization_105\n",
      "35 batch_normalization_106\n",
      "36 activation_100\n",
      "37 activation_102\n",
      "38 activation_105\n",
      "39 activation_106\n",
      "40 mixed0\n",
      "41 conv2d_110\n",
      "42 batch_normalization_110\n",
      "43 activation_110\n",
      "44 conv2d_108\n",
      "45 conv2d_111\n",
      "46 batch_normalization_108\n",
      "47 batch_normalization_111\n",
      "48 activation_108\n",
      "49 activation_111\n",
      "50 average_pooling2d_11\n",
      "51 conv2d_107\n",
      "52 conv2d_109\n",
      "53 conv2d_112\n",
      "54 conv2d_113\n",
      "55 batch_normalization_107\n",
      "56 batch_normalization_109\n",
      "57 batch_normalization_112\n",
      "58 batch_normalization_113\n",
      "59 activation_107\n",
      "60 activation_109\n",
      "61 activation_112\n",
      "62 activation_113\n",
      "63 mixed1\n",
      "64 conv2d_117\n",
      "65 batch_normalization_117\n",
      "66 activation_117\n",
      "67 conv2d_115\n",
      "68 conv2d_118\n",
      "69 batch_normalization_115\n",
      "70 batch_normalization_118\n",
      "71 activation_115\n",
      "72 activation_118\n",
      "73 average_pooling2d_12\n",
      "74 conv2d_114\n",
      "75 conv2d_116\n",
      "76 conv2d_119\n",
      "77 conv2d_120\n",
      "78 batch_normalization_114\n",
      "79 batch_normalization_116\n",
      "80 batch_normalization_119\n",
      "81 batch_normalization_120\n",
      "82 activation_114\n",
      "83 activation_116\n",
      "84 activation_119\n",
      "85 activation_120\n",
      "86 mixed2\n",
      "87 conv2d_122\n",
      "88 batch_normalization_122\n",
      "89 activation_122\n",
      "90 conv2d_123\n",
      "91 batch_normalization_123\n",
      "92 activation_123\n",
      "93 conv2d_121\n",
      "94 conv2d_124\n",
      "95 batch_normalization_121\n",
      "96 batch_normalization_124\n",
      "97 activation_121\n",
      "98 activation_124\n",
      "99 max_pooling2d_7\n",
      "100 mixed3\n",
      "101 conv2d_129\n",
      "102 batch_normalization_129\n",
      "103 activation_129\n",
      "104 conv2d_130\n",
      "105 batch_normalization_130\n",
      "106 activation_130\n",
      "107 conv2d_126\n",
      "108 conv2d_131\n",
      "109 batch_normalization_126\n",
      "110 batch_normalization_131\n",
      "111 activation_126\n",
      "112 activation_131\n",
      "113 conv2d_127\n",
      "114 conv2d_132\n",
      "115 batch_normalization_127\n",
      "116 batch_normalization_132\n",
      "117 activation_127\n",
      "118 activation_132\n",
      "119 average_pooling2d_13\n",
      "120 conv2d_125\n",
      "121 conv2d_128\n",
      "122 conv2d_133\n",
      "123 conv2d_134\n",
      "124 batch_normalization_125\n",
      "125 batch_normalization_128\n",
      "126 batch_normalization_133\n",
      "127 batch_normalization_134\n",
      "128 activation_125\n",
      "129 activation_128\n",
      "130 activation_133\n",
      "131 activation_134\n",
      "132 mixed4\n",
      "133 conv2d_139\n",
      "134 batch_normalization_139\n",
      "135 activation_139\n",
      "136 conv2d_140\n",
      "137 batch_normalization_140\n",
      "138 activation_140\n",
      "139 conv2d_136\n",
      "140 conv2d_141\n",
      "141 batch_normalization_136\n",
      "142 batch_normalization_141\n",
      "143 activation_136\n",
      "144 activation_141\n",
      "145 conv2d_137\n",
      "146 conv2d_142\n",
      "147 batch_normalization_137\n",
      "148 batch_normalization_142\n",
      "149 activation_137\n",
      "150 activation_142\n",
      "151 average_pooling2d_14\n",
      "152 conv2d_135\n",
      "153 conv2d_138\n",
      "154 conv2d_143\n",
      "155 conv2d_144\n",
      "156 batch_normalization_135\n",
      "157 batch_normalization_138\n",
      "158 batch_normalization_143\n",
      "159 batch_normalization_144\n",
      "160 activation_135\n",
      "161 activation_138\n",
      "162 activation_143\n",
      "163 activation_144\n",
      "164 mixed5\n",
      "165 conv2d_149\n",
      "166 batch_normalization_149\n",
      "167 activation_149\n",
      "168 conv2d_150\n",
      "169 batch_normalization_150\n",
      "170 activation_150\n",
      "171 conv2d_146\n",
      "172 conv2d_151\n",
      "173 batch_normalization_146\n",
      "174 batch_normalization_151\n",
      "175 activation_146\n",
      "176 activation_151\n",
      "177 conv2d_147\n",
      "178 conv2d_152\n",
      "179 batch_normalization_147\n",
      "180 batch_normalization_152\n",
      "181 activation_147\n",
      "182 activation_152\n",
      "183 average_pooling2d_15\n",
      "184 conv2d_145\n",
      "185 conv2d_148\n",
      "186 conv2d_153\n",
      "187 conv2d_154\n",
      "188 batch_normalization_145\n",
      "189 batch_normalization_148\n",
      "190 batch_normalization_153\n",
      "191 batch_normalization_154\n",
      "192 activation_145\n",
      "193 activation_148\n",
      "194 activation_153\n",
      "195 activation_154\n",
      "196 mixed6\n",
      "197 conv2d_159\n",
      "198 batch_normalization_159\n",
      "199 activation_159\n",
      "200 conv2d_160\n",
      "201 batch_normalization_160\n",
      "202 activation_160\n",
      "203 conv2d_156\n",
      "204 conv2d_161\n",
      "205 batch_normalization_156\n",
      "206 batch_normalization_161\n",
      "207 activation_156\n",
      "208 activation_161\n",
      "209 conv2d_157\n",
      "210 conv2d_162\n",
      "211 batch_normalization_157\n",
      "212 batch_normalization_162\n",
      "213 activation_157\n",
      "214 activation_162\n",
      "215 average_pooling2d_16\n",
      "216 conv2d_155\n",
      "217 conv2d_158\n",
      "218 conv2d_163\n",
      "219 conv2d_164\n",
      "220 batch_normalization_155\n",
      "221 batch_normalization_158\n",
      "222 batch_normalization_163\n",
      "223 batch_normalization_164\n",
      "224 activation_155\n",
      "225 activation_158\n",
      "226 activation_163\n",
      "227 activation_164\n",
      "228 mixed7\n",
      "229 conv2d_167\n",
      "230 batch_normalization_167\n",
      "231 activation_167\n",
      "232 conv2d_168\n",
      "233 batch_normalization_168\n",
      "234 activation_168\n",
      "235 conv2d_165\n",
      "236 conv2d_169\n",
      "237 batch_normalization_165\n",
      "238 batch_normalization_169\n",
      "239 activation_165\n",
      "240 activation_169\n",
      "241 conv2d_166\n",
      "242 conv2d_170\n",
      "243 batch_normalization_166\n",
      "244 batch_normalization_170\n",
      "245 activation_166\n",
      "246 activation_170\n",
      "247 max_pooling2d_8\n",
      "248 mixed8\n",
      "249 conv2d_175\n",
      "250 batch_normalization_175\n",
      "251 activation_175\n",
      "252 conv2d_172\n",
      "253 conv2d_176\n",
      "254 batch_normalization_172\n",
      "255 batch_normalization_176\n",
      "256 activation_172\n",
      "257 activation_176\n",
      "258 conv2d_173\n",
      "259 conv2d_174\n",
      "260 conv2d_177\n",
      "261 conv2d_178\n",
      "262 average_pooling2d_17\n",
      "263 conv2d_171\n",
      "264 batch_normalization_173\n",
      "265 batch_normalization_174\n",
      "266 batch_normalization_177\n",
      "267 batch_normalization_178\n",
      "268 conv2d_179\n",
      "269 batch_normalization_171\n",
      "270 activation_173\n",
      "271 activation_174\n",
      "272 activation_177\n",
      "273 activation_178\n",
      "274 batch_normalization_179\n",
      "275 activation_171\n",
      "276 mixed9_0\n",
      "277 concatenate_3\n",
      "278 activation_179\n",
      "279 mixed9\n",
      "280 conv2d_184\n",
      "281 batch_normalization_184\n",
      "282 activation_184\n",
      "283 conv2d_181\n",
      "284 conv2d_185\n",
      "285 batch_normalization_181\n",
      "286 batch_normalization_185\n",
      "287 activation_181\n",
      "288 activation_185\n",
      "289 conv2d_182\n",
      "290 conv2d_183\n",
      "291 conv2d_186\n",
      "292 conv2d_187\n",
      "293 average_pooling2d_18\n",
      "294 conv2d_180\n",
      "295 batch_normalization_182\n",
      "296 batch_normalization_183\n",
      "297 batch_normalization_186\n",
      "298 batch_normalization_187\n",
      "299 conv2d_188\n",
      "300 batch_normalization_180\n",
      "301 activation_182\n",
      "302 activation_183\n",
      "303 activation_186\n",
      "304 activation_187\n",
      "305 batch_normalization_188\n",
      "306 activation_180\n",
      "307 mixed9_1\n",
      "308 concatenate_4\n",
      "309 activation_188\n",
      "310 mixed10\n",
      "Epoch 1/15\n",
      " 80/222 [=========>....................] - ETA: 2:09 - loss: 0.2403"
     ]
    },
    {
     "name": "stderr",
     "output_type": "stream",
     "text": [
      "/home/lemay/py_36_env/lib/python3.6/site-packages/PIL/TiffImagePlugin.py:788: UserWarning: Corrupt EXIF data.  Expecting to read 4 bytes but only got 0. \n",
      "  warnings.warn(str(msg))\n"
     ]
    },
    {
     "name": "stdout",
     "output_type": "stream",
     "text": [
      "222/222 [==============================] - 198s 892ms/step - loss: 0.2462 - val_loss: 3.5263\n",
      "Epoch 2/15\n",
      "222/222 [==============================] - 194s 876ms/step - loss: 0.2299 - val_loss: 2.3376\n",
      "Epoch 3/15\n",
      "222/222 [==============================] - 195s 877ms/step - loss: 0.2288 - val_loss: 3.5467\n",
      "Epoch 4/15\n",
      "222/222 [==============================] - 194s 875ms/step - loss: 0.2252 - val_loss: 3.3007\n",
      "Epoch 5/15\n",
      "222/222 [==============================] - 195s 878ms/step - loss: 0.1985 - val_loss: 3.1954\n",
      "Epoch 6/15\n",
      "222/222 [==============================] - 194s 876ms/step - loss: 0.1992 - val_loss: 4.2850\n",
      "Epoch 7/15\n",
      "222/222 [==============================] - 195s 877ms/step - loss: 0.1901 - val_loss: 3.7083\n",
      "Epoch 8/15\n",
      "222/222 [==============================] - 194s 874ms/step - loss: 0.1819 - val_loss: 4.1273\n",
      "Epoch 9/15\n",
      "222/222 [==============================] - 196s 881ms/step - loss: 0.1735 - val_loss: 3.5671\n",
      "Epoch 10/15\n",
      "222/222 [==============================] - 194s 873ms/step - loss: 0.1779 - val_loss: 4.5183\n",
      "Epoch 11/15\n",
      "222/222 [==============================] - 195s 877ms/step - loss: 0.1713 - val_loss: 3.7280\n",
      "Epoch 12/15\n",
      "222/222 [==============================] - 194s 875ms/step - loss: 0.1704 - val_loss: 4.3298\n",
      "Epoch 13/15\n",
      "222/222 [==============================] - 195s 877ms/step - loss: 0.1657 - val_loss: 4.3443\n",
      "Epoch 14/15\n",
      "222/222 [==============================] - 194s 875ms/step - loss: 0.1693 - val_loss: 3.5705\n",
      "Epoch 15/15\n",
      "222/222 [==============================] - 195s 877ms/step - loss: 0.1523 - val_loss: 4.1519\n"
     ]
    },
    {
     "data": {
      "text/plain": [
       "<keras.callbacks.callbacks.History at 0x7f94300c6c18>"
      ]
     },
     "execution_count": 26,
     "metadata": {},
     "output_type": "execute_result"
    }
   ],
   "source": [
    "# Source: https://keras.io/applications/\n",
    "from keras.applications.inception_v3 import InceptionV3\n",
    "from keras.preprocessing import image\n",
    "from keras.models import Model\n",
    "from keras.layers import Dense, GlobalAveragePooling2D\n",
    "from keras import backend as K\n",
    "\n",
    "# create the base pre-trained model\n",
    "base_model = InceptionV3(weights='imagenet', include_top=False)\n",
    "\n",
    "# add a global spatial average pooling layer\n",
    "x = base_model.output\n",
    "x = GlobalAveragePooling2D()(x)\n",
    "# let's add a fully-connected layer\n",
    "x = Dense(1024, activation='relu')(x)\n",
    "# and a logistic layer -- let's say we have 200 classes\n",
    "predictions = Dense(5, activation='softmax')(x)\n",
    "\n",
    "# this is the model we will train\n",
    "model = Model(inputs=base_model.input, outputs=predictions)\n",
    "\n",
    "# first: train only the top layers (which were randomly initialized)\n",
    "# i.e. freeze all convolutional InceptionV3 layers\n",
    "for layer in base_model.layers:\n",
    "    layer.trainable = False\n",
    "\n",
    "# compile the model (should be done *after* setting layers to non-trainable)\n",
    "model.compile(optimizer='rmsprop', loss='categorical_crossentropy')\n",
    "\n",
    "# train the model on the new data for a few epochs\n",
    "model.fit_generator(\n",
    "    train_data_gen,\n",
    "    steps_per_epoch=total_train // batch_size,\n",
    "    epochs=epochs,\n",
    "    validation_data=val_data_gen,\n",
    "    validation_steps=total_val // batch_size\n",
    ")\n",
    "\n",
    "# at this point, the top layers are well trained and we can start fine-tuning\n",
    "# convolutional layers from inception V3. We will freeze the bottom N layers\n",
    "# and train the remaining top layers.\n",
    "\n",
    "# let's visualize layer names and layer indices to see how many layers\n",
    "# we should freeze:\n",
    "for i, layer in enumerate(base_model.layers):\n",
    "    print(i, layer.name)\n",
    "\n",
    "# we chose to train the top 2 inception blocks, i.e. we will freeze\n",
    "# the first 249 layers and unfreeze the rest:\n",
    "for layer in model.layers[:249]:\n",
    "    layer.trainable = False\n",
    "for layer in model.layers[249:]:\n",
    "    layer.trainable = True\n",
    "\n",
    "# we need to recompile the model for these modifications to take effect\n",
    "# we use SGD with a low learning rate\n",
    "from keras.optimizers import SGD\n",
    "model.compile(optimizer=SGD(lr=0.0001, momentum=0.9), loss='categorical_crossentropy')\n",
    "\n",
    "# we train our model again (this time fine-tuning the top 2 inception blocks\n",
    "# alongside the top Dense layers\n",
    "model.fit_generator(\n",
    "    train_data_gen,\n",
    "    steps_per_epoch=total_train // batch_size,\n",
    "    epochs=epochs,\n",
    "    validation_data=val_data_gen,\n",
    "    validation_steps=total_val // batch_size\n",
    ")"
   ]
  },
  {
   "cell_type": "code",
   "execution_count": 27,
   "metadata": {
    "ExecuteTime": {
     "end_time": "2020-04-20T07:19:27.161338Z",
     "start_time": "2020-04-20T07:19:26.793865Z"
    }
   },
   "outputs": [],
   "source": [
    "# Save the model, even though it didn't work out\n",
    "model.save('transfer_learned.h5')"
   ]
  },
  {
   "cell_type": "markdown",
   "metadata": {},
   "source": [
    "In the cell below we look at what the actual class was, and what class was predicted for this particular classifier trained using transfer learning. We can see that the model likes classes 2 and 0, which might come down to a class imbalance thing. "
   ]
  },
  {
   "cell_type": "code",
   "execution_count": 37,
   "metadata": {
    "ExecuteTime": {
     "end_time": "2020-04-20T07:25:44.690711Z",
     "start_time": "2020-04-20T07:25:43.189825Z"
    }
   },
   "outputs": [
    {
     "name": "stdout",
     "output_type": "stream",
     "text": [
      "predicted 0 actual 0\n",
      "predicted 2 actual 3\n",
      "predicted 2 actual 0\n",
      "predicted 3 actual 3\n",
      "predicted 2 actual 1\n",
      "predicted 2 actual 1\n",
      "predicted 2 actual 3\n",
      "predicted 2 actual 1\n",
      "predicted 2 actual 3\n",
      "predicted 2 actual 1\n",
      "predicted 2 actual 1\n",
      "predicted 2 actual 3\n",
      "predicted 2 actual 2\n",
      "predicted 2 actual 4\n",
      "predicted 2 actual 3\n",
      "predicted 0 actual 4\n",
      "predicted 2 actual 3\n",
      "predicted 2 actual 4\n",
      "(18, 5)\n",
      "predicted 2 actual 2\n",
      "predicted 2 actual 3\n",
      "predicted 0 actual 4\n",
      "predicted 2 actual 2\n",
      "predicted 2 actual 1\n",
      "predicted 0 actual 0\n",
      "predicted 2 actual 0\n",
      "predicted 2 actual 2\n",
      "predicted 2 actual 2\n",
      "predicted 0 actual 0\n",
      "predicted 2 actual 1\n",
      "predicted 0 actual 4\n",
      "predicted 2 actual 2\n",
      "predicted 2 actual 4\n",
      "predicted 2 actual 4\n",
      "predicted 2 actual 1\n",
      "predicted 2 actual 3\n",
      "predicted 2 actual 0\n",
      "predicted 2 actual 3\n",
      "predicted 2 actual 4\n",
      "predicted 2 actual 1\n",
      "predicted 2 actual 3\n",
      "predicted 2 actual 2\n",
      "predicted 2 actual 1\n",
      "predicted 2 actual 1\n",
      "predicted 2 actual 3\n",
      "predicted 2 actual 0\n",
      "predicted 2 actual 1\n",
      "predicted 2 actual 0\n",
      "predicted 2 actual 4\n",
      "predicted 2 actual 1\n",
      "predicted 2 actual 3\n",
      "(32, 5)\n"
     ]
    }
   ],
   "source": [
    "for _ in range(2):\n",
    "    data=next(val_data_gen)\n",
    "    pred=model.predict(data[0])\n",
    "    pred=np.array(pred)\n",
    "    for i in range(pred.shape[0]):\n",
    "        print(\"predicted\",np.argmax(pred[i]),\"actual\",np.argmax(data[1][i]))\n",
    "    print(pred.shape)"
   ]
  },
  {
   "cell_type": "markdown",
   "metadata": {},
   "source": [
    "## Try class weights with transfer learning"
   ]
  },
  {
   "cell_type": "markdown",
   "metadata": {
    "ExecuteTime": {
     "end_time": "2020-04-20T07:38:37.401437Z",
     "start_time": "2020-04-20T07:38:37.396448Z"
    }
   },
   "source": [
    "We now map class weights into a dict by index. This allows it to be passed into the keras fit_generator method. We start with the `val_data_gen` categorical class definitions, and the `class_weights` that we computed way above in 1.5.1 of this notebook"
   ]
  },
  {
   "cell_type": "code",
   "execution_count": 132,
   "metadata": {
    "ExecuteTime": {
     "end_time": "2020-04-20T14:25:46.595035Z",
     "start_time": "2020-04-20T14:25:46.588577Z"
    }
   },
   "outputs": [
    {
     "name": "stdout",
     "output_type": "stream",
     "text": [
      "console 0\n",
      "eclipse 1\n",
      "facebook 2\n",
      "gene 3\n",
      "legal 4\n"
     ]
    },
    {
     "data": {
      "text/plain": [
       "{0: 4.601880877742946,\n",
       " 1: 1.748659916617034,\n",
       " 2: 3.328798185941043,\n",
       " 3: 3.02680412371134,\n",
       " 4: 1.0}"
      ]
     },
     "execution_count": 132,
     "metadata": {},
     "output_type": "execute_result"
    }
   ],
   "source": [
    "new_class_weights={}\n",
    "for k in val_data_gen.class_indices.keys():\n",
    "    print(k,val_data_gen.class_indices[k])\n",
    "    new_class_weights[val_data_gen.class_indices[k]]=class_weights[k]\n",
    "new_class_weights"
   ]
  },
  {
   "cell_type": "markdown",
   "metadata": {},
   "source": [
    "We now re-run the 2-step transfer learning procedure from before, but using `new_class_weights` to avoid learning from the class imbalance in the data"
   ]
  },
  {
   "cell_type": "code",
   "execution_count": null,
   "metadata": {
    "ExecuteTime": {
     "start_time": "2020-04-20T10:37:30.154Z"
    },
    "scrolled": true
   },
   "outputs": [
    {
     "name": "stdout",
     "output_type": "stream",
     "text": [
      "Epoch 1/15\n",
      "191/222 [========================>.....] - ETA: 6s - loss: 2.8141"
     ]
    },
    {
     "name": "stderr",
     "output_type": "stream",
     "text": [
      "/home/lemay/py_36_env/lib/python3.6/site-packages/PIL/TiffImagePlugin.py:788: UserWarning: Corrupt EXIF data.  Expecting to read 4 bytes but only got 0. \n",
      "  warnings.warn(str(msg))\n"
     ]
    },
    {
     "name": "stdout",
     "output_type": "stream",
     "text": [
      "222/222 [==============================] - 49s 221ms/step - loss: 2.6971 - val_loss: 3.7302\n",
      "Epoch 2/15\n",
      "222/222 [==============================] - 48s 217ms/step - loss: 1.9046 - val_loss: 3.7715\n",
      "Epoch 3/15\n",
      "222/222 [==============================] - 48s 218ms/step - loss: 1.7504 - val_loss: 3.0968\n",
      "Epoch 4/15\n",
      "222/222 [==============================] - 48s 217ms/step - loss: 1.6492 - val_loss: 3.2633\n",
      "Epoch 5/15\n",
      "222/222 [==============================] - 48s 218ms/step - loss: 1.5968 - val_loss: 3.8048\n",
      "Epoch 6/15\n",
      "222/222 [==============================] - 48s 216ms/step - loss: 1.5268 - val_loss: 6.0196\n",
      "Epoch 7/15\n",
      "222/222 [==============================] - 48s 218ms/step - loss: 1.5210 - val_loss: 4.7159\n",
      "Epoch 8/15\n",
      "222/222 [==============================] - 48s 216ms/step - loss: 1.5193 - val_loss: 2.4051\n",
      "Epoch 9/15\n",
      "222/222 [==============================] - 48s 218ms/step - loss: 1.4907 - val_loss: 4.3201\n",
      "Epoch 10/15\n",
      "222/222 [==============================] - 48s 217ms/step - loss: 1.4846 - val_loss: 3.9883\n",
      "Epoch 11/15\n",
      "222/222 [==============================] - 48s 218ms/step - loss: 1.4528 - val_loss: 3.1283\n",
      "Epoch 12/15\n",
      "222/222 [==============================] - 48s 217ms/step - loss: 1.4175 - val_loss: 3.3060\n",
      "Epoch 13/15\n",
      "222/222 [==============================] - 48s 218ms/step - loss: 1.4609 - val_loss: 3.1163\n",
      "Epoch 14/15\n",
      "222/222 [==============================] - 48s 216ms/step - loss: 1.4164 - val_loss: 6.5202\n",
      "Epoch 15/15\n",
      "222/222 [==============================] - 49s 219ms/step - loss: 1.4052 - val_loss: 3.4812\n",
      "0 input_1\n",
      "1 conv2d_1\n",
      "2 batch_normalization_1\n",
      "3 activation_1\n",
      "4 conv2d_2\n",
      "5 batch_normalization_2\n",
      "6 activation_2\n",
      "7 conv2d_3\n",
      "8 batch_normalization_3\n",
      "9 activation_3\n",
      "10 max_pooling2d_1\n",
      "11 conv2d_4\n",
      "12 batch_normalization_4\n",
      "13 activation_4\n",
      "14 conv2d_5\n",
      "15 batch_normalization_5\n",
      "16 activation_5\n",
      "17 max_pooling2d_2\n",
      "18 conv2d_9\n",
      "19 batch_normalization_9\n",
      "20 activation_9\n",
      "21 conv2d_7\n",
      "22 conv2d_10\n",
      "23 batch_normalization_7\n",
      "24 batch_normalization_10\n",
      "25 activation_7\n",
      "26 activation_10\n",
      "27 average_pooling2d_1\n",
      "28 conv2d_6\n",
      "29 conv2d_8\n",
      "30 conv2d_11\n",
      "31 conv2d_12\n",
      "32 batch_normalization_6\n",
      "33 batch_normalization_8\n",
      "34 batch_normalization_11\n",
      "35 batch_normalization_12\n",
      "36 activation_6\n",
      "37 activation_8\n",
      "38 activation_11\n",
      "39 activation_12\n",
      "40 mixed0\n",
      "41 conv2d_16\n",
      "42 batch_normalization_16\n",
      "43 activation_16\n",
      "44 conv2d_14\n",
      "45 conv2d_17\n",
      "46 batch_normalization_14\n",
      "47 batch_normalization_17\n",
      "48 activation_14\n",
      "49 activation_17\n",
      "50 average_pooling2d_2\n",
      "51 conv2d_13\n",
      "52 conv2d_15\n",
      "53 conv2d_18\n",
      "54 conv2d_19\n",
      "55 batch_normalization_13\n",
      "56 batch_normalization_15\n",
      "57 batch_normalization_18\n",
      "58 batch_normalization_19\n",
      "59 activation_13\n",
      "60 activation_15\n",
      "61 activation_18\n",
      "62 activation_19\n",
      "63 mixed1\n",
      "64 conv2d_23\n",
      "65 batch_normalization_23\n",
      "66 activation_23\n",
      "67 conv2d_21\n",
      "68 conv2d_24\n",
      "69 batch_normalization_21\n",
      "70 batch_normalization_24\n",
      "71 activation_21\n",
      "72 activation_24\n",
      "73 average_pooling2d_3\n",
      "74 conv2d_20\n",
      "75 conv2d_22\n",
      "76 conv2d_25\n",
      "77 conv2d_26\n",
      "78 batch_normalization_20\n",
      "79 batch_normalization_22\n",
      "80 batch_normalization_25\n",
      "81 batch_normalization_26\n",
      "82 activation_20\n",
      "83 activation_22\n",
      "84 activation_25\n",
      "85 activation_26\n",
      "86 mixed2\n",
      "87 conv2d_28\n",
      "88 batch_normalization_28\n",
      "89 activation_28\n",
      "90 conv2d_29\n",
      "91 batch_normalization_29\n",
      "92 activation_29\n",
      "93 conv2d_27\n",
      "94 conv2d_30\n",
      "95 batch_normalization_27\n",
      "96 batch_normalization_30\n",
      "97 activation_27\n",
      "98 activation_30\n",
      "99 max_pooling2d_3\n",
      "100 mixed3\n",
      "101 conv2d_35\n",
      "102 batch_normalization_35\n",
      "103 activation_35\n",
      "104 conv2d_36\n",
      "105 batch_normalization_36\n",
      "106 activation_36\n",
      "107 conv2d_32\n",
      "108 conv2d_37\n",
      "109 batch_normalization_32\n",
      "110 batch_normalization_37\n",
      "111 activation_32\n",
      "112 activation_37\n",
      "113 conv2d_33\n",
      "114 conv2d_38\n",
      "115 batch_normalization_33\n",
      "116 batch_normalization_38\n",
      "117 activation_33\n",
      "118 activation_38\n",
      "119 average_pooling2d_4\n",
      "120 conv2d_31\n",
      "121 conv2d_34\n",
      "122 conv2d_39\n",
      "123 conv2d_40\n",
      "124 batch_normalization_31\n",
      "125 batch_normalization_34\n",
      "126 batch_normalization_39\n",
      "127 batch_normalization_40\n",
      "128 activation_31\n",
      "129 activation_34\n",
      "130 activation_39\n",
      "131 activation_40\n",
      "132 mixed4\n",
      "133 conv2d_45\n",
      "134 batch_normalization_45\n",
      "135 activation_45\n",
      "136 conv2d_46\n",
      "137 batch_normalization_46\n",
      "138 activation_46\n",
      "139 conv2d_42\n",
      "140 conv2d_47\n",
      "141 batch_normalization_42\n",
      "142 batch_normalization_47\n",
      "143 activation_42\n",
      "144 activation_47\n",
      "145 conv2d_43\n",
      "146 conv2d_48\n",
      "147 batch_normalization_43\n",
      "148 batch_normalization_48\n",
      "149 activation_43\n",
      "150 activation_48\n",
      "151 average_pooling2d_5\n",
      "152 conv2d_41\n",
      "153 conv2d_44\n",
      "154 conv2d_49\n",
      "155 conv2d_50\n",
      "156 batch_normalization_41\n",
      "157 batch_normalization_44\n",
      "158 batch_normalization_49\n",
      "159 batch_normalization_50\n",
      "160 activation_41\n",
      "161 activation_44\n",
      "162 activation_49\n",
      "163 activation_50\n",
      "164 mixed5\n",
      "165 conv2d_55\n",
      "166 batch_normalization_55\n",
      "167 activation_55\n",
      "168 conv2d_56\n",
      "169 batch_normalization_56\n",
      "170 activation_56\n",
      "171 conv2d_52\n",
      "172 conv2d_57\n",
      "173 batch_normalization_52\n",
      "174 batch_normalization_57\n",
      "175 activation_52\n",
      "176 activation_57\n",
      "177 conv2d_53\n",
      "178 conv2d_58\n",
      "179 batch_normalization_53\n",
      "180 batch_normalization_58\n",
      "181 activation_53\n",
      "182 activation_58\n",
      "183 average_pooling2d_6\n",
      "184 conv2d_51\n",
      "185 conv2d_54\n",
      "186 conv2d_59\n",
      "187 conv2d_60\n",
      "188 batch_normalization_51\n",
      "189 batch_normalization_54\n",
      "190 batch_normalization_59\n",
      "191 batch_normalization_60\n",
      "192 activation_51\n",
      "193 activation_54\n",
      "194 activation_59\n",
      "195 activation_60\n",
      "196 mixed6\n",
      "197 conv2d_65\n",
      "198 batch_normalization_65\n",
      "199 activation_65\n",
      "200 conv2d_66\n",
      "201 batch_normalization_66\n",
      "202 activation_66\n",
      "203 conv2d_62\n",
      "204 conv2d_67\n",
      "205 batch_normalization_62\n",
      "206 batch_normalization_67\n",
      "207 activation_62\n",
      "208 activation_67\n",
      "209 conv2d_63\n",
      "210 conv2d_68\n",
      "211 batch_normalization_63\n",
      "212 batch_normalization_68\n",
      "213 activation_63\n",
      "214 activation_68\n",
      "215 average_pooling2d_7\n",
      "216 conv2d_61\n",
      "217 conv2d_64\n",
      "218 conv2d_69\n",
      "219 conv2d_70\n",
      "220 batch_normalization_61\n",
      "221 batch_normalization_64\n",
      "222 batch_normalization_69\n",
      "223 batch_normalization_70\n",
      "224 activation_61\n",
      "225 activation_64\n",
      "226 activation_69\n",
      "227 activation_70\n",
      "228 mixed7\n",
      "229 conv2d_73\n",
      "230 batch_normalization_73\n",
      "231 activation_73\n",
      "232 conv2d_74\n",
      "233 batch_normalization_74\n",
      "234 activation_74\n",
      "235 conv2d_71\n",
      "236 conv2d_75\n",
      "237 batch_normalization_71\n",
      "238 batch_normalization_75\n",
      "239 activation_71\n",
      "240 activation_75\n",
      "241 conv2d_72\n",
      "242 conv2d_76\n",
      "243 batch_normalization_72\n",
      "244 batch_normalization_76\n",
      "245 activation_72\n",
      "246 activation_76\n",
      "247 max_pooling2d_4\n",
      "248 mixed8\n",
      "249 conv2d_81\n",
      "250 batch_normalization_81\n",
      "251 activation_81\n",
      "252 conv2d_78\n",
      "253 conv2d_82\n",
      "254 batch_normalization_78\n",
      "255 batch_normalization_82\n",
      "256 activation_78\n",
      "257 activation_82\n",
      "258 conv2d_79\n",
      "259 conv2d_80\n",
      "260 conv2d_83\n",
      "261 conv2d_84\n",
      "262 average_pooling2d_8\n",
      "263 conv2d_77\n",
      "264 batch_normalization_79\n",
      "265 batch_normalization_80\n",
      "266 batch_normalization_83\n",
      "267 batch_normalization_84\n",
      "268 conv2d_85\n",
      "269 batch_normalization_77\n",
      "270 activation_79\n",
      "271 activation_80\n",
      "272 activation_83\n",
      "273 activation_84\n",
      "274 batch_normalization_85\n",
      "275 activation_77\n",
      "276 mixed9_0\n",
      "277 concatenate_1\n",
      "278 activation_85\n",
      "279 mixed9\n",
      "280 conv2d_90\n",
      "281 batch_normalization_90\n",
      "282 activation_90\n",
      "283 conv2d_87\n",
      "284 conv2d_91\n",
      "285 batch_normalization_87\n",
      "286 batch_normalization_91\n",
      "287 activation_87\n",
      "288 activation_91\n",
      "289 conv2d_88\n",
      "290 conv2d_89\n",
      "291 conv2d_92\n",
      "292 conv2d_93\n",
      "293 average_pooling2d_9\n",
      "294 conv2d_86\n",
      "295 batch_normalization_88\n",
      "296 batch_normalization_89\n",
      "297 batch_normalization_92\n",
      "298 batch_normalization_93\n",
      "299 conv2d_94\n",
      "300 batch_normalization_86\n",
      "301 activation_88\n",
      "302 activation_89\n",
      "303 activation_92\n",
      "304 activation_93\n",
      "305 batch_normalization_94\n",
      "306 activation_86\n",
      "307 mixed9_1\n",
      "308 concatenate_2\n",
      "309 activation_94\n",
      "310 mixed10\n",
      "Epoch 1/15\n",
      "196/222 [=========================>....] - ETA: 6s - loss: 1.0341"
     ]
    },
    {
     "name": "stderr",
     "output_type": "stream",
     "text": [
      "/home/lemay/py_36_env/lib/python3.6/site-packages/PIL/TiffImagePlugin.py:788: UserWarning: Corrupt EXIF data.  Expecting to read 4 bytes but only got 0. \n",
      "  warnings.warn(str(msg))\n"
     ]
    },
    {
     "name": "stdout",
     "output_type": "stream",
     "text": [
      "222/222 [==============================] - 60s 269ms/step - loss: 1.0168 - val_loss: 3.1061\n",
      "Epoch 2/15\n",
      "222/222 [==============================] - 58s 262ms/step - loss: 0.9721 - val_loss: 4.5220\n",
      "Epoch 3/15\n",
      "202/222 [==========================>...] - ETA: 5s - loss: 0.8251"
     ]
    }
   ],
   "source": [
    "from keras.applications.inception_v3 import InceptionV3\n",
    "from keras.preprocessing import image\n",
    "from keras.models import Model\n",
    "from keras.layers import Dense, GlobalAveragePooling2D\n",
    "from keras import backend as K\n",
    "\n",
    "# create the base pre-trained model\n",
    "base_model = InceptionV3(weights='imagenet', include_top=False)\n",
    "\n",
    "# add a global spatial average pooling layer\n",
    "x = base_model.output\n",
    "x = GlobalAveragePooling2D()(x)\n",
    "# let's add a fully-connected layer\n",
    "x = Dense(512, activation='relu')(x)\n",
    "# and a logistic layer -- let's say we have 200 classes\n",
    "predictions = Dense(5, activation='softmax')(x)\n",
    "\n",
    "# this is the model we will train\n",
    "model = Model(inputs=base_model.input, outputs=predictions)\n",
    "\n",
    "# first: train only the top layers (which were randomly initialized)\n",
    "# i.e. freeze all convolutional InceptionV3 layers\n",
    "for layer in base_model.layers:\n",
    "    layer.trainable = False\n",
    "\n",
    "# compile the model (should be done *after* setting layers to non-trainable)\n",
    "model.compile(optimizer='rmsprop', loss='categorical_crossentropy')\n",
    "\n",
    "# train the model on the new data for a few epochs\n",
    "model.fit_generator(\n",
    "    train_data_gen,\n",
    "    steps_per_epoch=total_train // batch_size,\n",
    "    epochs=epochs,\n",
    "    validation_data=val_data_gen,\n",
    "    validation_steps=total_val // batch_size,\n",
    "    class_weight=new_class_weights\n",
    ")\n",
    "\n",
    "# at this point, the top layers are well trained and we can start fine-tuning\n",
    "# convolutional layers from inception V3. We will freeze the bottom N layers\n",
    "# and train the remaining top layers.\n",
    "\n",
    "# let's visualize layer names and layer indices to see how many layers\n",
    "# we should freeze:\n",
    "for i, layer in enumerate(base_model.layers):\n",
    "    print(i, layer.name)\n",
    "\n",
    "# we chose to train the top 2 inception blocks, i.e. we will freeze\n",
    "# the first 249 layers and unfreeze the rest:\n",
    "for layer in model.layers[:249]:\n",
    "    layer.trainable = False\n",
    "for layer in model.layers[249:]:\n",
    "    layer.trainable = True\n",
    "\n",
    "# we need to recompile the model for these modifications to take effect\n",
    "# we use SGD with a low learning rate\n",
    "from keras.optimizers import SGD\n",
    "model.compile(optimizer=SGD(lr=0.0001, momentum=0.9), loss='categorical_crossentropy')\n",
    "\n",
    "# we train our model again (this time fine-tuning the top 2 inception blocks\n",
    "# alongside the top Dense layers\n",
    "model.fit_generator(\n",
    "    train_data_gen,\n",
    "    steps_per_epoch=total_train // batch_size,\n",
    "    epochs=epochs,\n",
    "    validation_data=val_data_gen,\n",
    "    validation_steps=total_val // batch_size,\n",
    "    class_weight=new_class_weights\n",
    ")"
   ]
  },
  {
   "cell_type": "code",
   "execution_count": 57,
   "metadata": {
    "ExecuteTime": {
     "end_time": "2020-04-20T09:18:18.922387Z",
     "start_time": "2020-04-20T09:18:18.675553Z"
    }
   },
   "outputs": [],
   "source": [
    "# Save the model, even though it didn't work... again...\n",
    "model.save('transfer_learned_class_weights.h5')"
   ]
  },
  {
   "cell_type": "markdown",
   "metadata": {},
   "source": [
    "In the next cell, we look at what the actual class was compared with what class was predicted for this particular classifier trained using transfer learning and class weights. We can see that the model likes classes 2 and 0, just like before. "
   ]
  },
  {
   "cell_type": "code",
   "execution_count": 58,
   "metadata": {
    "ExecuteTime": {
     "end_time": "2020-04-20T09:18:40.570245Z",
     "start_time": "2020-04-20T09:18:37.510356Z"
    }
   },
   "outputs": [
    {
     "name": "stdout",
     "output_type": "stream",
     "text": [
      "predicted 0 actual 0\n",
      "predicted 2 actual 4\n",
      "predicted 2 actual 4\n",
      "predicted 2 actual 2\n",
      "predicted 2 actual 2\n",
      "predicted 2 actual 1\n",
      "predicted 2 actual 3\n",
      "predicted 2 actual 1\n",
      "predicted 2 actual 0\n",
      "predicted 2 actual 2\n",
      "predicted 0 actual 0\n",
      "predicted 2 actual 0\n",
      "predicted 1 actual 3\n",
      "predicted 2 actual 2\n",
      "predicted 0 actual 0\n",
      "predicted 2 actual 4\n",
      "predicted 2 actual 4\n",
      "predicted 2 actual 3\n",
      "(18, 5)\n",
      "predicted 2 actual 1\n",
      "predicted 2 actual 4\n",
      "predicted 2 actual 2\n",
      "predicted 2 actual 3\n",
      "predicted 2 actual 1\n",
      "predicted 2 actual 1\n",
      "predicted 2 actual 3\n",
      "predicted 2 actual 0\n",
      "predicted 2 actual 1\n",
      "predicted 2 actual 2\n",
      "predicted 0 actual 0\n",
      "predicted 2 actual 4\n",
      "predicted 2 actual 2\n",
      "predicted 2 actual 0\n",
      "predicted 2 actual 2\n",
      "predicted 2 actual 3\n",
      "predicted 2 actual 3\n",
      "predicted 2 actual 4\n",
      "predicted 2 actual 4\n",
      "predicted 2 actual 2\n",
      "predicted 2 actual 0\n",
      "predicted 1 actual 3\n",
      "predicted 2 actual 2\n",
      "predicted 2 actual 1\n",
      "predicted 2 actual 4\n",
      "predicted 0 actual 0\n",
      "predicted 0 actual 0\n",
      "predicted 2 actual 1\n",
      "predicted 2 actual 4\n",
      "predicted 2 actual 3\n",
      "predicted 2 actual 1\n",
      "predicted 2 actual 0\n",
      "(32, 5)\n"
     ]
    }
   ],
   "source": [
    "for _ in range(2):\n",
    "    data=next(val_data_gen)\n",
    "    pred=model.predict(data[0])\n",
    "    pred=np.array(pred)\n",
    "    for i in range(pred.shape[0]):\n",
    "        print(\"predicted\",np.argmax(pred[i]),\"actual\",np.argmax(data[1][i]))\n",
    "    print(pred.shape)"
   ]
  },
  {
   "cell_type": "markdown",
   "metadata": {},
   "source": [
    "## Trying a PCA and SVM pipeline"
   ]
  },
  {
   "cell_type": "markdown",
   "metadata": {},
   "source": [
    "Deep learning gave us lots of trouble, and so it makes sense to try something simple like a pipeline with dimensionality reduction fed into a classifier like a support vector machine. We can do a grid search to look for the best hyperparameters to use. This code is a mix of the preprocessing code above and the tutorial \"<a href=\"https://scikit-learn.org/stable/auto_examples/applications/plot_face_recognition.html\" target=\"_blank\">Faces recognition example using eigenfaces and SVMs</a>\" from scikit-learn.org.\n",
    "\n",
    "In the first cell, we set the main hyperparameters and set up the data generators for training and validation data. The batch size is set to 1 to avoid having to pull together batches into the dataset. This time we make the image scaling a bit more aggressive in order to reduce the size of the data (64x64x3 instead of 128x128x3)."
   ]
  },
  {
   "cell_type": "code",
   "execution_count": 235,
   "metadata": {
    "ExecuteTime": {
     "end_time": "2020-04-21T05:02:38.023058Z",
     "start_time": "2020-04-21T05:02:37.572015Z"
    }
   },
   "outputs": [
    {
     "name": "stdout",
     "output_type": "stream",
     "text": [
      "Found 50 images belonging to 5 classes.\n",
      "Found 7105 images belonging to 5 classes.\n"
     ]
    }
   ],
   "source": [
    "batch_size = 1\n",
    "# epochs = 15\n",
    "IMG_HEIGHT = 64\n",
    "IMG_WIDTH = 64\n",
    "image_gen_val = ImageDataGenerator(rescale=1./255)\n",
    "image_gen_train = ImageDataGenerator(\n",
    "                    rescale=1./255,\n",
    "                    #rotation_range=45,\n",
    "                    #width_shift_range=.15,\n",
    "                    #height_shift_range=.15,\n",
    "                    horizontal_flip=True,\n",
    "                    #zoom_range=0.5\n",
    "                    )\n",
    "\n",
    "val_data_gen = image_gen_val.flow_from_directory(batch_size=batch_size,\n",
    "                                                 directory=validation_dir,\n",
    "                                                 target_size=(IMG_HEIGHT, IMG_WIDTH),\n",
    "                                                 class_mode='categorical')\n",
    "\n",
    "train_data_gen = image_gen_train.flow_from_directory(batch_size=batch_size,\n",
    "                                                     directory=train_dir,\n",
    "                                                     shuffle=True,\n",
    "                                                     target_size=(IMG_HEIGHT, IMG_WIDTH),\n",
    "                                                     class_mode='categorical')"
   ]
  },
  {
   "cell_type": "markdown",
   "metadata": {},
   "source": [
    "The next step is to set up the lists of training and testing data for the inputs X and the labels Y. The labels are converted from one-hot style to integers, and the image data is flattenned from 2D data into a list of numbers in 1D."
   ]
  },
  {
   "cell_type": "code",
   "execution_count": 237,
   "metadata": {
    "ExecuteTime": {
     "end_time": "2020-04-21T05:04:28.136130Z",
     "start_time": "2020-04-21T05:03:53.784690Z"
    }
   },
   "outputs": [
    {
     "name": "stderr",
     "output_type": "stream",
     "text": [
      "/home/lemay/py_36_env/lib/python3.6/site-packages/ipykernel_launcher.py:4: TqdmDeprecationWarning: This function will be removed in tqdm==5.0.0\n",
      "Please use `tqdm.notebook.tqdm` instead of `tqdm.tqdm_notebook`\n",
      "  after removing the cwd from sys.path.\n"
     ]
    },
    {
     "data": {
      "application/vnd.jupyter.widget-view+json": {
       "model_id": "8bd05fbd6ab34dae9d171a5aa604d8fb",
       "version_major": 2,
       "version_minor": 0
      },
      "text/plain": [
       "HBox(children=(FloatProgress(value=0.0, max=7105.0), HTML(value='')))"
      ]
     },
     "metadata": {},
     "output_type": "display_data"
    },
    {
     "name": "stdout",
     "output_type": "stream",
     "text": [
      "\n"
     ]
    },
    {
     "name": "stderr",
     "output_type": "stream",
     "text": [
      "/home/lemay/py_36_env/lib/python3.6/site-packages/ipykernel_launcher.py:15: TqdmDeprecationWarning: This function will be removed in tqdm==5.0.0\n",
      "Please use `tqdm.notebook.tqdm` instead of `tqdm.tqdm_notebook`\n",
      "  from ipykernel import kernelapp as app\n"
     ]
    },
    {
     "data": {
      "application/vnd.jupyter.widget-view+json": {
       "model_id": "67bc741b9c094125b162854b4ec55124",
       "version_major": 2,
       "version_minor": 0
      },
      "text/plain": [
       "HBox(children=(FloatProgress(value=0.0, max=50.0), HTML(value='')))"
      ]
     },
     "metadata": {},
     "output_type": "display_data"
    },
    {
     "name": "stdout",
     "output_type": "stream",
     "text": [
      "\n"
     ]
    }
   ],
   "source": [
    "X_train=[]\n",
    "y_train=[]\n",
    "\n",
    "for _ in tqdm(range(len(train_data_gen))):\n",
    "    try:\n",
    "        data=next(train_data_gen)\n",
    "        X_train.append(data[0].flatten())\n",
    "        y_train.append(np.argmax(data[1]))\n",
    "    except:\n",
    "        pass\n",
    "    \n",
    "X_test=[]\n",
    "y_test=[]\n",
    "\n",
    "for _ in tqdm(range(len(val_data_gen))):\n",
    "    try:\n",
    "        data=next(val_data_gen)\n",
    "        X_test.append(data[0].flatten())\n",
    "        y_test.append(np.argmax(data[1]))\n",
    "    except:\n",
    "        pass"
   ]
  },
  {
   "cell_type": "markdown",
   "metadata": {},
   "source": [
    "The next chunk of the code reduces the image representation using PCA, resulting in a dimensionality reduction from 64*64*3 down to 256. Again, we fit PCA and the SVM on the training data only, and not the validation data. We do a grid search on lots of CPUs (n_jobs=-1) to look for the best performing hyperparameters."
   ]
  },
  {
   "cell_type": "code",
   "execution_count": 239,
   "metadata": {
    "ExecuteTime": {
     "end_time": "2020-04-21T05:09:22.849034Z",
     "start_time": "2020-04-21T05:08:49.798537Z"
    }
   },
   "outputs": [
    {
     "name": "stdout",
     "output_type": "stream",
     "text": [
      "Projecting the input data on the data orthonormal basis\n",
      "Fitting the classifier to the training set\n",
      "Fitting 5 folds for each of 1 candidates, totalling 5 fits\n"
     ]
    },
    {
     "name": "stderr",
     "output_type": "stream",
     "text": [
      "[Parallel(n_jobs=-1)]: Using backend LokyBackend with 16 concurrent workers.\n",
      "[Parallel(n_jobs=-1)]: Done   5 out of   5 | elapsed:   15.3s finished\n"
     ]
    },
    {
     "name": "stdout",
     "output_type": "stream",
     "text": [
      "Best estimator found by grid search:\n",
      "SVC(C=1.0, break_ties=False, cache_size=200, class_weight='balanced', coef0=0.0,\n",
      "    decision_function_shape='ovr', degree=3, gamma='scale', kernel='rbf',\n",
      "    max_iter=-1, probability=False, random_state=None, shrinking=True,\n",
      "    tol=0.001, verbose=False)\n"
     ]
    }
   ],
   "source": [
    "from sklearn.model_selection import GridSearchCV\n",
    "from sklearn.svm import SVC\n",
    "from sklearn.pipeline import Pipeline\n",
    "from sklearn.feature_selection import f_regression\n",
    "from sklearn import svm\n",
    "from sklearn.feature_selection import SelectKBest\n",
    "from sklearn.neural_network import MLPClassifier\n",
    "from sklearn.linear_model import SGDClassifier\n",
    "import numpy as np\n",
    "from sklearn.decomposition import PCA\n",
    "\n",
    "n_features = IMG_HEIGHT*IMG_WIDTH*3\n",
    "n_classes = 5\n",
    "n_components = 256\n",
    "\n",
    "pca = PCA(n_components=n_components, svd_solver='randomized', whiten=True).fit(X)\n",
    "\n",
    "print(\"Projecting the input data on the data orthonormal basis\")\n",
    "X_pca = pca.transform(X_train)\n",
    "\n",
    "print(\"Fitting the classifier to the training set\")\n",
    "param_grid = {'C': [1e3, 5e3, 1e4, 5e4, 1e5],\n",
    "              'gamma': [0.0001, 0.0005, 0.001, 0.005, 0.01, 0.1], }\n",
    "param_grid={}\n",
    "clf = GridSearchCV(\n",
    "    SVC(kernel='rbf', class_weight='balanced'), param_grid, verbose=1, n_jobs=-1\n",
    ")\n",
    "clf = clf.fit(X_pca, y_train)\n",
    "print(\"Best estimator found by grid search:\")\n",
    "print(clf.best_estimator_)"
   ]
  },
  {
   "cell_type": "markdown",
   "metadata": {},
   "source": [
    "Next, we evaluate the results (which did actually sort of work, finally). "
   ]
  },
  {
   "cell_type": "code",
   "execution_count": 246,
   "metadata": {
    "ExecuteTime": {
     "end_time": "2020-04-21T05:13:03.482764Z",
     "start_time": "2020-04-21T05:13:03.406188Z"
    }
   },
   "outputs": [
    {
     "name": "stdout",
     "output_type": "stream",
     "text": [
      "              precision    recall  f1-score   support\n",
      "\n",
      "           0       1.00      0.50      0.67        10\n",
      "           1       0.62      0.80      0.70        10\n",
      "           2       0.36      0.40      0.38        10\n",
      "           3       0.82      0.90      0.86        10\n",
      "           4       1.00      1.00      1.00        10\n",
      "\n",
      "    accuracy                           0.72        50\n",
      "   macro avg       0.76      0.72      0.72        50\n",
      "weighted avg       0.76      0.72      0.72        50\n",
      "\n",
      "Confusion matrix\n",
      "In a perfect world, the diagonal should be all tens along  the identity matrix. Rows add to 10, for a total of 50 validation samples.\n",
      "\n",
      "[[ 5  0  5  0  0]\n",
      " [ 0  8  1  1  0]\n",
      " [ 0  5  4  1  0]\n",
      " [ 0  0  1  9  0]\n",
      " [ 0  0  0  0 10]]\n"
     ]
    }
   ],
   "source": [
    "from sklearn.metrics import classification_report\n",
    "from sklearn.metrics import confusion_matrix\n",
    "X_test_pca = pca.transform(X_test)\n",
    "y_pred = clf.predict(X_test_pca)\n",
    "\n",
    "print(classification_report(y_test, y_pred, target_names=[\"0\",\"1\",\"2\",\"3\",\"4\",]))\n",
    "print(\"Confusion matrix\")\n",
    "print(\"In a perfect world, the diagonal should be all tens along \",\n",
    "      \"the identity matrix. Rows add to 10, for a total of 50 validation samples.\\n\")\n",
    "print(confusion_matrix(y_test, y_pred, labels=range(n_classes)))"
   ]
  },
  {
   "cell_type": "markdown",
   "metadata": {},
   "source": [
    "## Let's try TPOT's AutoML"
   ]
  },
  {
   "cell_type": "markdown",
   "metadata": {},
   "source": [
    "I like to use the <a href=\"https://epistasislab.github.io/tpot/\" target=\"_blank\">TPOT AutoML tool</a> as a challenger for my deep learning models. It generates and optimizes ML pipelines using genetic programming. Fun stuff. Now that we know I can code an ML pipeline by hand that solves the problem, maybe TPOT can also come up with one or more pipelines that is even better. The 6 lines of code below do the job."
   ]
  },
  {
   "cell_type": "code",
   "execution_count": 251,
   "metadata": {
    "ExecuteTime": {
     "end_time": "2020-04-21T08:46:33.185162Z",
     "start_time": "2020-04-21T05:28:08.365429Z"
    }
   },
   "outputs": [
    {
     "data": {
      "application/vnd.jupyter.widget-view+json": {
       "model_id": "",
       "version_major": 2,
       "version_minor": 0
      },
      "text/plain": [
       "HBox(children=(FloatProgress(value=0.0, description='Optimization Progress', max=180.0, style=ProgressStyle(de…"
      ]
     },
     "metadata": {},
     "output_type": "display_data"
    },
    {
     "name": "stdout",
     "output_type": "stream",
     "text": [
      "Generation 1 - Current best internal CV score: 0.7867701336644835\n",
      "Generation 2 - Current best internal CV score: 0.7867701336644835\n",
      "Generation 3 - Current best internal CV score: 0.8042224341566446\n",
      "Generation 4 - Current best internal CV score: 0.8042224341566446\n",
      "Generation 5 - Current best internal CV score: 0.8902186294794654\n",
      "\n",
      "Best pipeline: ExtraTreesClassifier(StandardScaler(input_matrix), bootstrap=True, criterion=gini, max_features=0.1, min_samples_leaf=10, min_samples_split=3, n_estimators=100)\n",
      "0.88\n",
      "import numpy as np\n",
      "import pandas as pd\n",
      "from sklearn.ensemble import ExtraTreesClassifier\n",
      "from sklearn.model_selection import train_test_split\n",
      "from sklearn.pipeline import make_pipeline\n",
      "from sklearn.preprocessing import StandardScaler\n",
      "from tpot.export_utils import set_param_recursive\n",
      "\n",
      "# NOTE: Make sure that the outcome column is labeled 'target' in the data file\n",
      "tpot_data = pd.read_csv('PATH/TO/DATA/FILE', sep='COLUMN_SEPARATOR', dtype=np.float64)\n",
      "features = tpot_data.drop('target', axis=1)\n",
      "training_features, testing_features, training_target, testing_target = \\\n",
      "            train_test_split(features, tpot_data['target'], random_state=42)\n",
      "\n",
      "# Average CV score on the training set was: 0.8902186294794654\n",
      "exported_pipeline = make_pipeline(\n",
      "    StandardScaler(),\n",
      "    ExtraTreesClassifier(bootstrap=True, criterion=\"gini\", max_features=0.1, min_samples_leaf=10, min_samples_split=3, n_estimators=100)\n",
      ")\n",
      "# Fix random state for all the steps in exported pipeline\n",
      "set_param_recursive(exported_pipeline.steps, 'random_state', 42)\n",
      "\n",
      "exported_pipeline.fit(training_features, training_target)\n",
      "results = exported_pipeline.predict(testing_features)\n"
     ]
    }
   ],
   "source": [
    "from tpot import TPOTClassifier\n",
    "pipeline_optimizer = TPOTClassifier(generations=5, population_size=30, cv=2,\n",
    "                                    random_state=42, verbosity=2,n_jobs=-1)\n",
    "pipeline_optimizer.fit(np.array(X_train), np.array(y_train))\n",
    "print(pipeline_optimizer.score(np.array(X_test), np.array(y_test)))\n",
    "pipeline_optimizer.export('tpot_pipeline.py')\n",
    "!cat tpot_pipeline.py"
   ]
  },
  {
   "cell_type": "code",
   "execution_count": 254,
   "metadata": {
    "ExecuteTime": {
     "end_time": "2020-04-21T08:50:38.010173Z",
     "start_time": "2020-04-21T08:50:37.993279Z"
    }
   },
   "outputs": [
    {
     "name": "stdout",
     "output_type": "stream",
     "text": [
      "              precision    recall  f1-score   support\n",
      "\n",
      "           0       1.00      0.90      0.95        10\n",
      "           1       0.67      1.00      0.80        10\n",
      "           2       1.00      0.50      0.67        10\n",
      "           3       0.91      1.00      0.95        10\n",
      "           4       1.00      1.00      1.00        10\n",
      "\n",
      "    accuracy                           0.88        50\n",
      "   macro avg       0.92      0.88      0.87        50\n",
      "weighted avg       0.92      0.88      0.87        50\n",
      "\n",
      "[[ 9  1  0  0  0]\n",
      " [ 0 10  0  0  0]\n",
      " [ 0  4  5  1  0]\n",
      " [ 0  0  0 10  0]\n",
      " [ 0  0  0  0 10]]\n"
     ]
    }
   ],
   "source": [
    "px=pipeline_optimizer.predict(np.array(X_test))\n",
    "truth=np.array(y_test)\n",
    "truth,px\n",
    "from sklearn.metrics import classification_report\n",
    "from sklearn.metrics import confusion_matrix\n",
    "print(classification_report(truth, px, target_names=[str(i) for i in range(5)]))\n",
    "print(confusion_matrix(truth, px, labels=range(5)))"
   ]
  },
  {
   "cell_type": "markdown",
   "metadata": {},
   "source": [
    "## Let's try mlblocks"
   ]
  },
  {
   "cell_type": "markdown",
   "metadata": {},
   "source": [
    "We have a starting point now for what a deep learning model should beat in terms of performance. The confusion matrix should be solid for all the classes, and the f1 scores for each class should be in the 80s. This next approach was to use an ML pipeline generating framework, but alas I couldn't get it working. Lots of error messages. Decided to move on to another approach in the next section."
   ]
  },
  {
   "cell_type": "code",
   "execution_count": 56,
   "metadata": {
    "ExecuteTime": {
     "end_time": "2020-04-20T10:32:15.114542Z",
     "start_time": "2020-04-20T10:32:06.279439Z"
    },
    "scrolled": true
   },
   "outputs": [
    {
     "name": "stdout",
     "output_type": "stream",
     "text": [
      "USPs Digits Dataset.\n",
      "\n",
      "    The data of this dataset is a 3d numpy array vector with shape (224, 224, 3)\n",
      "    containing 9298 224x224 RGB photos of handwritten digits, and the target is\n",
      "    a 1d numpy integer array containing the label of the digit represented in\n",
      "    the image.\n",
      "    \n"
     ]
    },
    {
     "name": "stderr",
     "output_type": "stream",
     "text": [
      "E0420 06:32:15.103129 140599277176576 mlpipeline.py:117] Exception caught building MLBlock skimage.feature.hog\n",
      "Traceback (most recent call last):\n",
      "  File \"/home/lemay/py_36_env/lib/python3.6/site-packages/mlblocks/mlpipeline.py\", line 113, in _build_blocks\n",
      "    block = MLBlock(primitive, **block_params)\n",
      "  File \"/home/lemay/py_36_env/lib/python3.6/site-packages/mlblocks/mlblock.py\", line 159, in __init__\n",
      "    primitive = load_primitive(primitive)\n",
      "  File \"/home/lemay/py_36_env/lib/python3.6/site-packages/mlblocks/discovery.py\", line 259, in load_primitive\n",
      "    raise ValueError(\"Unknown primitive: {}\".format(name))\n",
      "ValueError: Unknown primitive: skimage.feature.hog\n"
     ]
    },
    {
     "ename": "ValueError",
     "evalue": "Unknown primitive: skimage.feature.hog",
     "output_type": "error",
     "traceback": [
      "\u001b[0;31m---------------------------------------------------------------------------\u001b[0m",
      "\u001b[0;31mValueError\u001b[0m                                Traceback (most recent call last)",
      "\u001b[0;32m<ipython-input-56-e916cc495880>\u001b[0m in \u001b[0;36m<module>\u001b[0;34m\u001b[0m\n\u001b[1;32m     18\u001b[0m     }\n\u001b[1;32m     19\u001b[0m }\n\u001b[0;32m---> 20\u001b[0;31m \u001b[0mpipeline\u001b[0m \u001b[0;34m=\u001b[0m \u001b[0mMLPipeline\u001b[0m\u001b[0;34m(\u001b[0m\u001b[0mprimitives\u001b[0m\u001b[0;34m,\u001b[0m \u001b[0minit_params\u001b[0m\u001b[0;34m=\u001b[0m\u001b[0minit_params\u001b[0m\u001b[0;34m)\u001b[0m\u001b[0;34m\u001b[0m\u001b[0;34m\u001b[0m\u001b[0m\n\u001b[0m\u001b[1;32m     21\u001b[0m \u001b[0;34m\u001b[0m\u001b[0m\n\u001b[1;32m     22\u001b[0m \u001b[0mpipeline\u001b[0m\u001b[0;34m.\u001b[0m\u001b[0mfit\u001b[0m\u001b[0;34m(\u001b[0m\u001b[0mX_train\u001b[0m\u001b[0;34m,\u001b[0m \u001b[0my_train\u001b[0m\u001b[0;34m)\u001b[0m\u001b[0;34m\u001b[0m\u001b[0;34m\u001b[0m\u001b[0m\n",
      "\u001b[0;32m/home/lemay/py_36_env/lib/python3.6/site-packages/mlblocks/mlpipeline.py\u001b[0m in \u001b[0;36m__init__\u001b[0;34m(self, pipeline, primitives, init_params, input_names, output_names, outputs, verbose)\u001b[0m\n\u001b[1;32m    181\u001b[0m         \u001b[0mself\u001b[0m\u001b[0;34m.\u001b[0m\u001b[0mprimitives\u001b[0m \u001b[0;34m=\u001b[0m \u001b[0mprimitives\u001b[0m \u001b[0;32mor\u001b[0m \u001b[0mpipeline\u001b[0m\u001b[0;34m[\u001b[0m\u001b[0;34m'primitives'\u001b[0m\u001b[0;34m]\u001b[0m\u001b[0;34m\u001b[0m\u001b[0;34m\u001b[0m\u001b[0m\n\u001b[1;32m    182\u001b[0m         \u001b[0mself\u001b[0m\u001b[0;34m.\u001b[0m\u001b[0minit_params\u001b[0m \u001b[0;34m=\u001b[0m \u001b[0minit_params\u001b[0m \u001b[0;32mor\u001b[0m \u001b[0mpipeline\u001b[0m\u001b[0;34m.\u001b[0m\u001b[0mget\u001b[0m\u001b[0;34m(\u001b[0m\u001b[0;34m'init_params'\u001b[0m\u001b[0;34m,\u001b[0m \u001b[0mdict\u001b[0m\u001b[0;34m(\u001b[0m\u001b[0;34m)\u001b[0m\u001b[0;34m)\u001b[0m\u001b[0;34m\u001b[0m\u001b[0;34m\u001b[0m\u001b[0m\n\u001b[0;32m--> 183\u001b[0;31m         \u001b[0mself\u001b[0m\u001b[0;34m.\u001b[0m\u001b[0mblocks\u001b[0m \u001b[0;34m=\u001b[0m \u001b[0mself\u001b[0m\u001b[0;34m.\u001b[0m\u001b[0m_build_blocks\u001b[0m\u001b[0;34m(\u001b[0m\u001b[0;34m)\u001b[0m\u001b[0;34m\u001b[0m\u001b[0;34m\u001b[0m\u001b[0m\n\u001b[0m\u001b[1;32m    184\u001b[0m         \u001b[0mself\u001b[0m\u001b[0;34m.\u001b[0m\u001b[0m_last_block_name\u001b[0m \u001b[0;34m=\u001b[0m \u001b[0mself\u001b[0m\u001b[0;34m.\u001b[0m\u001b[0m_get_block_name\u001b[0m\u001b[0;34m(\u001b[0m\u001b[0;34m-\u001b[0m\u001b[0;36m1\u001b[0m\u001b[0;34m)\u001b[0m\u001b[0;34m\u001b[0m\u001b[0;34m\u001b[0m\u001b[0m\n\u001b[1;32m    185\u001b[0m \u001b[0;34m\u001b[0m\u001b[0m\n",
      "\u001b[0;32m/home/lemay/py_36_env/lib/python3.6/site-packages/mlblocks/mlpipeline.py\u001b[0m in \u001b[0;36m_build_blocks\u001b[0;34m(self)\u001b[0m\n\u001b[1;32m    111\u001b[0m                                         \"for more than one block %s.\"), primitive_name)\n\u001b[1;32m    112\u001b[0m \u001b[0;34m\u001b[0m\u001b[0m\n\u001b[0;32m--> 113\u001b[0;31m                 \u001b[0mblock\u001b[0m \u001b[0;34m=\u001b[0m \u001b[0mMLBlock\u001b[0m\u001b[0;34m(\u001b[0m\u001b[0mprimitive\u001b[0m\u001b[0;34m,\u001b[0m \u001b[0;34m**\u001b[0m\u001b[0mblock_params\u001b[0m\u001b[0;34m)\u001b[0m\u001b[0;34m\u001b[0m\u001b[0;34m\u001b[0m\u001b[0m\n\u001b[0m\u001b[1;32m    114\u001b[0m                 \u001b[0mblocks\u001b[0m\u001b[0;34m[\u001b[0m\u001b[0mblock_name\u001b[0m\u001b[0;34m]\u001b[0m \u001b[0;34m=\u001b[0m \u001b[0mblock\u001b[0m\u001b[0;34m\u001b[0m\u001b[0;34m\u001b[0m\u001b[0m\n\u001b[1;32m    115\u001b[0m \u001b[0;34m\u001b[0m\u001b[0m\n",
      "\u001b[0;32m/home/lemay/py_36_env/lib/python3.6/site-packages/mlblocks/mlblock.py\u001b[0m in \u001b[0;36m__init__\u001b[0;34m(self, primitive, **kwargs)\u001b[0m\n\u001b[1;32m    157\u001b[0m     \u001b[0;32mdef\u001b[0m \u001b[0m__init__\u001b[0m\u001b[0;34m(\u001b[0m\u001b[0mself\u001b[0m\u001b[0;34m,\u001b[0m \u001b[0mprimitive\u001b[0m\u001b[0;34m,\u001b[0m \u001b[0;34m**\u001b[0m\u001b[0mkwargs\u001b[0m\u001b[0;34m)\u001b[0m\u001b[0;34m:\u001b[0m\u001b[0;34m\u001b[0m\u001b[0;34m\u001b[0m\u001b[0m\n\u001b[1;32m    158\u001b[0m         \u001b[0;32mif\u001b[0m \u001b[0misinstance\u001b[0m\u001b[0;34m(\u001b[0m\u001b[0mprimitive\u001b[0m\u001b[0;34m,\u001b[0m \u001b[0mstr\u001b[0m\u001b[0;34m)\u001b[0m\u001b[0;34m:\u001b[0m\u001b[0;34m\u001b[0m\u001b[0;34m\u001b[0m\u001b[0m\n\u001b[0;32m--> 159\u001b[0;31m             \u001b[0mprimitive\u001b[0m \u001b[0;34m=\u001b[0m \u001b[0mload_primitive\u001b[0m\u001b[0;34m(\u001b[0m\u001b[0mprimitive\u001b[0m\u001b[0;34m)\u001b[0m\u001b[0;34m\u001b[0m\u001b[0;34m\u001b[0m\u001b[0m\n\u001b[0m\u001b[1;32m    160\u001b[0m \u001b[0;34m\u001b[0m\u001b[0m\n\u001b[1;32m    161\u001b[0m         \u001b[0mself\u001b[0m\u001b[0;34m.\u001b[0m\u001b[0mmetadata\u001b[0m \u001b[0;34m=\u001b[0m \u001b[0mprimitive\u001b[0m\u001b[0;34m\u001b[0m\u001b[0;34m\u001b[0m\u001b[0m\n",
      "\u001b[0;32m/home/lemay/py_36_env/lib/python3.6/site-packages/mlblocks/discovery.py\u001b[0m in \u001b[0;36mload_primitive\u001b[0;34m(name)\u001b[0m\n\u001b[1;32m    257\u001b[0m         \u001b[0mprimitive\u001b[0m \u001b[0;34m=\u001b[0m \u001b[0m_load\u001b[0m\u001b[0;34m(\u001b[0m\u001b[0mname\u001b[0m\u001b[0;34m,\u001b[0m \u001b[0mget_primitives_paths\u001b[0m\u001b[0;34m(\u001b[0m\u001b[0;34m)\u001b[0m\u001b[0;34m)\u001b[0m\u001b[0;34m\u001b[0m\u001b[0;34m\u001b[0m\u001b[0m\n\u001b[1;32m    258\u001b[0m         \u001b[0;32mif\u001b[0m \u001b[0mprimitive\u001b[0m \u001b[0;32mis\u001b[0m \u001b[0;32mNone\u001b[0m\u001b[0;34m:\u001b[0m\u001b[0;34m\u001b[0m\u001b[0;34m\u001b[0m\u001b[0m\n\u001b[0;32m--> 259\u001b[0;31m             \u001b[0;32mraise\u001b[0m \u001b[0mValueError\u001b[0m\u001b[0;34m(\u001b[0m\u001b[0;34m\"Unknown primitive: {}\"\u001b[0m\u001b[0;34m.\u001b[0m\u001b[0mformat\u001b[0m\u001b[0;34m(\u001b[0m\u001b[0mname\u001b[0m\u001b[0;34m)\u001b[0m\u001b[0;34m)\u001b[0m\u001b[0;34m\u001b[0m\u001b[0;34m\u001b[0m\u001b[0m\n\u001b[0m\u001b[1;32m    260\u001b[0m \u001b[0;34m\u001b[0m\u001b[0m\n\u001b[1;32m    261\u001b[0m         \u001b[0m_PRIMITIVES\u001b[0m\u001b[0;34m[\u001b[0m\u001b[0mname\u001b[0m\u001b[0;34m]\u001b[0m \u001b[0;34m=\u001b[0m \u001b[0mprimitive\u001b[0m\u001b[0;34m\u001b[0m\u001b[0;34m\u001b[0m\u001b[0m\n",
      "\u001b[0;31mValueError\u001b[0m: Unknown primitive: skimage.feature.hog"
     ]
    }
   ],
   "source": [
    "from mlblocks import MLPipeline\n",
    "from mlblocks.datasets import load_usps\n",
    "\n",
    "dataset = load_usps()\n",
    "dataset.describe()\n",
    "\n",
    "X_train, X_test, y_train, y_test = dataset.get_splits(1)\n",
    "\n",
    "primitives = [\n",
    "    'cv.GaussianBlur',\n",
    "    'skimage.feature.hog',\n",
    "    'sklearn.ensemble.RandomForestClassifier'\n",
    "]\n",
    "init_params = {\n",
    "    'skimage.feature.hog': {\n",
    "        'multichannel': True,\n",
    "        'visualize': False\n",
    "    }\n",
    "}\n",
    "pipeline = MLPipeline(primitives, init_params=init_params)\n",
    "\n",
    "pipeline.fit(X_train, y_train)\n",
    "\n",
    "predictions = pipeline.predict(X_test)\n",
    "\n",
    "dataset.score(y_test, predictions)"
   ]
  },
  {
   "cell_type": "markdown",
   "metadata": {},
   "source": [
    "## Let's pretrain an autoencoder and then retrain the encoder as a classifier"
   ]
  },
  {
   "cell_type": "markdown",
   "metadata": {},
   "source": [
    "The idea in this approach is to learn a representation of the data in an unsupervised step, where the model is a convolutional encoder and decoder. At the bottleneck of the autoencoder \"bowtie\", we can then cut the model and train a classifier. In the autoencoder, the goal is to learn to reproduce the image input at the network output. Hopefully this forces the model to learn the most distinctive features of these images in general (there are no labels, just X in and X out, with the goal to minimize the reconstruction loss). We then slice the trained model and see how well it classifies. "
   ]
  },
  {
   "cell_type": "code",
   "execution_count": 158,
   "metadata": {
    "ExecuteTime": {
     "end_time": "2020-04-20T15:10:07.176825Z",
     "start_time": "2020-04-20T15:10:06.981546Z"
    }
   },
   "outputs": [
    {
     "name": "stdout",
     "output_type": "stream",
     "text": [
      "Model: \"model_54\"\n",
      "_________________________________________________________________\n",
      "Layer (type)                 Output Shape              Param #   \n",
      "=================================================================\n",
      "input_35 (InputLayer)        (None, 128, 128, 3)       0         \n",
      "_________________________________________________________________\n",
      "enc1 (Conv2D)                (None, 126, 126, 16)      448       \n",
      "_________________________________________________________________\n",
      "max_pooling2d_86 (MaxPooling (None, 63, 63, 16)        0         \n",
      "_________________________________________________________________\n",
      "enc2 (Conv2D)                (None, 61, 61, 32)        4640      \n",
      "_________________________________________________________________\n",
      "max_pooling2d_87 (MaxPooling (None, 30, 30, 32)        0         \n",
      "_________________________________________________________________\n",
      "enc3 (Conv2D)                (None, 28, 28, 32)        9248      \n",
      "_________________________________________________________________\n",
      "max_pooling2d_88 (MaxPooling (None, 14, 14, 32)        0         \n",
      "_________________________________________________________________\n",
      "enc4 (Conv2D)                (None, 12, 12, 32)        9248      \n",
      "_________________________________________________________________\n",
      "flatten_35 (Flatten)         (None, 4608)              0         \n",
      "_________________________________________________________________\n",
      "z (Dense)                    (None, 256)               1179904   \n",
      "_________________________________________________________________\n",
      "reshape_35 (Reshape)         (None, 16, 16, 1)         0         \n",
      "_________________________________________________________________\n",
      "conv2d_transpose_108 (Conv2D (None, 32, 32, 32)        320       \n",
      "_________________________________________________________________\n",
      "batch_normalization_77 (Batc (None, 32, 32, 32)        128       \n",
      "_________________________________________________________________\n",
      "conv2d_transpose_109 (Conv2D (None, 64, 64, 32)        9248      \n",
      "_________________________________________________________________\n",
      "batch_normalization_78 (Batc (None, 64, 64, 32)        128       \n",
      "_________________________________________________________________\n",
      "conv2d_transpose_110 (Conv2D (None, 128, 128, 32)      9248      \n",
      "_________________________________________________________________\n",
      "batch_normalization_79 (Batc (None, 128, 128, 32)      128       \n",
      "_________________________________________________________________\n",
      "conv2d_transpose_111 (Conv2D (None, 128, 128, 16)      4624      \n",
      "_________________________________________________________________\n",
      "conv2d_147 (Conv2D)          (None, 128, 128, 3)       435       \n",
      "=================================================================\n",
      "Total params: 1,227,747\n",
      "Trainable params: 1,227,555\n",
      "Non-trainable params: 192\n",
      "_________________________________________________________________\n"
     ]
    }
   ],
   "source": [
    "#Source: https://medium.com/analytics-vidhya/building-a-convolutional-autoencoder-using-keras-using-conv2dtranspose-ca403c8d144e\n",
    "# Note there are some heavy edits to make the original code work with this data\n",
    "\n",
    "# Set the hyperparameters\n",
    "batch_size = 16\n",
    "epochs1 = 15\n",
    "epochs2 = 15\n",
    "IMG_HEIGHT = 128\n",
    "IMG_WIDTH = 128\n",
    "\n",
    "# Import all the required Libraries\n",
    "import tensorflow\n",
    "import keras\n",
    "import pandas as pd\n",
    "import numpy as np\n",
    "import matplotlib.pyplot as plt\n",
    "from keras.datasets import mnist\n",
    "from keras.models import Model, Sequential\n",
    "from keras.layers import Dense, Conv2D, Dropout, BatchNormalization, Input, Reshape, Flatten, Deconvolution2D, Conv2DTranspose, MaxPooling2D, UpSampling2D\n",
    "from keras.layers.advanced_activations import LeakyReLU\n",
    "from keras.optimizers import adam\n",
    "from keras.callbacks import ModelCheckpoint, EarlyStopping\n",
    "\n",
    "zz=16\n",
    "\n",
    "#ENCODER\n",
    "inp = Input((IMG_HEIGHT, IMG_WIDTH,3))\n",
    "e = Conv2D(16, (3, 3), activation='relu',name=\"enc1\")(inp)\n",
    "e = MaxPooling2D((2, 2))(e)\n",
    "e = Conv2D(32, (3, 3), activation='relu',name=\"enc2\")(e)\n",
    "e = MaxPooling2D((2, 2))(e)\n",
    "e = Conv2D(32, (3, 3), activation='relu',name=\"enc3\")(e)\n",
    "e = MaxPooling2D((2, 2))(e)\n",
    "e = Conv2D(32, (3, 3), activation='relu',name=\"enc4\")(e)\n",
    "l = Flatten()(e)\n",
    "l = Dense(zz*zz, activation='softmax',name=\"z\")(l)\n",
    "#DECODER\n",
    "d = Reshape((zz,zz,1))(l)\n",
    "d = Conv2DTranspose(32,(3, 3), strides=2, activation='relu', padding='same')(d)\n",
    "d = BatchNormalization()(d)\n",
    "d = Conv2DTranspose(32,(3, 3), strides=2, activation='relu', padding='same')(d)\n",
    "d = BatchNormalization()(d)\n",
    "d = Conv2DTranspose(32,(3, 3), strides=2, activation='relu', padding='same')(d)\n",
    "d = BatchNormalization()(d)\n",
    "d = Conv2DTranspose(16,(3, 3), activation='relu', padding='same')(d)\n",
    "decoded = Conv2D(3, (3, 3), activation='sigmoid', padding='same')(d)\n",
    "ae = Model(inp, decoded)\n",
    "ae.summary()"
   ]
  },
  {
   "cell_type": "code",
   "execution_count": 159,
   "metadata": {
    "ExecuteTime": {
     "end_time": "2020-04-20T15:22:48.869496Z",
     "start_time": "2020-04-20T15:10:07.592546Z"
    }
   },
   "outputs": [
    {
     "name": "stdout",
     "output_type": "stream",
     "text": [
      "Found 7105 images belonging to 5 classes.\n",
      "Found 50 images belonging to 5 classes.\n",
      "Epoch 1/15\n",
      "197/444 [============>.................] - ETA: 1:01 - loss: 0.0694"
     ]
    },
    {
     "name": "stderr",
     "output_type": "stream",
     "text": [
      "/home/lemay/py_36_env/lib/python3.6/site-packages/PIL/TiffImagePlugin.py:788: UserWarning: Corrupt EXIF data.  Expecting to read 4 bytes but only got 0. \n",
      "  warnings.warn(str(msg))\n"
     ]
    },
    {
     "name": "stdout",
     "output_type": "stream",
     "text": [
      "444/444 [==============================] - 109s 246ms/step - loss: 0.0583 - val_loss: 0.4817\n",
      "Epoch 2/15\n",
      "444/444 [==============================] - 105s 238ms/step - loss: 0.0446 - val_loss: 0.0499\n",
      "Epoch 3/15\n",
      "444/444 [==============================] - 106s 238ms/step - loss: 0.0426 - val_loss: 0.0505\n",
      "Epoch 4/15\n",
      "444/444 [==============================] - 105s 237ms/step - loss: 0.0415 - val_loss: 0.0527\n",
      "Epoch 5/15\n",
      "444/444 [==============================] - 106s 238ms/step - loss: 0.0413 - val_loss: 0.0509\n",
      "Epoch 6/15\n",
      "444/444 [==============================] - 105s 238ms/step - loss: 0.0405 - val_loss: 0.2683\n",
      "Epoch 7/15\n",
      "444/444 [==============================] - 105s 237ms/step - loss: 0.0399 - val_loss: 0.0504\n",
      "Epoch 00007: early stopping\n"
     ]
    },
    {
     "data": {
      "text/plain": [
       "<keras.callbacks.callbacks.History at 0x7f1f3ba8f470>"
      ]
     },
     "execution_count": 159,
     "metadata": {},
     "output_type": "execute_result"
    }
   ],
   "source": [
    "# compile it using adam optimizer\n",
    "ae.compile(optimizer=\"adam\", loss=\"mse\")\n",
    "\n",
    "train_generator = train_image_generator.flow_from_directory (\n",
    "         train_dir, \n",
    "         target_size=(IMG_HEIGHT, IMG_WIDTH),\n",
    "         color_mode='rgb',\n",
    "         batch_size=batch_size,\n",
    "         shuffle = True,\n",
    "         class_mode='categorical')\n",
    "\n",
    "val_data_gen = validation_image_generator.flow_from_directory(\n",
    "         batch_size=batch_size,\n",
    "         color_mode='rgb',\n",
    "         directory=validation_dir,\n",
    "         target_size=(IMG_HEIGHT, IMG_WIDTH))\n",
    "\n",
    "# The following training and validation generators simply wrap the original generators with \n",
    "# a \"return x,x\" instead of the original \"return x,y\"\n",
    "def doublegen(train_generator):\n",
    "    while True:\n",
    "        data=next(train_generator)\n",
    "        data0=data[0]\n",
    "        yield data0,data0 \n",
    "\n",
    "def val_doublegen(val_data_gen):\n",
    "    while True:\n",
    "        data=next(val_data_gen)\n",
    "        data0=data[0]\n",
    "        yield data0,data0 \n",
    "\n",
    "# Here we instantiate the generators\n",
    "dblGen=doublegen(train_generator)\n",
    "valDblGen=val_doublegen(val_data_gen)\n",
    "\n",
    "# It is important to do early stopping so that we don't overfit on the training data\n",
    "es = EarlyStopping(monitor='val_loss', \n",
    "                   mode='min', \n",
    "                   verbose=1, \n",
    "                   patience=5)\n",
    "\n",
    "mc = ModelCheckpoint('model-{epoch:03d}-{loss:03f}.h5', \n",
    "                     monitor='val_loss', \n",
    "                     mode='min', \n",
    "                     save_best_only=True)\n",
    "\n",
    "#Train the convolutional autoencoder by providing training images\n",
    "ae.fit_generator(\n",
    "    dblGen,\n",
    "    steps_per_epoch=total_train // batch_size,\n",
    "    epochs=epochs1,\n",
    "    validation_steps=max(1,total_val // batch_size),\n",
    "    validation_data=valDblGen,\n",
    "    callbacks=[es,mc]\n",
    ")"
   ]
  },
  {
   "cell_type": "code",
   "execution_count": 164,
   "metadata": {
    "ExecuteTime": {
     "end_time": "2020-04-20T15:27:27.215260Z",
     "start_time": "2020-04-20T15:27:16.254882Z"
    }
   },
   "outputs": [
    {
     "name": "stdout",
     "output_type": "stream",
     "text": [
      "[0.00452746 0.00408327 0.00457627 0.00445186 0.0046466  0.0042848\n",
      " 0.00380558 0.00380764 0.00433017 0.00475094 0.00446583 0.0044301\n",
      " 0.00440816 0.00472341 0.0042588  0.0045444  0.00381863 0.00398967\n",
      " 0.00359716 0.00349573 0.00444643 0.00411055 0.00249344 0.00258514\n",
      " 0.00287143 0.00320417 0.00303563 0.00285642 0.00275656 0.00285878\n",
      " 0.00308872 0.00391271 0.003967   0.00438121 0.00303528 0.00328784\n",
      " 0.00463076 0.00372437 0.00182357 0.00253488 0.00302645 0.00364025\n",
      " 0.00366139 0.00232331 0.00261739 0.00246126 0.00268853 0.00355732\n",
      " 0.00377869 0.00472796 0.00305197 0.00296886 0.00461531 0.00364527\n",
      " 0.00179052 0.00247266 0.00274366 0.00312731 0.00361797 0.00277796\n",
      " 0.00342287 0.00336386 0.00358176 0.00373038 0.00404635 0.00516513\n",
      " 0.00360319 0.00359085 0.00456216 0.00378588 0.00204427 0.00292645\n",
      " 0.00282138 0.00292253 0.00442963 0.00398233 0.00535771 0.00498506\n",
      " 0.00422405 0.00382255 0.00407938 0.0044914  0.00347251 0.00293682\n",
      " 0.00354452 0.00281637 0.00206376 0.00356476 0.0041178  0.00410054\n",
      " 0.00506234 0.00379915 0.0045966  0.00447365 0.00436151 0.00396437\n",
      " 0.00344696 0.00301332 0.00247752 0.00238376 0.00294264 0.00217103\n",
      " 0.00169079 0.00314296 0.00343982 0.00423997 0.00459586 0.00426603\n",
      " 0.00521764 0.00501397 0.00472026 0.0041756  0.00352214 0.00338179\n",
      " 0.00335742 0.00309729 0.00351805 0.00277535 0.00202723 0.00251533\n",
      " 0.00251792 0.00340935 0.00406927 0.00370309 0.00413173 0.00414007\n",
      " 0.0046397  0.00463551 0.00379512 0.00405868 0.00425033 0.00463198\n",
      " 0.00513527 0.00470186 0.00410672 0.00491702 0.004135   0.00423498\n",
      " 0.00531996 0.00455229 0.00470223 0.00494993 0.00477456 0.00443099\n",
      " 0.00296822 0.00263726 0.00302599 0.00364563 0.00336694 0.00291858\n",
      " 0.00256851 0.00418984 0.00308081 0.00327331 0.00338678 0.00294045\n",
      " 0.00312403 0.00340523 0.00389716 0.00424005 0.00330055 0.00268158\n",
      " 0.00358266 0.00361431 0.00337532 0.00291418 0.00302366 0.00390394\n",
      " 0.0029981  0.0032826  0.00328872 0.00349457 0.00365226 0.00376388\n",
      " 0.00372468 0.00427531 0.00273551 0.00203828 0.0025266  0.00267778\n",
      " 0.00257437 0.00250901 0.00228204 0.00315011 0.00249441 0.00269825\n",
      " 0.00273807 0.00280102 0.003033   0.00290752 0.00321017 0.00427061\n",
      " 0.00309134 0.0026349  0.00340305 0.00319221 0.00342053 0.00333706\n",
      " 0.00306846 0.00385121 0.00279314 0.00329091 0.00330398 0.00330817\n",
      " 0.0034839  0.00306636 0.00320279 0.00423353 0.0031788  0.00231059\n",
      " 0.00260604 0.00269025 0.00289761 0.00276298 0.00251541 0.00304536\n",
      " 0.00210192 0.00219724 0.00245379 0.0020819  0.00207104 0.00215818\n",
      " 0.00289716 0.00417914 0.00349055 0.00283664 0.0030855  0.00328377\n",
      " 0.00315223 0.00321005 0.00287959 0.00348631 0.00280491 0.00294031\n",
      " 0.00313362 0.00289772 0.00275759 0.00275251 0.00312709 0.00420139\n",
      " 0.00543765 0.00507017 0.00502058 0.00474333 0.00464297 0.00447715\n",
      " 0.00478541 0.00503938 0.00493335 0.00482587 0.00459965 0.00464486\n",
      " 0.00428511 0.00441957 0.00522758 0.09400119] [0. 0. 0. 1. 0.]\n",
      "[0.00446676 0.00414044 0.00439304 0.00439664 0.00482015 0.0047742\n",
      " 0.00447938 0.00431981 0.00444387 0.00470405 0.00475376 0.00467112\n",
      " 0.0043004  0.00443304 0.00421592 0.00405838 0.00334423 0.00417193\n",
      " 0.00324135 0.00282427 0.00272462 0.00295369 0.00302722 0.00266453\n",
      " 0.00247624 0.00264153 0.00289    0.00294121 0.00288724 0.00321761\n",
      " 0.00320595 0.0031905  0.00393942 0.00435511 0.00331471 0.00312435\n",
      " 0.00347988 0.00395069 0.00394001 0.00398864 0.00321588 0.00354674\n",
      " 0.00434501 0.00402252 0.00405881 0.00422004 0.0038553  0.00353342\n",
      " 0.00355576 0.00446863 0.00304543 0.00288192 0.00356011 0.00391621\n",
      " 0.00385234 0.00391644 0.00332988 0.00319586 0.00385269 0.00387018\n",
      " 0.0041323  0.00417638 0.00388513 0.00368237 0.00377652 0.00408412\n",
      " 0.00289484 0.00285208 0.00300149 0.00345138 0.00376239 0.00410043\n",
      " 0.00383223 0.0033055  0.00371498 0.00368868 0.00402573 0.00386168\n",
      " 0.00383343 0.00357712 0.0040156  0.00421235 0.00373901 0.0038512\n",
      " 0.00383206 0.00352835 0.00385157 0.0038956  0.00413005 0.00391182\n",
      " 0.00385674 0.00396851 0.00417437 0.00428291 0.00400158 0.00375366\n",
      " 0.00389738 0.00390501 0.00336615 0.00345903 0.00378267 0.0035785\n",
      " 0.00366738 0.00407766 0.00377814 0.0034502  0.00363216 0.00356907\n",
      " 0.0037856  0.00405939 0.00404465 0.00369642 0.00362921 0.00359032\n",
      " 0.00312148 0.00308736 0.00312459 0.00327853 0.00302403 0.0035289\n",
      " 0.00363604 0.00364241 0.00378659 0.0039997  0.0037866  0.00404458\n",
      " 0.00412996 0.00380826 0.00391931 0.00455476 0.00434733 0.00425455\n",
      " 0.00412363 0.00422532 0.00375023 0.00386811 0.00382574 0.00401165\n",
      " 0.00439442 0.00392296 0.00407682 0.00426343 0.00397612 0.00384252\n",
      " 0.0033746  0.00363877 0.00360952 0.0033021  0.00314929 0.00368499\n",
      " 0.00356951 0.00424138 0.00407552 0.0039805  0.00368046 0.00313493\n",
      " 0.00311621 0.00358117 0.00371589 0.00356656 0.0036338  0.00411832\n",
      " 0.00394995 0.00402448 0.003828   0.00399964 0.00372311 0.00423442\n",
      " 0.0043957  0.00408212 0.0040746  0.00384924 0.00420123 0.00416146\n",
      " 0.00392441 0.00371488 0.0038279  0.00427817 0.0041367  0.00440783\n",
      " 0.00400579 0.00403136 0.00331889 0.00347057 0.00350383 0.00327908\n",
      " 0.00335338 0.00364514 0.00406673 0.0040819  0.00410594 0.00392671\n",
      " 0.00365052 0.00403495 0.00385003 0.00334647 0.00327708 0.00329165\n",
      " 0.00304697 0.0037989  0.00376221 0.00368243 0.00393241 0.00402081\n",
      " 0.00411326 0.00393611 0.00417114 0.00371112 0.00386929 0.00441449\n",
      " 0.00390272 0.00369229 0.00369446 0.00379516 0.00346131 0.00390133\n",
      " 0.0036565  0.00374598 0.00388003 0.00398911 0.00380367 0.00405748\n",
      " 0.00444206 0.00405541 0.0037671  0.00401351 0.00384263 0.00377333\n",
      " 0.00368703 0.00355312 0.0033708  0.00353796 0.00341871 0.00345544\n",
      " 0.00363355 0.00387073 0.00360526 0.00350834 0.00388455 0.00351257\n",
      " 0.00416283 0.00444949 0.00408911 0.00395499 0.00388194 0.0040124\n",
      " 0.00399245 0.00409912 0.0041301  0.00395661 0.00395979 0.00382814\n",
      " 0.0039752  0.00392108 0.00374512 0.0335648 ] [0. 0. 0. 1. 0.]\n",
      "[0.00426967 0.00391001 0.00414033 0.00410832 0.00433799 0.00437081\n",
      " 0.00413986 0.00398389 0.00422168 0.00427052 0.00432215 0.00440922\n",
      " 0.00407599 0.00426822 0.00390447 0.00370995 0.00360357 0.00444963\n",
      " 0.00378962 0.00385954 0.00380006 0.0038821  0.00385129 0.00360823\n",
      " 0.00387067 0.00387341 0.00399875 0.00404216 0.00398391 0.00424547\n",
      " 0.00428431 0.00365542 0.00438693 0.00436475 0.00370696 0.00410212\n",
      " 0.0041234  0.00424666 0.00406451 0.00415097 0.00413788 0.00434807\n",
      " 0.00417188 0.00390408 0.00397461 0.00444756 0.00481087 0.0038943\n",
      " 0.00390548 0.00423778 0.00353678 0.003406   0.00362004 0.00356392\n",
      " 0.00324891 0.00332571 0.00351431 0.00348199 0.00358014 0.00362372\n",
      " 0.00377908 0.0042369  0.00449136 0.00366755 0.00402703 0.00444808\n",
      " 0.00393719 0.00412947 0.00381901 0.00383919 0.00399743 0.00396017\n",
      " 0.00420793 0.00386152 0.00402217 0.00380604 0.00447262 0.0050766\n",
      " 0.00476938 0.00364863 0.00383074 0.00376554 0.00309074 0.00301672\n",
      " 0.00280718 0.00291013 0.00324842 0.00299156 0.00313501 0.00290253\n",
      " 0.00275822 0.00249003 0.00295545 0.00383601 0.00390108 0.00341176\n",
      " 0.0039982  0.00414053 0.00363867 0.0034071  0.00291418 0.00301555\n",
      " 0.00318727 0.00332678 0.00376442 0.00374867 0.00370247 0.00340506\n",
      " 0.00354187 0.00432589 0.00447795 0.00356832 0.00415854 0.00436902\n",
      " 0.00404787 0.00397894 0.00379255 0.00384361 0.00374961 0.0036154\n",
      " 0.00383415 0.00393452 0.00411998 0.00376829 0.00378213 0.00444283\n",
      " 0.00480449 0.00353253 0.00364185 0.00425395 0.0033695  0.00304507\n",
      " 0.00342386 0.00343664 0.00292855 0.0030884  0.00317748 0.00302937\n",
      " 0.00304972 0.00268202 0.00316638 0.00391151 0.00410048 0.00333825\n",
      " 0.00374386 0.00472635 0.00394072 0.00332151 0.00344061 0.00393797\n",
      " 0.00341817 0.0037725  0.00371289 0.00339166 0.00328588 0.0027867\n",
      " 0.00363445 0.00440839 0.00451303 0.00339421 0.00346747 0.00407673\n",
      " 0.00337864 0.00267436 0.00274926 0.00318413 0.0030393  0.0031087\n",
      " 0.00303302 0.00274165 0.00283206 0.00284689 0.00355036 0.00401802\n",
      " 0.00420654 0.00331778 0.00379335 0.00470064 0.00452345 0.00417322\n",
      " 0.00401299 0.00470684 0.00406233 0.00379186 0.00428977 0.00411038\n",
      " 0.00401228 0.0041205  0.00456593 0.00445927 0.0051445  0.00354578\n",
      " 0.00390868 0.00438166 0.00415212 0.00373632 0.00367281 0.00372314\n",
      " 0.00348757 0.00362113 0.00412024 0.00385719 0.00392302 0.00377044\n",
      " 0.00400857 0.00417247 0.00453817 0.00348258 0.00373123 0.00421847\n",
      " 0.00379488 0.00347474 0.00322282 0.00326991 0.00298208 0.00318744\n",
      " 0.00327022 0.0029226  0.00296382 0.00323513 0.003371   0.0036575\n",
      " 0.00428646 0.00355613 0.00350654 0.00375977 0.00349119 0.00318854\n",
      " 0.00313211 0.00303449 0.00278856 0.00286957 0.00292199 0.00295194\n",
      " 0.00273908 0.00299872 0.00305481 0.0030479  0.00364757 0.00312565\n",
      " 0.00430639 0.0044464  0.00425895 0.00408086 0.00397415 0.00410844\n",
      " 0.00397671 0.00404921 0.00418322 0.00413044 0.00411985 0.00419119\n",
      " 0.0040152  0.00400867 0.00392269 0.04265139] [0. 0. 0. 1. 0.]\n",
      "[0.00428014 0.00368711 0.00397036 0.00390705 0.00398194 0.00395334\n",
      " 0.00380867 0.00368897 0.00375615 0.00386667 0.00390506 0.00385026\n",
      " 0.00378913 0.00400892 0.00367366 0.00340352 0.00370343 0.00442897\n",
      " 0.00364189 0.00324997 0.00304806 0.00331116 0.00339807 0.00303772\n",
      " 0.00320182 0.00328254 0.00331238 0.00338855 0.00336908 0.0037134\n",
      " 0.00387711 0.00349839 0.00463653 0.00448629 0.00412807 0.00367059\n",
      " 0.00368635 0.00422046 0.00419639 0.0037591  0.00363195 0.00377328\n",
      " 0.00394447 0.00359981 0.00375437 0.00430494 0.00471896 0.00375677\n",
      " 0.00372107 0.00393654 0.0031635  0.00256477 0.00284034 0.00282742\n",
      " 0.00276649 0.00275563 0.0032253  0.00343597 0.00353179 0.00333966\n",
      " 0.00329378 0.00370771 0.00406537 0.00360648 0.00401334 0.00450941\n",
      " 0.00410095 0.00380501 0.00339304 0.00309464 0.00359878 0.00396943\n",
      " 0.00464769 0.0044821  0.00459128 0.00422326 0.00438204 0.00448476\n",
      " 0.00463904 0.00357908 0.00416961 0.00431817 0.00378634 0.00344417\n",
      " 0.00355784 0.00337542 0.00376403 0.00359958 0.00398879 0.00417901\n",
      " 0.00398128 0.0038644  0.00423661 0.00429743 0.00437526 0.0034624\n",
      " 0.00424424 0.00413576 0.00368752 0.00353797 0.00378916 0.00361179\n",
      " 0.00370166 0.00336755 0.00345171 0.00374896 0.0037393  0.00340954\n",
      " 0.00369799 0.00409244 0.00451725 0.00365047 0.00443156 0.00427493\n",
      " 0.00351092 0.0033318  0.00339286 0.0035759  0.00400475 0.00368163\n",
      " 0.00353504 0.00383473 0.00375992 0.00345314 0.0034635  0.00417076\n",
      " 0.00481744 0.00363992 0.00415091 0.0042208  0.00334484 0.0029905\n",
      " 0.00329226 0.00320471 0.00331633 0.00311673 0.00301128 0.00305742\n",
      " 0.00328093 0.00291202 0.00315345 0.00381984 0.00417281 0.00343025\n",
      " 0.00393119 0.00399912 0.0035599  0.00296421 0.00335484 0.00368244\n",
      " 0.00346744 0.00345108 0.00367915 0.00388065 0.00384112 0.00341561\n",
      " 0.00395485 0.00454902 0.00471701 0.00340601 0.00389274 0.00417542\n",
      " 0.00387512 0.00320401 0.0028831  0.00289701 0.0028786  0.00291811\n",
      " 0.00345099 0.00338571 0.00304043 0.00272187 0.00335463 0.00384803\n",
      " 0.00415731 0.00342851 0.00398576 0.00410604 0.00398004 0.00404306\n",
      " 0.00387053 0.00429759 0.00408927 0.00372133 0.00409218 0.00420179\n",
      " 0.0039124  0.00395096 0.00450359 0.00442559 0.00490486 0.0036823\n",
      " 0.0041365  0.00417238 0.00408617 0.00410629 0.00416721 0.00416319\n",
      " 0.00421858 0.00386185 0.00352884 0.00395062 0.00415812 0.00402573\n",
      " 0.00424595 0.00437562 0.00467713 0.00354712 0.0041623  0.00458153\n",
      " 0.00419202 0.0038598  0.00353797 0.00325136 0.00324869 0.00326829\n",
      " 0.00323973 0.0033468  0.00332078 0.00346909 0.00371422 0.00397218\n",
      " 0.00450613 0.00388878 0.00364929 0.00372232 0.00364536 0.00328518\n",
      " 0.00307303 0.00303026 0.00283423 0.00291532 0.00291793 0.00315783\n",
      " 0.00291476 0.00309123 0.00316778 0.00312193 0.00386994 0.00326594\n",
      " 0.00449221 0.00473064 0.00441421 0.00405151 0.00414705 0.00426031\n",
      " 0.0040449  0.00417997 0.00436596 0.00438602 0.00421653 0.00429492\n",
      " 0.00414063 0.00421443 0.00401246 0.04197737] [0. 0. 0. 1. 0.]\n",
      "[0.0033924  0.00318267 0.00322129 0.00317938 0.00338208 0.00342512\n",
      " 0.00313873 0.00321482 0.00347119 0.00362792 0.00364224 0.00339545\n",
      " 0.0032547  0.00316308 0.00327717 0.00290232 0.00292479 0.00322345\n",
      " 0.00323207 0.00311276 0.00330559 0.00355689 0.00361309 0.00343356\n",
      " 0.00346304 0.00356696 0.00371536 0.00395729 0.00384242 0.00366903\n",
      " 0.00340966 0.00319003 0.00279686 0.00237382 0.00230388 0.00231301\n",
      " 0.00291735 0.00331573 0.00317306 0.00343888 0.00333003 0.00353173\n",
      " 0.00355012 0.00338796 0.00347214 0.00364291 0.00366637 0.00306171\n",
      " 0.00292274 0.00319922 0.003241   0.00294298 0.00347486 0.00302178\n",
      " 0.00307137 0.00328041 0.00363766 0.003893   0.00387659 0.00406598\n",
      " 0.00423896 0.00402302 0.00377985 0.00329975 0.00334899 0.00432902\n",
      " 0.00428791 0.00407353 0.00394433 0.00387676 0.00413611 0.00435375\n",
      " 0.0046618  0.00443943 0.00398154 0.00392114 0.00423959 0.00452946\n",
      " 0.00420792 0.00339037 0.00340223 0.00337206 0.00304741 0.00285372\n",
      " 0.00367607 0.00360531 0.00415237 0.00418377 0.00412963 0.00392912\n",
      " 0.00347033 0.00342936 0.00370699 0.00393916 0.00399157 0.00329146\n",
      " 0.00365865 0.00361711 0.00319638 0.00298595 0.0038809  0.00360078\n",
      " 0.00336465 0.00367809 0.00378558 0.00377846 0.00375194 0.00387072\n",
      " 0.00431271 0.00418411 0.00407835 0.00329132 0.00320416 0.00284766\n",
      " 0.00224231 0.00243843 0.00361743 0.00387196 0.00403323 0.00410396\n",
      " 0.00402149 0.00397773 0.00388259 0.00397255 0.00372937 0.0039148\n",
      " 0.00422628 0.00330559 0.00394526 0.00535434 0.00419167 0.00380404\n",
      " 0.00413483 0.00367622 0.00372615 0.00363494 0.0036603  0.00406971\n",
      " 0.00418506 0.00403884 0.00421551 0.00435347 0.00414577 0.00346412\n",
      " 0.00353895 0.00409143 0.0036554  0.00324165 0.00408354 0.00421993\n",
      " 0.00420139 0.00449681 0.00444972 0.0044121  0.00411211 0.00380247\n",
      " 0.004157   0.00436894 0.00443074 0.00323876 0.00338023 0.00390791\n",
      " 0.00329117 0.00317452 0.00388667 0.00428187 0.00440505 0.00463558\n",
      " 0.00476046 0.00432416 0.00426426 0.0038986  0.00416212 0.00412986\n",
      " 0.00401384 0.0032928  0.00343148 0.00391712 0.0034579  0.00339677\n",
      " 0.00401035 0.0043571  0.00450688 0.00400671 0.00413576 0.00425372\n",
      " 0.00379648 0.00387652 0.00416135 0.00432369 0.00417172 0.00321241\n",
      " 0.00366888 0.00447997 0.00453696 0.00387331 0.00416367 0.0039943\n",
      " 0.00399507 0.00403381 0.00383601 0.00439454 0.00446143 0.00440435\n",
      " 0.00453151 0.00466034 0.00436043 0.00324712 0.00372745 0.00497009\n",
      " 0.00415284 0.00372122 0.0038492  0.00398994 0.0037223  0.00410047\n",
      " 0.00402792 0.00419808 0.00406136 0.0041705  0.00407449 0.00438054\n",
      " 0.00448544 0.00357577 0.00347582 0.00438687 0.00396664 0.0033628\n",
      " 0.00335471 0.003191   0.0031162  0.00312947 0.00341882 0.00363167\n",
      " 0.00363065 0.00383106 0.00388199 0.003721   0.00359461 0.00292607\n",
      " 0.00244523 0.00280742 0.00238054 0.00209274 0.00200133 0.00182258\n",
      " 0.00175658 0.00185419 0.00189917 0.00203043 0.00209621 0.00221518\n",
      " 0.00214898 0.00224157 0.00214395 0.06901017] [0. 0. 1. 0. 0.]\n",
      "[8.0723246e-04 8.8611746e-04 9.7172847e-04 1.0355144e-03 1.0204467e-03\n",
      " 9.0725272e-04 8.7690371e-04 9.4530144e-04 9.3734509e-04 1.0014393e-03\n",
      " 1.0639835e-03 1.0964549e-03 1.1579414e-03 1.3942724e-03 1.3112689e-03\n",
      " 1.1294479e-03 8.3461672e-04 1.0897368e-03 1.0479697e-03 1.1220353e-03\n",
      " 9.7483891e-04 1.1619031e-03 1.0938183e-03 1.1313184e-03 1.2671222e-03\n",
      " 1.2002634e-03 1.3546592e-03 1.9602696e-03 2.0224594e-03 1.7431682e-03\n",
      " 1.8988861e-03 2.1408356e-03 7.6785468e-04 5.7918963e-04 6.5327296e-04\n",
      " 1.0838285e-03 9.8268571e-04 1.0832510e-03 9.9682750e-04 1.0260720e-03\n",
      " 1.2500086e-03 1.1811953e-03 1.5555524e-03 1.4684667e-03 1.7902438e-03\n",
      " 1.5023524e-03 1.9027328e-03 2.5241186e-03 7.6666049e-04 6.7963050e-04\n",
      " 6.8221823e-04 8.2863675e-04 1.1465702e-03 1.2224189e-03 9.4469578e-04\n",
      " 1.3593155e-03 2.4914856e-03 3.0311646e-03 3.4876480e-03 5.0060409e-03\n",
      " 3.7640582e-03 2.4005461e-03 2.6608482e-03 3.2712859e-03 7.3709514e-04\n",
      " 8.6968805e-04 1.0351358e-03 1.9440976e-03 1.4076827e-03 1.5510048e-03\n",
      " 1.0892345e-03 1.4109062e-03 1.6784008e-03 1.4617711e-03 1.7173839e-03\n",
      " 1.4872098e-03 1.3169216e-03 1.3148076e-03 1.3553376e-03 2.7412013e-03\n",
      " 5.7037495e-04 4.7574646e-04 6.8577955e-04 1.1535496e-03 1.1175810e-03\n",
      " 7.3717389e-04 7.0563849e-04 6.3363934e-04 6.5715710e-04 5.6191458e-04\n",
      " 5.1783130e-04 4.3200084e-04 4.3829868e-04 4.2741137e-04 6.5437792e-04\n",
      " 1.8154036e-03 5.9106929e-04 4.7118982e-04 7.2318630e-04 1.1985402e-03\n",
      " 1.2963815e-03 1.0478622e-03 7.1382866e-04 7.2370993e-04 6.3329743e-04\n",
      " 6.8015599e-04 6.1433087e-04 7.5183768e-04 6.9772190e-04 6.0347078e-04\n",
      " 8.0459239e-04 1.9376561e-03 5.7284435e-04 6.4525433e-04 9.2659739e-04\n",
      " 1.0217652e-03 1.0509397e-03 1.0252572e-03 6.1429193e-04 5.5334327e-04\n",
      " 4.9199082e-04 4.7961270e-04 4.7088796e-04 5.6380703e-04 4.2325413e-04\n",
      " 3.6513273e-04 7.5568201e-04 2.2066224e-03 5.7074358e-04 7.0010044e-04\n",
      " 7.5969385e-04 8.3572860e-04 1.0998711e-03 9.1916864e-04 6.8761944e-04\n",
      " 7.3773472e-04 6.0678850e-04 5.4685830e-04 6.6160201e-04 5.6099310e-04\n",
      " 4.7094387e-04 3.7924646e-04 6.8080530e-04 2.0015391e-03 4.6245402e-04\n",
      " 5.1152200e-04 7.7739352e-04 9.7144686e-04 1.0706104e-03 9.6460659e-04\n",
      " 6.7411427e-04 6.6024339e-04 5.5409549e-04 5.0551846e-04 4.5004213e-04\n",
      " 4.7991352e-04 4.7940577e-04 4.0262530e-04 6.2169426e-04 1.8794043e-03\n",
      " 4.6941036e-04 4.9695116e-04 7.1027613e-04 9.1765303e-04 8.4722659e-04\n",
      " 8.6923910e-04 7.2211464e-04 6.0631643e-04 5.4572592e-04 4.8121257e-04\n",
      " 4.7557501e-04 5.0821283e-04 3.6573896e-04 3.1940502e-04 5.3300359e-04\n",
      " 1.9363427e-03 4.9178774e-04 5.7073188e-04 7.6116750e-04 9.8497828e-04\n",
      " 8.8900892e-04 7.9514238e-04 6.4252334e-04 4.7420230e-04 4.8539002e-04\n",
      " 5.4105243e-04 4.0042502e-04 5.4964173e-04 5.0285918e-04 3.8021369e-04\n",
      " 7.3413568e-04 2.0288315e-03 5.2848161e-04 5.6721194e-04 7.4787269e-04\n",
      " 8.3322020e-04 7.9238502e-04 8.3308277e-04 6.0506765e-04 5.0315494e-04\n",
      " 4.8209657e-04 5.4848340e-04 4.3050855e-04 5.3483946e-04 4.5993598e-04\n",
      " 3.9488188e-04 5.6755013e-04 1.9928727e-03 4.7552894e-04 4.6826820e-04\n",
      " 5.2270363e-04 7.4091210e-04 7.0744060e-04 7.6722185e-04 4.9398403e-04\n",
      " 4.4026473e-04 4.6906801e-04 4.6968844e-04 4.2598037e-04 4.0891269e-04\n",
      " 3.8855855e-04 3.2110038e-04 5.2170188e-04 2.1296300e-03 4.2121514e-04\n",
      " 4.8213016e-04 5.8524677e-04 6.6774269e-04 6.0327887e-04 6.2385318e-04\n",
      " 4.9649976e-04 4.9372262e-04 5.2916474e-04 5.1170716e-04 4.6097868e-04\n",
      " 5.6260254e-04 4.8877893e-04 4.3992832e-04 4.4997150e-04 1.5309642e-03\n",
      " 6.7756866e-04 7.2809029e-04 6.8865239e-04 6.7468727e-04 6.2591955e-04\n",
      " 6.2741095e-04 6.2795059e-04 6.0898828e-04 6.4295548e-04 6.6506554e-04\n",
      " 6.4443523e-04 7.2774180e-04 6.6387135e-04 5.8427616e-04 1.0581271e-03\n",
      " 7.6107752e-01] [1. 0. 0. 0. 0.]\n",
      "[0.00474252 0.00404101 0.0049935  0.0045644  0.00532885 0.00651744\n",
      " 0.00563695 0.00558577 0.00522597 0.00622099 0.00592845 0.00504142\n",
      " 0.0041186  0.00506892 0.00470053 0.00420263 0.0055187  0.00551461\n",
      " 0.00285882 0.00173257 0.00238926 0.0029329  0.0028073  0.00217615\n",
      " 0.00277249 0.00322817 0.00467489 0.00421507 0.0036465  0.00515706\n",
      " 0.00511424 0.00449776 0.00555423 0.00434609 0.00101007 0.00047403\n",
      " 0.00042804 0.00077444 0.00047808 0.00067008 0.00091259 0.0016477\n",
      " 0.00329795 0.00234933 0.00283738 0.00335402 0.00445907 0.00472024\n",
      " 0.00615451 0.00674078 0.00151786 0.00068381 0.00079279 0.00101871\n",
      " 0.00093864 0.00072167 0.00082073 0.00169365 0.003619   0.00335845\n",
      " 0.00390116 0.00471305 0.00561333 0.00490648 0.0046109  0.00499765\n",
      " 0.00109845 0.00051554 0.000542   0.00069806 0.00056507 0.0007723\n",
      " 0.00098962 0.00209253 0.00364079 0.00272657 0.00299463 0.00384336\n",
      " 0.00675832 0.00515319 0.00637138 0.00470452 0.00179032 0.00195348\n",
      " 0.00284826 0.00290659 0.00311108 0.00193487 0.00214347 0.00290802\n",
      " 0.00525759 0.00461353 0.00477622 0.00456888 0.00784137 0.00487217\n",
      " 0.00426764 0.00169454 0.00049414 0.00055743 0.00094712 0.00091449\n",
      " 0.00077591 0.00079366 0.00075181 0.0010106  0.00168024 0.00251058\n",
      " 0.00295018 0.00367858 0.00480837 0.00484168 0.00410555 0.00238347\n",
      " 0.00089793 0.00079711 0.00103039 0.0017378  0.00114111 0.00108974\n",
      " 0.00088266 0.00118545 0.00228012 0.00255    0.00249574 0.00249064\n",
      " 0.00489429 0.00485646 0.00535229 0.00664617 0.00462481 0.00407366\n",
      " 0.0025213  0.0028573  0.00319049 0.00221124 0.00174437 0.00291657\n",
      " 0.00640114 0.00478263 0.00462852 0.00449322 0.00619149 0.0057001\n",
      " 0.00328957 0.00394646 0.00402754 0.00265949 0.00082293 0.00107455\n",
      " 0.00101352 0.00107444 0.00102876 0.0016973  0.00439229 0.00466489\n",
      " 0.00491501 0.00478097 0.00644884 0.00510183 0.00396949 0.00444796\n",
      " 0.00531117 0.00298185 0.00071939 0.00138436 0.0020115  0.00119337\n",
      " 0.00080376 0.00107594 0.00378096 0.00356629 0.00435977 0.00390255\n",
      " 0.00449466 0.00537576 0.00383838 0.00465904 0.00555417 0.00272157\n",
      " 0.00081082 0.00095434 0.00141452 0.00080399 0.00084306 0.00118449\n",
      " 0.00293625 0.00421663 0.00559043 0.00428363 0.00473822 0.00532899\n",
      " 0.00334593 0.00374227 0.00449806 0.00328857 0.00161708 0.00171228\n",
      " 0.00163406 0.00197679 0.00147887 0.00178277 0.00332372 0.0039169\n",
      " 0.00487913 0.00309331 0.00390263 0.00461148 0.00399252 0.00288543\n",
      " 0.00223897 0.00397808 0.00272052 0.00361258 0.00388444 0.00384409\n",
      " 0.00304486 0.00352012 0.00393865 0.00306908 0.0032289  0.00265471\n",
      " 0.00498135 0.00759162 0.00438479 0.00272551 0.0024647  0.00284142\n",
      " 0.00222705 0.00242943 0.00280155 0.00260799 0.00195701 0.00302792\n",
      " 0.00388716 0.00306748 0.0028042  0.0020792  0.00627895 0.00496759\n",
      " 0.00522846 0.00527118 0.0039414  0.0040647  0.00332802 0.00422802\n",
      " 0.00426244 0.0044394  0.00484688 0.00536691 0.00583324 0.00507368\n",
      " 0.00369566 0.00514803 0.00607003 0.15437058] [0. 0. 0. 1. 0.]\n",
      "[0.00288982 0.00281928 0.00328444 0.00270087 0.00267966 0.00286792\n",
      " 0.00295958 0.00283688 0.00264371 0.00315332 0.00323689 0.00328639\n",
      " 0.0035227  0.00334128 0.00287389 0.00247185 0.00316892 0.00320893\n",
      " 0.00365586 0.00346467 0.00344447 0.00345081 0.00377886 0.00351091\n",
      " 0.00288743 0.00298307 0.00299125 0.00383603 0.00347867 0.00350759\n",
      " 0.00372573 0.00326177 0.00275422 0.00244717 0.00232508 0.00247131\n",
      " 0.00213186 0.00228099 0.00262811 0.0030085  0.00282148 0.00331905\n",
      " 0.00300475 0.00294498 0.0032392  0.00317322 0.004279   0.00317992\n",
      " 0.00205293 0.00160535 0.00127373 0.0012576  0.00133342 0.00181386\n",
      " 0.00291245 0.00430536 0.00550759 0.00484441 0.00405687 0.00461125\n",
      " 0.00479053 0.00449423 0.00538207 0.00385826 0.00276405 0.00270865\n",
      " 0.00366041 0.00396709 0.00334433 0.00367358 0.00395791 0.00439259\n",
      " 0.00447305 0.00437507 0.00416814 0.00402666 0.00408325 0.00497399\n",
      " 0.00613061 0.00368667 0.00232953 0.00214365 0.00317316 0.00297617\n",
      " 0.00241284 0.00252754 0.00297879 0.00374976 0.00412325 0.00441337\n",
      " 0.00333787 0.003807   0.00456597 0.00439487 0.00441159 0.00298239\n",
      " 0.00389304 0.00402228 0.0059105  0.00616335 0.00695102 0.00653596\n",
      " 0.00670253 0.00645182 0.00459361 0.0054177  0.00465312 0.00471873\n",
      " 0.00619177 0.00710347 0.00567898 0.00343159 0.00171984 0.00116927\n",
      " 0.00112631 0.00110361 0.00096199 0.00134026 0.00100953 0.00103521\n",
      " 0.00084996 0.00104673 0.00128663 0.00160346 0.00268781 0.00327389\n",
      " 0.00371427 0.00354443 0.00192797 0.00107827 0.00139232 0.00148924\n",
      " 0.00105707 0.0014921  0.00241132 0.00304164 0.00229321 0.00263759\n",
      " 0.00262708 0.00244802 0.00366166 0.00413326 0.0045376  0.00351157\n",
      " 0.00186654 0.00122724 0.00161536 0.00144368 0.00129986 0.00177405\n",
      " 0.00356701 0.00598808 0.005997   0.00738654 0.00520092 0.00471095\n",
      " 0.00578704 0.00531175 0.00468223 0.00376922 0.00188838 0.00158995\n",
      " 0.00237416 0.00249824 0.00262396 0.00259109 0.00218317 0.00249499\n",
      " 0.00177014 0.00210032 0.0017121  0.00169385 0.00177076 0.00327737\n",
      " 0.00286244 0.00321609 0.00182405 0.00141018 0.00174852 0.00181793\n",
      " 0.00163331 0.00171727 0.00157908 0.00166898 0.00160123 0.00191629\n",
      " 0.00126559 0.00189734 0.00203983 0.00281243 0.003019   0.00374945\n",
      " 0.00385806 0.00514634 0.00555811 0.00458916 0.00458866 0.00470894\n",
      " 0.00550486 0.00467845 0.00434165 0.00518894 0.00407347 0.00499327\n",
      " 0.00478547 0.00545849 0.00541962 0.00438435 0.00263333 0.00222834\n",
      " 0.00198903 0.00163195 0.00158437 0.00241687 0.0030322  0.00438721\n",
      " 0.00369037 0.00425935 0.00364342 0.00422037 0.00395429 0.00365943\n",
      " 0.0039432  0.00482822 0.0037489  0.00408    0.00509362 0.00377871\n",
      " 0.00352565 0.00429392 0.0044261  0.00414625 0.00364588 0.00404375\n",
      " 0.0037525  0.00475475 0.00433078 0.00403169 0.00503553 0.00488699\n",
      " 0.00403965 0.0045549  0.00495981 0.00368437 0.00329702 0.00328281\n",
      " 0.00362801 0.00389784 0.00303818 0.00356756 0.0032227  0.00363239\n",
      " 0.00335413 0.00335822 0.00428504 0.14088908] [0. 1. 0. 0. 0.]\n",
      "[2.7281756e-04 2.9259923e-04 2.8494062e-04 2.5751066e-04 2.7269660e-04\n",
      " 3.7694105e-04 3.0039166e-04 2.9460629e-04 2.6367596e-04 1.9970059e-04\n",
      " 1.8534606e-04 2.1717530e-04 2.3054771e-04 2.6808761e-04 3.0382202e-04\n",
      " 1.8490999e-04 1.5410465e-03 4.1979430e-03 4.2393235e-03 3.4047326e-03\n",
      " 3.2237959e-03 3.9919214e-03 2.0134971e-03 1.0932572e-03 9.2684437e-04\n",
      " 6.6136953e-04 4.4472897e-04 7.9054781e-04 6.6690677e-04 6.7499460e-04\n",
      " 5.4331712e-04 3.5375889e-04 1.5947801e-03 3.4119550e-03 2.6291849e-03\n",
      " 3.1704758e-03 3.0762246e-03 3.8614136e-03 1.1413647e-03 1.0541185e-03\n",
      " 1.3019793e-03 1.4931344e-03 1.2216368e-03 1.5676891e-03 1.1838472e-03\n",
      " 1.0327072e-03 8.9589431e-04 6.9023762e-04 1.1428439e-03 1.5154985e-03\n",
      " 1.8693956e-03 1.8166557e-03 2.4753213e-03 3.7452702e-03 5.5979751e-04\n",
      " 3.2702641e-04 4.0297487e-04 3.9092542e-04 3.3099193e-04 7.0539559e-04\n",
      " 4.4140566e-04 4.9311586e-04 4.8909133e-04 4.3639465e-04 1.5143217e-03\n",
      " 3.1986577e-03 2.6331295e-03 2.5569173e-03 3.1066102e-03 3.6586246e-03\n",
      " 6.7113980e-04 4.8993557e-04 5.1938405e-04 3.8937459e-04 3.6423994e-04\n",
      " 5.4155523e-04 3.2161077e-04 4.5723104e-04 4.4456567e-04 6.0978963e-04\n",
      " 1.7434042e-03 2.3867607e-03 2.0518503e-03 2.1079637e-03 2.7994816e-03\n",
      " 2.2646433e-03 4.4142376e-04 3.2806332e-04 4.3722906e-04 4.1193041e-04\n",
      " 3.1573864e-04 3.8088072e-04 3.6823223e-04 4.1737041e-04 4.2153383e-04\n",
      " 5.4202671e-04 2.2373609e-03 2.1447795e-03 2.6489785e-03 2.2693758e-03\n",
      " 2.8456368e-03 3.8246904e-03 4.4625931e-04 5.3410063e-04 3.7886450e-04\n",
      " 4.4721045e-04 3.3583946e-04 4.9297925e-04 3.3419041e-04 3.6505959e-04\n",
      " 5.1205396e-04 4.1106078e-04 2.4979126e-03 3.7844491e-03 3.4614806e-03\n",
      " 3.6730212e-03 4.2123264e-03 4.0005152e-03 4.8249509e-04 4.9772474e-04\n",
      " 3.4390908e-04 3.9957892e-04 3.1399340e-04 4.5575868e-04 2.9189940e-04\n",
      " 2.5657914e-04 4.8281939e-04 4.2445824e-04 2.0699014e-03 2.5769356e-03\n",
      " 2.6865208e-03 1.5231002e-03 2.9015851e-03 3.4593523e-03 3.7873373e-04\n",
      " 4.7201489e-04 3.9472579e-04 3.8692466e-04 9.5104059e-04 2.7895838e-03\n",
      " 1.7514767e-03 7.1303808e-04 4.5678951e-04 5.0719676e-04 2.1615911e-03\n",
      " 3.3926151e-03 4.3358146e-03 2.9767237e-03 4.0746126e-03 3.4791536e-03\n",
      " 6.8728573e-04 2.9489538e-04 2.7873032e-04 2.9619742e-04 5.3701934e-04\n",
      " 2.0247356e-03 3.4362434e-03 7.4052816e-04 4.7838569e-04 4.3404315e-04\n",
      " 1.7539815e-03 1.9775564e-03 3.3075653e-03 2.1611571e-03 2.8235782e-03\n",
      " 1.8664029e-03 5.6960084e-04 3.4743026e-04 3.5542098e-04 3.3950523e-04\n",
      " 5.9133256e-04 3.6284172e-03 4.7920737e-03 6.3136045e-04 2.9574355e-04\n",
      " 4.3529607e-04 1.7968924e-03 3.0804388e-03 4.2385031e-03 2.9513594e-03\n",
      " 2.0420118e-03 2.1979124e-03 5.6895561e-04 3.3301004e-04 3.8520768e-04\n",
      " 3.8274907e-04 4.2687284e-04 2.8228851e-03 3.8491755e-03 5.4792321e-04\n",
      " 3.4781382e-04 3.6676673e-04 1.4405585e-03 2.0488556e-03 4.4982736e-03\n",
      " 2.6038641e-03 2.6573574e-03 3.6250032e-03 6.7316403e-04 3.3992267e-04\n",
      " 5.0075282e-04 3.1756624e-04 4.4085100e-04 3.1687226e-03 4.6926648e-03\n",
      " 6.3697342e-04 3.7441327e-04 4.3525954e-04 1.5102186e-03 2.8554329e-03\n",
      " 2.9751414e-03 2.1371760e-03 3.2035147e-03 3.0935262e-03 7.0397282e-04\n",
      " 5.1333109e-04 4.5691698e-04 2.7986220e-04 4.9770152e-04 1.6247301e-03\n",
      " 3.0325612e-03 7.5331685e-04 6.3308666e-04 6.1268499e-04 1.3244848e-03\n",
      " 3.2346945e-03 3.8938411e-03 3.0368126e-03 3.0675940e-03 3.0338166e-03\n",
      " 6.9393613e-04 5.5211899e-04 5.2557152e-04 4.4408836e-04 4.5466147e-04\n",
      " 2.0824189e-03 2.2421177e-03 9.8165066e-04 7.4656832e-04 3.1606536e-04\n",
      " 1.0098453e-03 1.9234006e-03 1.5406278e-03 1.1076611e-03 1.0731878e-03\n",
      " 1.1393604e-03 7.4117357e-04 6.9827738e-04 5.6177925e-04 4.6608728e-04\n",
      " 5.5441470e-04 8.8498450e-04 9.4215589e-04 6.7359692e-04 7.5021043e-04\n",
      " 6.3595742e-01] [1. 0. 0. 0. 0.]\n",
      "[6.0387957e-04 6.8235007e-04 7.0409651e-04 7.0479047e-04 6.5765186e-04\n",
      " 6.4363924e-04 6.0562883e-04 6.4552645e-04 6.2282389e-04 6.7451654e-04\n",
      " 6.5050222e-04 5.6127971e-04 5.2582700e-04 6.7327847e-04 5.9317111e-04\n",
      " 5.4750487e-04 4.7660319e-04 5.7322672e-04 5.5975362e-04 5.3274201e-04\n",
      " 4.6357431e-04 5.5979285e-04 6.9531542e-04 7.0763496e-04 7.2321703e-04\n",
      " 7.5659505e-04 6.3426333e-04 6.0438400e-04 5.4162735e-04 6.5156422e-04\n",
      " 5.9730309e-04 8.4093137e-04 4.4237502e-04 4.0122514e-04 2.9130766e-04\n",
      " 4.0404298e-04 3.7541232e-04 4.2735966e-04 3.6663684e-04 4.8610303e-04\n",
      " 4.6436835e-04 4.8865686e-04 5.5646134e-04 4.0540626e-04 4.1796378e-04\n",
      " 4.8511542e-04 3.8378919e-04 8.9741958e-04 4.8817688e-04 6.5934716e-04\n",
      " 5.1807315e-04 6.3998665e-04 9.8048546e-04 1.1476885e-03 9.8861707e-04\n",
      " 1.0241285e-03 9.9407311e-04 9.6534385e-04 8.0328604e-04 9.1364887e-04\n",
      " 8.4897171e-04 7.3321466e-04 6.0721143e-04 1.0816767e-03 4.1379090e-04\n",
      " 5.5172376e-04 4.6287038e-04 6.5108191e-04 4.8159415e-04 7.0420123e-04\n",
      " 6.6597195e-04 7.0498307e-04 6.2432344e-04 6.3196867e-04 5.8919803e-04\n",
      " 5.8992329e-04 6.1447534e-04 6.1089010e-04 3.9756042e-04 9.7395113e-04\n",
      " 5.9076078e-04 7.2875171e-04 8.2426256e-04 9.5203856e-04 6.6583033e-04\n",
      " 5.8965367e-04 5.6417525e-04 6.2546408e-04 5.4006168e-04 5.5474194e-04\n",
      " 4.5191671e-04 5.3300295e-04 5.3620728e-04 5.7747337e-04 4.7998223e-04\n",
      " 9.4354217e-04 5.0564966e-04 5.4054498e-04 8.3158503e-04 6.6290790e-04\n",
      " 7.2158873e-04 7.4495142e-04 6.3206087e-04 8.5418881e-04 5.8030296e-04\n",
      " 7.1292935e-04 5.2470370e-04 5.5267854e-04 5.3908298e-04 6.8867579e-04\n",
      " 6.4343278e-04 9.4013428e-04 3.4005728e-04 3.5152672e-04 3.8967037e-04\n",
      " 3.1625279e-04 2.6007905e-04 3.4288425e-04 5.4011605e-04 7.1167573e-04\n",
      " 6.5034867e-04 5.8513915e-04 5.8104255e-04 6.7876361e-04 5.3257158e-04\n",
      " 6.3895149e-04 5.4355094e-04 9.8889018e-04 3.3683577e-04 3.7366422e-04\n",
      " 3.7683547e-04 2.9672490e-04 2.6947504e-04 3.0707641e-04 5.6321674e-04\n",
      " 7.2120311e-04 6.3591346e-04 7.1213162e-04 6.4616237e-04 5.7205308e-04\n",
      " 6.1725551e-04 5.6262541e-04 4.9090962e-04 1.0395322e-03 3.2417162e-04\n",
      " 2.6397349e-04 3.3368851e-04 2.6481060e-04 2.5569872e-04 2.8195395e-04\n",
      " 4.6404186e-04 7.7190320e-04 6.0781772e-04 5.3786283e-04 5.6053459e-04\n",
      " 6.1797677e-04 5.9192651e-04 6.1095454e-04 4.7232318e-04 9.5865031e-04\n",
      " 3.2774379e-04 2.2819177e-04 2.7951284e-04 2.5059047e-04 2.3296024e-04\n",
      " 2.7867442e-04 7.1411399e-04 1.4398651e-03 1.9114683e-03 1.5748491e-03\n",
      " 1.1520518e-03 1.3473508e-03 9.3870889e-04 7.8031869e-04 5.7496363e-04\n",
      " 1.0492577e-03 3.2709399e-04 2.7336387e-04 2.8631842e-04 2.5483425e-04\n",
      " 2.4804450e-04 2.6718984e-04 5.8895955e-04 1.0909369e-03 1.2386143e-03\n",
      " 1.0013296e-03 6.5667450e-04 7.7869103e-04 5.9765042e-04 5.0935504e-04\n",
      " 5.2160193e-04 1.0107603e-03 3.1113409e-04 2.3140560e-04 2.7567896e-04\n",
      " 2.4438318e-04 2.6210840e-04 2.3735590e-04 4.2176471e-04 8.2128873e-04\n",
      " 7.0349005e-04 6.4311834e-04 4.5835774e-04 5.6512700e-04 4.1129926e-04\n",
      " 4.6924347e-04 3.8329867e-04 1.0006848e-03 2.8070877e-04 1.7167110e-04\n",
      " 2.1105618e-04 2.3173953e-04 2.4863609e-04 2.3037729e-04 3.1567516e-04\n",
      " 5.1014993e-04 5.6588475e-04 5.6557701e-04 4.9888936e-04 4.8870814e-04\n",
      " 4.4980121e-04 3.9497478e-04 4.5804834e-04 1.0361271e-03 2.9973354e-04\n",
      " 2.3529776e-04 3.1433185e-04 3.0791192e-04 3.2110195e-04 2.7714754e-04\n",
      " 4.2951989e-04 6.3377694e-04 5.7063345e-04 6.2941003e-04 6.0990464e-04\n",
      " 5.9429364e-04 4.4462510e-04 3.4210851e-04 3.5958079e-04 7.6325447e-04\n",
      " 6.3966512e-04 6.4136722e-04 6.1009801e-04 6.1337324e-04 5.8371399e-04\n",
      " 5.4593186e-04 5.9110008e-04 6.7686767e-04 6.1199279e-04 5.7639187e-04\n",
      " 5.2613101e-04 5.8537885e-04 4.9921131e-04 4.1411183e-04 6.8373431e-04\n",
      " 8.5114276e-01] [1. 0. 0. 0. 0.]\n",
      "[0.00557655 0.00443284 0.00479179 0.00515586 0.0050842  0.00501441\n",
      " 0.00484535 0.00483135 0.00483091 0.00511626 0.0050064  0.00481289\n",
      " 0.00477596 0.00503958 0.00462628 0.00542095 0.00437861 0.00410022\n",
      " 0.00383504 0.00394574 0.00363349 0.00376229 0.00367501 0.00375262\n",
      " 0.00327473 0.00365507 0.00340415 0.00321785 0.00346067 0.0038199\n",
      " 0.0048758  0.00554094 0.00496348 0.00301989 0.00304008 0.00342209\n",
      " 0.00296845 0.00313946 0.00290451 0.00325939 0.0026139  0.00305296\n",
      " 0.00287159 0.00259829 0.00277501 0.00351158 0.00518105 0.0056585\n",
      " 0.00378569 0.00276073 0.00228826 0.00285513 0.00262359 0.00243555\n",
      " 0.00250886 0.00282006 0.00250572 0.00272851 0.00263844 0.00246641\n",
      " 0.00235525 0.00284992 0.00463602 0.00536024 0.00429875 0.0029125\n",
      " 0.00288359 0.00326223 0.00273042 0.00278284 0.00318874 0.00402668\n",
      " 0.00304772 0.00348816 0.00338328 0.00300778 0.00298134 0.00342068\n",
      " 0.00508831 0.00504641 0.00451206 0.00297538 0.00314773 0.00379384\n",
      " 0.0033692  0.00327486 0.00372335 0.00342855 0.00238398 0.0025028\n",
      " 0.00245932 0.00238486 0.0027562  0.00325055 0.00476757 0.00524141\n",
      " 0.0050839  0.00322393 0.00325762 0.003757   0.0036062  0.00364935\n",
      " 0.00340788 0.00350305 0.00273919 0.00282362 0.00307146 0.00323054\n",
      " 0.00354826 0.00463727 0.00563722 0.00550171 0.00422089 0.00268231\n",
      " 0.00262977 0.00253066 0.00218595 0.00252669 0.0023783  0.00288301\n",
      " 0.00233506 0.002272   0.00248321 0.002596   0.00278927 0.00334835\n",
      " 0.00489559 0.00569988 0.00492705 0.00311598 0.00305391 0.00340341\n",
      " 0.00283492 0.00307446 0.00355708 0.00395548 0.00354447 0.00328498\n",
      " 0.00337095 0.00325614 0.00325887 0.00391737 0.00531638 0.00560569\n",
      " 0.00442597 0.00275444 0.00264489 0.00277464 0.00245565 0.00240405\n",
      " 0.00265533 0.00296993 0.00256726 0.00255363 0.00258372 0.00273818\n",
      " 0.00279061 0.00297978 0.00429445 0.0051863  0.00494955 0.00373241\n",
      " 0.00415857 0.00454297 0.00460272 0.00450459 0.00464277 0.0037604\n",
      " 0.00236416 0.0026006  0.0025112  0.00252972 0.00246    0.00299084\n",
      " 0.00441852 0.00517025 0.00461434 0.00343622 0.00340415 0.00350456\n",
      " 0.00340661 0.00306702 0.00284521 0.00350313 0.00341671 0.00408088\n",
      " 0.0034871  0.00395369 0.00391855 0.00382588 0.005573   0.00563276\n",
      " 0.00442302 0.00290387 0.0030216  0.00304666 0.00345932 0.00342465\n",
      " 0.00341918 0.00361213 0.00307504 0.00320959 0.00288401 0.00302104\n",
      " 0.00313016 0.00368112 0.0048045  0.00570574 0.00426858 0.00284906\n",
      " 0.00280686 0.00284464 0.0031842  0.00332205 0.0032221  0.00348471\n",
      " 0.00270638 0.00273317 0.00270702 0.00294768 0.00290619 0.00341254\n",
      " 0.00499623 0.00581572 0.00368618 0.00247241 0.00238442 0.00249941\n",
      " 0.00245223 0.00243668 0.00248647 0.00275765 0.00263694 0.00278115\n",
      " 0.00274452 0.00283488 0.00287903 0.00301873 0.00408791 0.00566633\n",
      " 0.00549783 0.00460393 0.00451745 0.00437684 0.00436728 0.00452973\n",
      " 0.00441473 0.0050202  0.00467251 0.004708   0.00452965 0.00454884\n",
      " 0.00435779 0.00447734 0.00505025 0.07866033] [0. 0. 0. 0. 1.]\n",
      "[0.0029994  0.00258478 0.00281233 0.0030226  0.00304554 0.0030574\n",
      " 0.00286217 0.00296592 0.00298719 0.00313093 0.00324204 0.00321717\n",
      " 0.00331181 0.00339439 0.00374889 0.00332599 0.00248431 0.00263507\n",
      " 0.0027761  0.00299536 0.00348554 0.00375232 0.00396523 0.00417874\n",
      " 0.00410688 0.00424602 0.0043472  0.00453155 0.00447791 0.00379513\n",
      " 0.00393663 0.00381331 0.00349091 0.00345514 0.00369858 0.00415041\n",
      " 0.00439397 0.00447486 0.00414811 0.00406321 0.00371392 0.0036884\n",
      " 0.00371047 0.00375399 0.00369758 0.00353816 0.00439888 0.0039646\n",
      " 0.0034964  0.00369192 0.00316604 0.00301433 0.00360942 0.00372545\n",
      " 0.00372117 0.00378384 0.00430497 0.00406319 0.00390761 0.00415099\n",
      " 0.00338555 0.00310908 0.00442587 0.00422376 0.00392262 0.00423168\n",
      " 0.00414322 0.00450531 0.0040475  0.00418071 0.00402041 0.00452049\n",
      " 0.004495   0.00427365 0.00418555 0.00413107 0.00320041 0.00285374\n",
      " 0.00432189 0.00415121 0.00353595 0.00280814 0.00262152 0.00314041\n",
      " 0.00363137 0.00354834 0.00379426 0.00383185 0.00403901 0.00404018\n",
      " 0.00395269 0.00422874 0.00336051 0.00317255 0.0045581  0.00410822\n",
      " 0.00371822 0.00273897 0.00253698 0.00335931 0.00410663 0.00391299\n",
      " 0.00367685 0.00421331 0.00400733 0.00417985 0.00408581 0.00395263\n",
      " 0.00301645 0.00289839 0.00458294 0.00391051 0.00439775 0.00442426\n",
      " 0.0040239  0.00442559 0.00404055 0.00402757 0.00402482 0.00417268\n",
      " 0.00389501 0.00382028 0.00393009 0.00408449 0.00281688 0.00265188\n",
      " 0.00429824 0.00422938 0.00392497 0.00394507 0.00319031 0.00389761\n",
      " 0.00391875 0.00388368 0.00409133 0.00415604 0.00409522 0.00396842\n",
      " 0.00416175 0.00408736 0.00312327 0.00269016 0.00384609 0.00382249\n",
      " 0.00354339 0.00288076 0.00255424 0.00336434 0.00417922 0.00420112\n",
      " 0.0041259  0.00410769 0.0041878  0.00451896 0.00419327 0.00452959\n",
      " 0.00348311 0.00273114 0.00382918 0.00364182 0.00365251 0.00376693\n",
      " 0.0034033  0.00381614 0.00415026 0.00400317 0.00428943 0.00436849\n",
      " 0.00431749 0.00432283 0.0041397  0.00353455 0.00273641 0.00242233\n",
      " 0.00336956 0.00376489 0.00399977 0.0044047  0.00403226 0.00384968\n",
      " 0.00366795 0.00382176 0.0039923  0.00356522 0.00329578 0.00370366\n",
      " 0.00342875 0.00363954 0.00342972 0.00304099 0.00406478 0.00374879\n",
      " 0.00382367 0.00416833 0.00404538 0.00385364 0.00390157 0.0039755\n",
      " 0.00402524 0.00344088 0.00346378 0.00402023 0.0038324  0.00434974\n",
      " 0.00436522 0.00391479 0.00497557 0.00387013 0.00350999 0.00362776\n",
      " 0.00325894 0.00311561 0.00324632 0.00346136 0.00349879 0.00333336\n",
      " 0.00362714 0.00391488 0.00406876 0.00407461 0.00382169 0.00374597\n",
      " 0.00467481 0.00428636 0.00324021 0.0035207  0.00349554 0.00358026\n",
      " 0.00365816 0.00396455 0.00426071 0.00444905 0.00432273 0.00474191\n",
      " 0.00432978 0.00441326 0.00414868 0.00389599 0.00430392 0.00369332\n",
      " 0.00316113 0.00318418 0.00303847 0.00290891 0.0029193  0.00303925\n",
      " 0.00314268 0.00307955 0.00320216 0.00306167 0.00307331 0.00310562\n",
      " 0.00297742 0.00311585 0.00332658 0.04866157] [0. 1. 0. 0. 0.]\n",
      "[2.7860173e-03 2.4868255e-03 2.2720320e-03 3.1622744e-03 3.5670728e-03\n",
      " 3.4805576e-03 3.1196007e-03 3.3803592e-03 2.3329805e-03 2.7515837e-03\n",
      " 2.1431900e-03 1.2114106e-03 1.2126323e-03 1.3299643e-03 1.6468687e-03\n",
      " 1.5989904e-03 1.7145970e-03 3.1698924e-03 3.1805544e-03 4.3858108e-03\n",
      " 3.5379352e-03 5.0739446e-03 5.5074911e-03 4.9595339e-03 3.6963311e-03\n",
      " 5.8720717e-03 2.7916131e-03 1.1198963e-03 1.1423551e-03 8.6289260e-04\n",
      " 1.2282470e-03 1.5963925e-03 3.5519805e-03 2.9239298e-03 2.8976295e-03\n",
      " 4.5900312e-03 3.8420518e-03 5.1759263e-03 5.6082434e-03 4.2336108e-03\n",
      " 3.6787055e-03 1.0480564e-02 3.0494239e-03 8.8044879e-04 7.5896172e-04\n",
      " 8.9209108e-04 1.3200594e-03 1.5417899e-03 2.7212235e-03 2.1518727e-03\n",
      " 2.2585697e-03 2.8782967e-03 2.3756910e-03 2.7878312e-03 3.4583281e-03\n",
      " 2.3103217e-03 2.1530264e-03 4.8007607e-03 1.6360494e-03 7.3559937e-04\n",
      " 8.1156666e-04 1.1242960e-03 1.7856596e-03 1.2999569e-03 2.0024048e-03\n",
      " 6.8883080e-04 6.6614844e-04 5.9196824e-04 4.0116886e-04 5.8900472e-04\n",
      " 5.8990897e-04 5.7867623e-04 7.3413044e-04 2.7992283e-03 1.8623607e-03\n",
      " 1.0438247e-03 1.5818664e-03 1.6976721e-03 1.5495294e-03 1.6978687e-03\n",
      " 2.8264127e-03 8.5736718e-04 8.9806848e-04 8.1487012e-04 4.9448246e-04\n",
      " 7.2508957e-04 6.4202928e-04 5.2460737e-04 8.4575982e-04 5.0967163e-03\n",
      " 5.4302765e-03 4.3592611e-03 4.4926875e-03 4.0979208e-03 3.7616577e-03\n",
      " 2.1144589e-03 3.3592726e-03 8.0984063e-04 6.8431551e-04 7.1003160e-04\n",
      " 4.2517902e-04 5.4818741e-04 3.0600483e-04 3.7994329e-04 5.2977580e-04\n",
      " 3.6838013e-03 3.7364711e-03 3.0590491e-03 3.1795611e-03 4.1893567e-03\n",
      " 3.8601360e-03 2.0615172e-03 3.7539152e-03 9.4329414e-04 6.7522511e-04\n",
      " 7.2609982e-04 4.2978043e-04 4.9358921e-04 3.1636134e-04 3.4166587e-04\n",
      " 5.6186906e-04 3.3402648e-03 3.7109044e-03 3.5877458e-03 4.0858313e-03\n",
      " 4.7912379e-03 4.2960094e-03 1.7246762e-03 2.6818903e-03 9.1672584e-04\n",
      " 5.3161342e-04 6.3989451e-04 3.5728264e-04 3.7667606e-04 3.0503981e-04\n",
      " 4.1991886e-04 5.0643866e-04 3.2936102e-03 5.0577698e-03 4.1158884e-03\n",
      " 4.1550626e-03 6.1418680e-03 5.3031007e-03 2.2120934e-03 2.1440589e-03\n",
      " 9.6257665e-04 6.0464657e-04 6.5824983e-04 5.0380721e-04 5.6254625e-04\n",
      " 3.4557364e-04 4.6665152e-04 6.9304690e-04 3.4868633e-03 4.8178979e-03\n",
      " 4.4993353e-03 5.0112768e-03 6.3835331e-03 4.1422280e-03 1.7046002e-03\n",
      " 1.9206677e-03 1.0276227e-03 5.4949673e-04 7.2326011e-04 5.7646743e-04\n",
      " 4.8439630e-04 4.8275289e-04 3.6657127e-04 6.9378916e-04 3.6221663e-03\n",
      " 3.6308472e-03 3.5440896e-03 4.7920332e-03 4.2517702e-03 3.2778927e-03\n",
      " 1.7346129e-03 1.6405758e-03 9.4520726e-04 5.0581212e-04 5.9063628e-04\n",
      " 3.0435028e-04 3.0055616e-04 2.8046887e-04 2.5479961e-04 4.8891763e-04\n",
      " 3.6555452e-03 3.7843985e-03 4.9156058e-03 4.3379818e-03 3.1719441e-03\n",
      " 4.2112460e-03 1.7165570e-03 1.7102357e-03 1.0770127e-03 8.4209704e-04\n",
      " 6.1907503e-04 4.4028150e-04 5.5050600e-04 3.7324129e-04 3.2178353e-04\n",
      " 5.1979709e-04 3.0121384e-03 2.6642813e-03 3.2195498e-03 3.7186309e-03\n",
      " 2.5708801e-03 3.2330619e-03 1.7743853e-03 1.7224350e-03 7.6760282e-04\n",
      " 4.3988111e-04 5.2410975e-04 4.4165834e-04 6.1660708e-04 4.6195262e-04\n",
      " 4.0994745e-04 6.4584997e-04 2.1612151e-03 3.1333652e-03 3.8636292e-03\n",
      " 3.7123768e-03 3.4584617e-03 4.5062387e-03 2.0455660e-03 9.5101073e-04\n",
      " 4.2048149e-04 3.8481367e-04 5.4919842e-04 3.3100962e-04 4.2727910e-04\n",
      " 4.6187663e-04 4.5458582e-04 4.9106573e-04 1.4344093e-03 1.8692906e-03\n",
      " 1.5445985e-03 1.8602501e-03 1.4508209e-03 2.7295966e-03 1.3252107e-03\n",
      " 5.7542906e-04 4.9240043e-04 5.4297247e-04 4.5478289e-04 3.6108348e-04\n",
      " 3.4228715e-04 3.2637030e-04 2.9191666e-04 2.5429370e-04 4.6288929e-04\n",
      " 4.8734370e-04 3.8054507e-04 2.6985432e-04 3.8814356e-04 4.9494632e-04\n",
      " 4.8345301e-01] [1. 0. 0. 0. 0.]\n",
      "[1.0976017e-03 1.4085000e-03 1.2726891e-03 1.1955358e-03 1.0533193e-03\n",
      " 1.1822397e-03 1.1292673e-03 1.0663233e-03 9.2076650e-04 1.3228745e-03\n",
      " 1.0518518e-03 8.2058099e-04 9.0648618e-04 8.5701211e-04 6.8674376e-04\n",
      " 4.0243211e-04 1.5391156e-03 5.2956119e-03 8.7094661e-03 1.0703862e-02\n",
      " 1.3484506e-02 1.0341775e-02 1.1358312e-02 1.0262097e-02 6.3646901e-03\n",
      " 3.7255269e-03 4.1000326e-03 3.4415491e-03 3.7365162e-03 3.3897699e-03\n",
      " 1.9428681e-03 6.7378470e-04 9.2014630e-04 1.5484681e-03 1.3977928e-03\n",
      " 1.5441930e-03 9.9666137e-04 1.1636416e-03 1.1751659e-03 2.9694489e-03\n",
      " 2.0086260e-03 1.7273471e-03 2.0160771e-03 1.4643526e-03 2.3186645e-03\n",
      " 3.1243872e-03 2.2794637e-03 7.9736748e-04 4.6165366e-04 3.9872137e-04\n",
      " 5.0143892e-04 3.1876346e-04 2.4868367e-04 3.9768236e-04 3.7353206e-04\n",
      " 1.0071612e-03 1.1274648e-03 8.3993678e-04 8.0359064e-04 1.0566068e-03\n",
      " 1.0939880e-03 1.9818388e-03 2.3279325e-03 9.8414242e-04 6.8411790e-04\n",
      " 4.7034767e-04 6.8406016e-04 5.3561549e-04 3.6927819e-04 3.8677588e-04\n",
      " 5.5198645e-04 2.9968198e-03 6.2346966e-03 3.9609005e-03 3.0060369e-03\n",
      " 2.1981867e-03 1.5541166e-03 1.8352303e-03 1.3475963e-03 7.8842929e-04\n",
      " 6.4469350e-04 4.4403976e-04 4.5837238e-04 4.7961279e-04 3.0692815e-04\n",
      " 2.3493936e-04 4.2288279e-04 2.1664426e-03 4.3408568e-03 2.2059758e-03\n",
      " 1.9916496e-03 1.8700014e-03 1.2826355e-03 1.7966683e-03 1.1417258e-03\n",
      " 6.6845899e-04 9.4451179e-04 4.7932906e-04 4.5512986e-04 3.4792704e-04\n",
      " 3.3772402e-04 3.4555941e-04 2.4376813e-04 2.1145823e-03 6.4943829e-03\n",
      " 2.9856688e-03 2.8092735e-03 3.3771810e-03 2.5161244e-03 4.2125927e-03\n",
      " 2.3598140e-03 9.0126117e-04 8.4736897e-04 4.4728559e-04 4.4292890e-04\n",
      " 2.7751111e-04 2.2448000e-04 3.1079858e-04 2.7398634e-04 1.4918565e-03\n",
      " 3.4376604e-03 1.7600065e-03 1.5467524e-03 1.3553423e-03 1.8182275e-03\n",
      " 3.2819281e-03 1.8636794e-03 8.7448128e-04 9.6647278e-04 4.5399624e-04\n",
      " 4.3857491e-04 4.0607783e-04 2.6230447e-04 3.1554062e-04 2.8471238e-04\n",
      " 1.7613699e-03 4.7339355e-03 3.5433467e-03 3.3545736e-03 1.3169801e-03\n",
      " 1.0659073e-03 2.0196824e-03 1.6674899e-03 9.7909139e-04 9.7709207e-04\n",
      " 3.6755027e-04 6.1855203e-04 3.3888617e-04 2.9127795e-04 3.3006180e-04\n",
      " 1.8576604e-04 1.8903995e-03 4.0892288e-03 3.4813900e-03 2.6952813e-03\n",
      " 1.3385044e-03 6.8219006e-04 1.6901379e-03 9.7776600e-04 8.0120622e-04\n",
      " 1.0119149e-03 5.2905490e-04 6.6198496e-04 4.6275850e-04 3.5325412e-04\n",
      " 3.5205766e-04 3.2355098e-04 1.8783975e-03 5.6697172e-03 4.2508040e-03\n",
      " 2.8664127e-03 1.7759508e-03 8.5523061e-04 1.4988601e-03 9.6059556e-04\n",
      " 7.0043845e-04 8.4605435e-04 4.8556490e-04 5.6156621e-04 3.1104111e-04\n",
      " 3.1497751e-04 2.4094629e-04 1.8850005e-04 5.5744371e-04 1.8568137e-03\n",
      " 1.6607435e-03 1.4092921e-03 1.1799925e-03 7.9570198e-04 1.1003099e-03\n",
      " 9.1735745e-04 7.6417369e-04 1.0264397e-03 9.9983485e-04 1.2694309e-03\n",
      " 6.8366755e-04 7.3410390e-04 7.1486499e-04 7.4128015e-04 1.8798743e-03\n",
      " 1.9310570e-03 1.4357528e-03 1.8052508e-03 2.0401250e-03 1.4717807e-03\n",
      " 1.5319817e-03 1.1064013e-03 7.8795466e-04 1.5537447e-03 3.7076364e-03\n",
      " 4.7566285e-03 3.2981087e-03 4.5956606e-03 5.2428762e-03 7.4745826e-03\n",
      " 1.1602137e-02 5.9467331e-03 4.2991987e-03 4.8193811e-03 5.4398691e-03\n",
      " 3.1766898e-03 3.8755406e-03 2.4329631e-03 1.1300743e-03 1.0438375e-03\n",
      " 2.1619985e-03 2.7527115e-03 1.9533865e-03 1.9758481e-03 2.2062957e-03\n",
      " 2.1374393e-03 4.9435180e-03 3.4357496e-03 2.5922554e-03 3.2712368e-03\n",
      " 3.6829186e-03 2.0687168e-03 1.7782412e-03 1.6940447e-03 1.0351049e-03\n",
      " 6.5055129e-04 9.1881130e-04 1.1333390e-03 9.3758618e-04 7.7483611e-04\n",
      " 8.2930730e-04 1.0004133e-03 1.0503371e-03 7.8538992e-04 8.0451928e-04\n",
      " 9.3344069e-04 1.1752858e-03 9.2500349e-04 7.5088878e-04 7.9157436e-04\n",
      " 5.1656902e-01] [1. 0. 0. 0. 0.]\n",
      "[0.00597655 0.00469234 0.00521124 0.00535997 0.0054542  0.0051244\n",
      " 0.00494837 0.00482683 0.00500833 0.00531601 0.00524202 0.00536092\n",
      " 0.00508749 0.0054383  0.00496937 0.00614968 0.00468397 0.00388148\n",
      " 0.0033071  0.00330535 0.00340856 0.00394097 0.00354811 0.00367921\n",
      " 0.00344222 0.00361273 0.00344199 0.00344172 0.00325051 0.00344494\n",
      " 0.00439256 0.00551918 0.00533789 0.00296142 0.00288088 0.00282652\n",
      " 0.0026192  0.00302776 0.00256542 0.00342942 0.00294258 0.00318334\n",
      " 0.00288223 0.0028097  0.00282531 0.00329404 0.0052427  0.00625215\n",
      " 0.00409237 0.0024343  0.00200659 0.00211162 0.00195359 0.00232293\n",
      " 0.0021314  0.00252616 0.00207396 0.00233552 0.00234175 0.00277487\n",
      " 0.00270486 0.00298346 0.00469026 0.00583599 0.00537822 0.00389625\n",
      " 0.00398608 0.00437247 0.00348182 0.00384993 0.00381697 0.00385285\n",
      " 0.00302651 0.00328554 0.00337287 0.0036698  0.00402041 0.00435072\n",
      " 0.00561684 0.00569711 0.00451376 0.00254073 0.00244388 0.0025778\n",
      " 0.00222137 0.00249212 0.00275633 0.0031614  0.00257465 0.00295708\n",
      " 0.00247807 0.0026201  0.00298085 0.00347172 0.0050015  0.00556559\n",
      " 0.00506175 0.00278464 0.00276272 0.00298279 0.00293616 0.0032416\n",
      " 0.00350704 0.00369396 0.00277027 0.00310862 0.00290567 0.00303184\n",
      " 0.0036111  0.00432589 0.00587936 0.00619157 0.00414278 0.00209178\n",
      " 0.00237934 0.00274398 0.0018797  0.00209407 0.0019468  0.0026226\n",
      " 0.00179599 0.00186413 0.00191131 0.00214292 0.00231427 0.00260292\n",
      " 0.00435957 0.00605083 0.0051307  0.00284713 0.00312381 0.00389191\n",
      " 0.00307643 0.00314783 0.00338178 0.00388533 0.00299901 0.00313575\n",
      " 0.00316687 0.00310317 0.00317721 0.00358866 0.00509928 0.00596634\n",
      " 0.00459551 0.00285228 0.00307455 0.00300921 0.00251668 0.0026397\n",
      " 0.00238019 0.00255968 0.00190916 0.00233743 0.00248096 0.00245837\n",
      " 0.00266881 0.0029008  0.00446757 0.00584882 0.00494577 0.00304467\n",
      " 0.00332062 0.0031171  0.00316132 0.00416751 0.0044142  0.00420391\n",
      " 0.00307545 0.00352904 0.00345343 0.00326705 0.00359154 0.00409532\n",
      " 0.00519176 0.00589531 0.00419006 0.00255653 0.00261195 0.00263256\n",
      " 0.00258946 0.00314221 0.00278703 0.00280173 0.00206599 0.00252418\n",
      " 0.001968   0.00222905 0.00267038 0.00294028 0.00434023 0.00580085\n",
      " 0.00457847 0.00316809 0.00346751 0.00342494 0.00338971 0.00316258\n",
      " 0.00320708 0.00302365 0.00211862 0.00270367 0.00264074 0.00272647\n",
      " 0.00298959 0.00330669 0.0043694  0.0059282  0.00451552 0.00341228\n",
      " 0.00369969 0.00367649 0.00351568 0.00333147 0.00302763 0.00341894\n",
      " 0.0024109  0.00291996 0.0030515  0.00309453 0.00312597 0.00341875\n",
      " 0.00487152 0.00612379 0.00359595 0.00259984 0.0025894  0.00256935\n",
      " 0.00240381 0.0023293  0.00240045 0.00273286 0.00210107 0.00250012\n",
      " 0.00251258 0.00275631 0.00263219 0.0027851  0.00368328 0.00598744\n",
      " 0.00555096 0.004448   0.00462083 0.00443793 0.0042343  0.00449791\n",
      " 0.00431806 0.00495208 0.0042451  0.00435514 0.004229   0.00475208\n",
      " 0.00442691 0.00429292 0.00531368 0.09294447] [0. 0. 0. 0. 1.]\n",
      "[0.00616829 0.00477677 0.00552852 0.00564998 0.0055871  0.00551869\n",
      " 0.0050671  0.00483342 0.00474785 0.00499423 0.00522374 0.00536897\n",
      " 0.004967   0.00534537 0.00512033 0.00569052 0.00451744 0.00462708\n",
      " 0.00367953 0.00323172 0.0032378  0.0033768  0.00318839 0.00330371\n",
      " 0.00261196 0.00278066 0.00303531 0.00311383 0.00313823 0.00345542\n",
      " 0.00455789 0.00494126 0.00524669 0.0042002  0.00302574 0.00261277\n",
      " 0.00234523 0.00281704 0.00277373 0.00367344 0.00265103 0.00288027\n",
      " 0.00317976 0.00271827 0.00274761 0.00291038 0.00475777 0.0055215\n",
      " 0.00417916 0.00363799 0.00271876 0.00233221 0.00232603 0.00228878\n",
      " 0.00210814 0.00271885 0.00217847 0.00219441 0.00241388 0.00220846\n",
      " 0.00208018 0.00217698 0.00371077 0.00506142 0.00473626 0.00400201\n",
      " 0.00319972 0.00291558 0.00290655 0.00288072 0.00271194 0.00358461\n",
      " 0.00293925 0.00264734 0.00319    0.00317733 0.00318124 0.0031215\n",
      " 0.00454805 0.00500806 0.00467371 0.00351059 0.00292639 0.00222166\n",
      " 0.0021257  0.0018894  0.0019327  0.00270368 0.00269759 0.0023222\n",
      " 0.00227778 0.00240528 0.002448   0.00238409 0.00388978 0.00506082\n",
      " 0.00483389 0.00324078 0.00264691 0.00253043 0.00280909 0.00293239\n",
      " 0.00234773 0.00323182 0.00285431 0.00254439 0.00247277 0.00260216\n",
      " 0.00280497 0.00282615 0.00455276 0.00556883 0.00431114 0.00295946\n",
      " 0.00271373 0.00242586 0.00245977 0.00273587 0.00222767 0.00318263\n",
      " 0.002652   0.00250701 0.00231566 0.00222747 0.00215834 0.00213608\n",
      " 0.00399706 0.00559132 0.0050758  0.00417555 0.00413155 0.00407667\n",
      " 0.00451681 0.00450145 0.00418128 0.00446088 0.00381608 0.00366488\n",
      " 0.00357802 0.0032171  0.00308335 0.00312275 0.0050139  0.00567839\n",
      " 0.00413081 0.00326664 0.00317466 0.00275586 0.00279451 0.0028925\n",
      " 0.00243832 0.00351183 0.00293516 0.00276067 0.00264489 0.00240772\n",
      " 0.00266692 0.00261716 0.0043372  0.00552449 0.00401014 0.0031698\n",
      " 0.00254234 0.00215644 0.00218301 0.00237879 0.00216869 0.00266065\n",
      " 0.00224227 0.00219212 0.00228731 0.00226166 0.00248497 0.0023622\n",
      " 0.00392323 0.00574268 0.00523458 0.004747   0.00456357 0.00365052\n",
      " 0.00336268 0.0040702  0.00341974 0.00335095 0.00317166 0.00323727\n",
      " 0.00273823 0.00301846 0.00347029 0.003076   0.00515356 0.00562956\n",
      " 0.00467265 0.00378851 0.00341442 0.00295198 0.00288499 0.00320811\n",
      " 0.00281487 0.00311125 0.00280755 0.00286969 0.00275525 0.00259679\n",
      " 0.00295381 0.00274869 0.00417157 0.00565633 0.00447321 0.00311129\n",
      " 0.00245508 0.00223302 0.00235008 0.00260211 0.00232692 0.00303758\n",
      " 0.00264241 0.00264823 0.00264019 0.00253111 0.00258246 0.00244142\n",
      " 0.00401811 0.00564022 0.00466121 0.00354696 0.00323054 0.00302377\n",
      " 0.0030469  0.00307318 0.00271293 0.00320764 0.00284772 0.00292944\n",
      " 0.00288143 0.00297477 0.00286599 0.00281366 0.0036647  0.00570477\n",
      " 0.00655261 0.00584057 0.00541942 0.00483035 0.00482299 0.00481967\n",
      " 0.00483937 0.0053712  0.0049414  0.00494007 0.00473287 0.00486683\n",
      " 0.0047218  0.00461743 0.00576837 0.10737428] [0. 0. 0. 0. 1.]\n"
     ]
    }
   ],
   "source": [
    "# This is the part where we slice out the encoder\n",
    "encoder = Model(inp, l)\n",
    "\n",
    "# At this point we are dealing with the latest model, not the best model... \n",
    "# and so maybe try load model model-002-0.044664.h5 as well (had the best validation loss), and compare?\n",
    "\n",
    "# This bit of code tests the extracted encoder to see that it produces dense \n",
    "# embedding vectors for each of the validation images\n",
    "samples=next(val_data_gen)\n",
    "preds=encoder.predict(samples[0])\n",
    "for i in range(samples[0].shape[0]):\n",
    "    print(preds[i],samples[1][i])\n",
    "    \n",
    "# We now add on a 1024 neuron layer at the output (z) of the encoder network, \n",
    "# and then feed that into a 5 output layer to match the 5 output one-hot supervised \"y\" that we will use for training \n",
    "x = Dense(1024, activation='relu')(encoder.output)\n",
    "predictions = Dense(5, activation='softmax')(x)\n",
    "# this is the model we will train\n",
    "encoder_classify_model = Model(inputs=encoder.input, outputs=predictions)\n",
    "encoder_classify_model.compile(optimizer='adam', loss='categorical_crossentropy')\n",
    "# Save the model\n",
    "encoder_classify_model.save('encoder_classify_model.h5')"
   ]
  },
  {
   "cell_type": "code",
   "execution_count": 165,
   "metadata": {
    "ExecuteTime": {
     "end_time": "2020-04-20T15:33:04.463844Z",
     "start_time": "2020-04-20T15:27:34.704554Z"
    }
   },
   "outputs": [
    {
     "name": "stdout",
     "output_type": "stream",
     "text": [
      "Epoch 1/15\n",
      "209/444 [=============>................] - ETA: 26s - loss: 2.1036"
     ]
    },
    {
     "name": "stderr",
     "output_type": "stream",
     "text": [
      "/home/lemay/py_36_env/lib/python3.6/site-packages/PIL/TiffImagePlugin.py:788: UserWarning: Corrupt EXIF data.  Expecting to read 4 bytes but only got 0. \n",
      "  warnings.warn(str(msg))\n"
     ]
    },
    {
     "name": "stdout",
     "output_type": "stream",
     "text": [
      "444/444 [==============================] - 50s 112ms/step - loss: 1.7014 - val_loss: 0.5200\n",
      "Epoch 2/15\n",
      "444/444 [==============================] - 47s 107ms/step - loss: 1.0291 - val_loss: 0.4046\n",
      "Epoch 3/15\n",
      "444/444 [==============================] - 47s 107ms/step - loss: 0.7401 - val_loss: 0.3708\n",
      "Epoch 4/15\n",
      "444/444 [==============================] - 47s 107ms/step - loss: 0.6164 - val_loss: 0.0452\n",
      "Epoch 5/15\n",
      "444/444 [==============================] - 47s 106ms/step - loss: 0.5089 - val_loss: 0.1182\n",
      "Epoch 6/15\n",
      "444/444 [==============================] - 48s 107ms/step - loss: 0.4337 - val_loss: 0.7697\n",
      "Epoch 7/15\n",
      "317/444 [====================>.........] - ETA: 13s - loss: 0.44"
     ]
    },
    {
     "ename": "KeyboardInterrupt",
     "evalue": "",
     "output_type": "error",
     "traceback": [
      "\u001b[0;31m---------------------------------------------------------------------------\u001b[0m",
      "\u001b[0;31mKeyboardInterrupt\u001b[0m                         Traceback (most recent call last)",
      "\u001b[0;32m<ipython-input-165-2cc41cfc538e>\u001b[0m in \u001b[0;36m<module>\u001b[0;34m\u001b[0m\n\u001b[1;32m     15\u001b[0m     \u001b[0mvalidation_data\u001b[0m\u001b[0;34m=\u001b[0m\u001b[0mval_data_gen\u001b[0m\u001b[0;34m,\u001b[0m\u001b[0;34m\u001b[0m\u001b[0;34m\u001b[0m\u001b[0m\n\u001b[1;32m     16\u001b[0m     \u001b[0mvalidation_steps\u001b[0m\u001b[0;34m=\u001b[0m\u001b[0;36m1\u001b[0m\u001b[0;34m,\u001b[0m \u001b[0;31m#total_val // batch_size,\u001b[0m\u001b[0;34m\u001b[0m\u001b[0;34m\u001b[0m\u001b[0m\n\u001b[0;32m---> 17\u001b[0;31m     \u001b[0mclass_weight\u001b[0m\u001b[0;34m=\u001b[0m\u001b[0mnew_class_weights\u001b[0m\u001b[0;34m\u001b[0m\u001b[0;34m\u001b[0m\u001b[0m\n\u001b[0m\u001b[1;32m     18\u001b[0m )\n",
      "\u001b[0;32m/home/lemay/py_36_env/lib/python3.6/site-packages/keras/legacy/interfaces.py\u001b[0m in \u001b[0;36mwrapper\u001b[0;34m(*args, **kwargs)\u001b[0m\n\u001b[1;32m     89\u001b[0m                 warnings.warn('Update your `' + object_name + '` call to the ' +\n\u001b[1;32m     90\u001b[0m                               'Keras 2 API: ' + signature, stacklevel=2)\n\u001b[0;32m---> 91\u001b[0;31m             \u001b[0;32mreturn\u001b[0m \u001b[0mfunc\u001b[0m\u001b[0;34m(\u001b[0m\u001b[0;34m*\u001b[0m\u001b[0margs\u001b[0m\u001b[0;34m,\u001b[0m \u001b[0;34m**\u001b[0m\u001b[0mkwargs\u001b[0m\u001b[0;34m)\u001b[0m\u001b[0;34m\u001b[0m\u001b[0;34m\u001b[0m\u001b[0m\n\u001b[0m\u001b[1;32m     92\u001b[0m         \u001b[0mwrapper\u001b[0m\u001b[0;34m.\u001b[0m\u001b[0m_original_function\u001b[0m \u001b[0;34m=\u001b[0m \u001b[0mfunc\u001b[0m\u001b[0;34m\u001b[0m\u001b[0;34m\u001b[0m\u001b[0m\n\u001b[1;32m     93\u001b[0m         \u001b[0;32mreturn\u001b[0m \u001b[0mwrapper\u001b[0m\u001b[0;34m\u001b[0m\u001b[0;34m\u001b[0m\u001b[0m\n",
      "\u001b[0;32m/home/lemay/py_36_env/lib/python3.6/site-packages/keras/engine/training.py\u001b[0m in \u001b[0;36mfit_generator\u001b[0;34m(self, generator, steps_per_epoch, epochs, verbose, callbacks, validation_data, validation_steps, validation_freq, class_weight, max_queue_size, workers, use_multiprocessing, shuffle, initial_epoch)\u001b[0m\n\u001b[1;32m   1730\u001b[0m             \u001b[0muse_multiprocessing\u001b[0m\u001b[0;34m=\u001b[0m\u001b[0muse_multiprocessing\u001b[0m\u001b[0;34m,\u001b[0m\u001b[0;34m\u001b[0m\u001b[0;34m\u001b[0m\u001b[0m\n\u001b[1;32m   1731\u001b[0m             \u001b[0mshuffle\u001b[0m\u001b[0;34m=\u001b[0m\u001b[0mshuffle\u001b[0m\u001b[0;34m,\u001b[0m\u001b[0;34m\u001b[0m\u001b[0;34m\u001b[0m\u001b[0m\n\u001b[0;32m-> 1732\u001b[0;31m             initial_epoch=initial_epoch)\n\u001b[0m\u001b[1;32m   1733\u001b[0m \u001b[0;34m\u001b[0m\u001b[0m\n\u001b[1;32m   1734\u001b[0m     \u001b[0;34m@\u001b[0m\u001b[0minterfaces\u001b[0m\u001b[0;34m.\u001b[0m\u001b[0mlegacy_generator_methods_support\u001b[0m\u001b[0;34m\u001b[0m\u001b[0;34m\u001b[0m\u001b[0m\n",
      "\u001b[0;32m/home/lemay/py_36_env/lib/python3.6/site-packages/keras/engine/training_generator.py\u001b[0m in \u001b[0;36mfit_generator\u001b[0;34m(model, generator, steps_per_epoch, epochs, verbose, callbacks, validation_data, validation_steps, validation_freq, class_weight, max_queue_size, workers, use_multiprocessing, shuffle, initial_epoch)\u001b[0m\n\u001b[1;32m    224\u001b[0m                     \u001b[0mbatch_logs\u001b[0m\u001b[0;34m[\u001b[0m\u001b[0ml\u001b[0m\u001b[0;34m]\u001b[0m \u001b[0;34m=\u001b[0m \u001b[0mo\u001b[0m\u001b[0;34m\u001b[0m\u001b[0;34m\u001b[0m\u001b[0m\n\u001b[1;32m    225\u001b[0m \u001b[0;34m\u001b[0m\u001b[0m\n\u001b[0;32m--> 226\u001b[0;31m                 \u001b[0mcallbacks\u001b[0m\u001b[0;34m.\u001b[0m\u001b[0m_call_batch_hook\u001b[0m\u001b[0;34m(\u001b[0m\u001b[0;34m'train'\u001b[0m\u001b[0;34m,\u001b[0m \u001b[0;34m'end'\u001b[0m\u001b[0;34m,\u001b[0m \u001b[0mbatch_index\u001b[0m\u001b[0;34m,\u001b[0m \u001b[0mbatch_logs\u001b[0m\u001b[0;34m)\u001b[0m\u001b[0;34m\u001b[0m\u001b[0;34m\u001b[0m\u001b[0m\n\u001b[0m\u001b[1;32m    227\u001b[0m \u001b[0;34m\u001b[0m\u001b[0m\n\u001b[1;32m    228\u001b[0m                 \u001b[0mbatch_index\u001b[0m \u001b[0;34m+=\u001b[0m \u001b[0;36m1\u001b[0m\u001b[0;34m\u001b[0m\u001b[0;34m\u001b[0m\u001b[0m\n",
      "\u001b[0;32m/home/lemay/py_36_env/lib/python3.6/site-packages/keras/callbacks/callbacks.py\u001b[0m in \u001b[0;36m_call_batch_hook\u001b[0;34m(self, mode, hook, batch, logs)\u001b[0m\n\u001b[1;32m     83\u001b[0m         \u001b[0;32mfor\u001b[0m \u001b[0mcallback\u001b[0m \u001b[0;32min\u001b[0m \u001b[0mself\u001b[0m\u001b[0;34m.\u001b[0m\u001b[0mcallbacks\u001b[0m\u001b[0;34m:\u001b[0m\u001b[0;34m\u001b[0m\u001b[0;34m\u001b[0m\u001b[0m\n\u001b[1;32m     84\u001b[0m             \u001b[0mbatch_hook\u001b[0m \u001b[0;34m=\u001b[0m \u001b[0mgetattr\u001b[0m\u001b[0;34m(\u001b[0m\u001b[0mcallback\u001b[0m\u001b[0;34m,\u001b[0m \u001b[0mhook_name\u001b[0m\u001b[0;34m)\u001b[0m\u001b[0;34m\u001b[0m\u001b[0;34m\u001b[0m\u001b[0m\n\u001b[0;32m---> 85\u001b[0;31m             \u001b[0mbatch_hook\u001b[0m\u001b[0;34m(\u001b[0m\u001b[0mbatch\u001b[0m\u001b[0;34m,\u001b[0m \u001b[0mlogs\u001b[0m\u001b[0;34m)\u001b[0m\u001b[0;34m\u001b[0m\u001b[0;34m\u001b[0m\u001b[0m\n\u001b[0m\u001b[1;32m     86\u001b[0m         \u001b[0mself\u001b[0m\u001b[0;34m.\u001b[0m\u001b[0m_delta_ts\u001b[0m\u001b[0;34m[\u001b[0m\u001b[0mhook_name\u001b[0m\u001b[0;34m]\u001b[0m\u001b[0;34m.\u001b[0m\u001b[0mappend\u001b[0m\u001b[0;34m(\u001b[0m\u001b[0mtime\u001b[0m\u001b[0;34m.\u001b[0m\u001b[0mtime\u001b[0m\u001b[0;34m(\u001b[0m\u001b[0;34m)\u001b[0m \u001b[0;34m-\u001b[0m \u001b[0mt_before_callbacks\u001b[0m\u001b[0;34m)\u001b[0m\u001b[0;34m\u001b[0m\u001b[0;34m\u001b[0m\u001b[0m\n\u001b[1;32m     87\u001b[0m \u001b[0;34m\u001b[0m\u001b[0m\n",
      "\u001b[0;32m/home/lemay/py_36_env/lib/python3.6/site-packages/keras/callbacks/callbacks.py\u001b[0m in \u001b[0;36mon_train_batch_end\u001b[0;34m(self, batch, logs)\u001b[0m\n\u001b[1;32m    364\u001b[0m         \"\"\"\n\u001b[1;32m    365\u001b[0m         \u001b[0;31m# For backwards compatibility\u001b[0m\u001b[0;34m\u001b[0m\u001b[0;34m\u001b[0m\u001b[0;34m\u001b[0m\u001b[0m\n\u001b[0;32m--> 366\u001b[0;31m         \u001b[0mself\u001b[0m\u001b[0;34m.\u001b[0m\u001b[0mon_batch_end\u001b[0m\u001b[0;34m(\u001b[0m\u001b[0mbatch\u001b[0m\u001b[0;34m,\u001b[0m \u001b[0mlogs\u001b[0m\u001b[0;34m=\u001b[0m\u001b[0mlogs\u001b[0m\u001b[0;34m)\u001b[0m\u001b[0;34m\u001b[0m\u001b[0;34m\u001b[0m\u001b[0m\n\u001b[0m\u001b[1;32m    367\u001b[0m \u001b[0;34m\u001b[0m\u001b[0m\n\u001b[1;32m    368\u001b[0m     \u001b[0;32mdef\u001b[0m \u001b[0mon_test_batch_begin\u001b[0m\u001b[0;34m(\u001b[0m\u001b[0mself\u001b[0m\u001b[0;34m,\u001b[0m \u001b[0mbatch\u001b[0m\u001b[0;34m,\u001b[0m \u001b[0mlogs\u001b[0m\u001b[0;34m=\u001b[0m\u001b[0;32mNone\u001b[0m\u001b[0;34m)\u001b[0m\u001b[0;34m:\u001b[0m\u001b[0;34m\u001b[0m\u001b[0;34m\u001b[0m\u001b[0m\n",
      "\u001b[0;32m/home/lemay/py_36_env/lib/python3.6/site-packages/keras/callbacks/callbacks.py\u001b[0m in \u001b[0;36mon_batch_end\u001b[0;34m(self, batch, logs)\u001b[0m\n\u001b[1;32m    601\u001b[0m         \u001b[0;31m# will be handled by on_epoch_end.\u001b[0m\u001b[0;34m\u001b[0m\u001b[0;34m\u001b[0m\u001b[0;34m\u001b[0m\u001b[0m\n\u001b[1;32m    602\u001b[0m         \u001b[0;32mif\u001b[0m \u001b[0mself\u001b[0m\u001b[0;34m.\u001b[0m\u001b[0mverbose\u001b[0m \u001b[0;32mand\u001b[0m \u001b[0mself\u001b[0m\u001b[0;34m.\u001b[0m\u001b[0mseen\u001b[0m \u001b[0;34m<\u001b[0m \u001b[0mself\u001b[0m\u001b[0;34m.\u001b[0m\u001b[0mtarget\u001b[0m\u001b[0;34m:\u001b[0m\u001b[0;34m\u001b[0m\u001b[0;34m\u001b[0m\u001b[0m\n\u001b[0;32m--> 603\u001b[0;31m             \u001b[0mself\u001b[0m\u001b[0;34m.\u001b[0m\u001b[0mprogbar\u001b[0m\u001b[0;34m.\u001b[0m\u001b[0mupdate\u001b[0m\u001b[0;34m(\u001b[0m\u001b[0mself\u001b[0m\u001b[0;34m.\u001b[0m\u001b[0mseen\u001b[0m\u001b[0;34m,\u001b[0m \u001b[0mself\u001b[0m\u001b[0;34m.\u001b[0m\u001b[0mlog_values\u001b[0m\u001b[0;34m)\u001b[0m\u001b[0;34m\u001b[0m\u001b[0;34m\u001b[0m\u001b[0m\n\u001b[0m\u001b[1;32m    604\u001b[0m \u001b[0;34m\u001b[0m\u001b[0m\n\u001b[1;32m    605\u001b[0m     \u001b[0;32mdef\u001b[0m \u001b[0mon_epoch_end\u001b[0m\u001b[0;34m(\u001b[0m\u001b[0mself\u001b[0m\u001b[0;34m,\u001b[0m \u001b[0mepoch\u001b[0m\u001b[0;34m,\u001b[0m \u001b[0mlogs\u001b[0m\u001b[0;34m=\u001b[0m\u001b[0;32mNone\u001b[0m\u001b[0;34m)\u001b[0m\u001b[0;34m:\u001b[0m\u001b[0;34m\u001b[0m\u001b[0;34m\u001b[0m\u001b[0m\n",
      "\u001b[0;32m/home/lemay/py_36_env/lib/python3.6/site-packages/keras/utils/generic_utils.py\u001b[0m in \u001b[0;36mupdate\u001b[0;34m(self, current, values)\u001b[0m\n\u001b[1;32m    435\u001b[0m                 \u001b[0;32mif\u001b[0m \u001b[0misinstance\u001b[0m\u001b[0;34m(\u001b[0m\u001b[0mself\u001b[0m\u001b[0;34m.\u001b[0m\u001b[0m_values\u001b[0m\u001b[0;34m[\u001b[0m\u001b[0mk\u001b[0m\u001b[0;34m]\u001b[0m\u001b[0;34m,\u001b[0m \u001b[0mlist\u001b[0m\u001b[0;34m)\u001b[0m\u001b[0;34m:\u001b[0m\u001b[0;34m\u001b[0m\u001b[0;34m\u001b[0m\u001b[0m\n\u001b[1;32m    436\u001b[0m                     avg = np.mean(\n\u001b[0;32m--> 437\u001b[0;31m                         self._values[k][0] / max(1, self._values[k][1]))\n\u001b[0m\u001b[1;32m    438\u001b[0m                     \u001b[0;32mif\u001b[0m \u001b[0mabs\u001b[0m\u001b[0;34m(\u001b[0m\u001b[0mavg\u001b[0m\u001b[0;34m)\u001b[0m \u001b[0;34m>\u001b[0m \u001b[0;36m1e-3\u001b[0m\u001b[0;34m:\u001b[0m\u001b[0;34m\u001b[0m\u001b[0;34m\u001b[0m\u001b[0m\n\u001b[1;32m    439\u001b[0m                         \u001b[0minfo\u001b[0m \u001b[0;34m+=\u001b[0m \u001b[0;34m' %.4f'\u001b[0m \u001b[0;34m%\u001b[0m \u001b[0mavg\u001b[0m\u001b[0;34m\u001b[0m\u001b[0;34m\u001b[0m\u001b[0m\n",
      "\u001b[0;32m/home/lemay/py_36_env/lib/python3.6/site-packages/numpy/core/fromnumeric.py\u001b[0m in \u001b[0;36mmean\u001b[0;34m(a, axis, dtype, out, keepdims)\u001b[0m\n\u001b[1;32m   3113\u001b[0m             \u001b[0;32mpass\u001b[0m\u001b[0;34m\u001b[0m\u001b[0;34m\u001b[0m\u001b[0m\n\u001b[1;32m   3114\u001b[0m         \u001b[0;32melse\u001b[0m\u001b[0;34m:\u001b[0m\u001b[0;34m\u001b[0m\u001b[0;34m\u001b[0m\u001b[0m\n\u001b[0;32m-> 3115\u001b[0;31m             \u001b[0;32mreturn\u001b[0m \u001b[0mmean\u001b[0m\u001b[0;34m(\u001b[0m\u001b[0maxis\u001b[0m\u001b[0;34m=\u001b[0m\u001b[0maxis\u001b[0m\u001b[0;34m,\u001b[0m \u001b[0mdtype\u001b[0m\u001b[0;34m=\u001b[0m\u001b[0mdtype\u001b[0m\u001b[0;34m,\u001b[0m \u001b[0mout\u001b[0m\u001b[0;34m=\u001b[0m\u001b[0mout\u001b[0m\u001b[0;34m,\u001b[0m \u001b[0;34m**\u001b[0m\u001b[0mkwargs\u001b[0m\u001b[0;34m)\u001b[0m\u001b[0;34m\u001b[0m\u001b[0;34m\u001b[0m\u001b[0m\n\u001b[0m\u001b[1;32m   3116\u001b[0m \u001b[0;34m\u001b[0m\u001b[0m\n\u001b[1;32m   3117\u001b[0m     return _methods._mean(a, axis=axis, dtype=dtype,\n",
      "\u001b[0;32m/home/lemay/py_36_env/lib/python3.6/site-packages/numpy/core/_methods.py\u001b[0m in \u001b[0;36m_mean\u001b[0;34m(a, axis, dtype, out, keepdims)\u001b[0m\n\u001b[1;32m     73\u001b[0m             \u001b[0mis_float16_result\u001b[0m \u001b[0;34m=\u001b[0m \u001b[0;32mTrue\u001b[0m\u001b[0;34m\u001b[0m\u001b[0;34m\u001b[0m\u001b[0m\n\u001b[1;32m     74\u001b[0m \u001b[0;34m\u001b[0m\u001b[0m\n\u001b[0;32m---> 75\u001b[0;31m     \u001b[0mret\u001b[0m \u001b[0;34m=\u001b[0m \u001b[0mumr_sum\u001b[0m\u001b[0;34m(\u001b[0m\u001b[0marr\u001b[0m\u001b[0;34m,\u001b[0m \u001b[0maxis\u001b[0m\u001b[0;34m,\u001b[0m \u001b[0mdtype\u001b[0m\u001b[0;34m,\u001b[0m \u001b[0mout\u001b[0m\u001b[0;34m,\u001b[0m \u001b[0mkeepdims\u001b[0m\u001b[0;34m)\u001b[0m\u001b[0;34m\u001b[0m\u001b[0;34m\u001b[0m\u001b[0m\n\u001b[0m\u001b[1;32m     76\u001b[0m     \u001b[0;32mif\u001b[0m \u001b[0misinstance\u001b[0m\u001b[0;34m(\u001b[0m\u001b[0mret\u001b[0m\u001b[0;34m,\u001b[0m \u001b[0mmu\u001b[0m\u001b[0;34m.\u001b[0m\u001b[0mndarray\u001b[0m\u001b[0;34m)\u001b[0m\u001b[0;34m:\u001b[0m\u001b[0;34m\u001b[0m\u001b[0;34m\u001b[0m\u001b[0m\n\u001b[1;32m     77\u001b[0m         ret = um.true_divide(\n",
      "\u001b[0;31mKeyboardInterrupt\u001b[0m: "
     ]
    }
   ],
   "source": [
    "from keras.models import load_model\n",
    "\n",
    "encoder_classify_model = load_model('encoder_classify_model.h5')\n",
    "\n",
    "es2 = EarlyStopping(monitor='val_loss', \n",
    "                   mode='min', \n",
    "                   verbose=1, \n",
    "                   patience=5)\n",
    "\n",
    "mc2 = ModelCheckpoint('encoder_classify_model-{epoch:03d}-{acc:03f}-{val_acc:03f}.h5', \n",
    "                     monitor='val_loss', \n",
    "                     mode='min', \n",
    "                     save_best_only=True) #TODO, try out model checkpoint\n",
    "\n",
    "encoder_classify_model.fit_generator(\n",
    "    train_generator,\n",
    "    steps_per_epoch=total_train // batch_size,\n",
    "    epochs=epochs2,\n",
    "    validation_data=val_data_gen,\n",
    "    validation_steps=max(1,total_val // batch_size),\n",
    "    class_weight=new_class_weights,\n",
    "    callbacks=[es2,mc2]\n",
    ")"
   ]
  },
  {
   "cell_type": "code",
   "execution_count": null,
   "metadata": {},
   "outputs": [],
   "source": [
    "# Save the new classifier model for use later\n",
    "encoder_classify_model.save('encoder_classify_model_FINAL1.h5')"
   ]
  },
  {
   "cell_type": "code",
   "execution_count": 176,
   "metadata": {
    "ExecuteTime": {
     "end_time": "2020-04-20T15:40:42.757045Z",
     "start_time": "2020-04-20T15:40:42.752637Z"
    }
   },
   "outputs": [],
   "source": [
    "px=[]\n",
    "truth=[]"
   ]
  },
  {
   "cell_type": "code",
   "execution_count": 183,
   "metadata": {
    "ExecuteTime": {
     "end_time": "2020-04-20T15:40:51.609221Z",
     "start_time": "2020-04-20T15:40:51.587802Z"
    }
   },
   "outputs": [],
   "source": [
    "while len(px)<len(val_data_gen):\n",
    "    samples=next(val_data_gen)\n",
    "    preds=encoder_classify_model.predict(samples[0])\n",
    "    for i in range(preds.shape[0]):\n",
    "        y_p=np.argmax(preds[i])\n",
    "        y_act=np.argmax(samples[1][i])\n",
    "        px.append(y_p)\n",
    "        truth.append(y_act)\n",
    "    print(len(px))"
   ]
  },
  {
   "cell_type": "markdown",
   "metadata": {},
   "source": [
    "We can now measure the performance of this model and compare to the other approaches. "
   ]
  },
  {
   "cell_type": "code",
   "execution_count": 187,
   "metadata": {
    "ExecuteTime": {
     "end_time": "2020-04-20T15:42:35.073111Z",
     "start_time": "2020-04-20T15:42:35.065256Z"
    }
   },
   "outputs": [
    {
     "name": "stdout",
     "output_type": "stream",
     "text": [
      "              precision    recall  f1-score   support\n",
      "\n",
      "           0       1.00      1.00      1.00        10\n",
      "           1       0.70      0.70      0.70        10\n",
      "           2       0.78      0.70      0.74        10\n",
      "           3       0.90      0.90      0.90        10\n",
      "           4       0.82      0.90      0.86        10\n",
      "\n",
      "    accuracy                           0.84        50\n",
      "   macro avg       0.84      0.84      0.84        50\n",
      "weighted avg       0.84      0.84      0.84        50\n",
      "\n",
      "[[10  0  0  0  0]\n",
      " [ 0  7  2  0  1]\n",
      " [ 0  3  7  0  0]\n",
      " [ 0  0  0  9  1]\n",
      " [ 0  0  0  1  9]]\n"
     ]
    }
   ],
   "source": [
    "from sklearn.metrics import classification_report\n",
    "from sklearn.metrics import confusion_matrix\n",
    "print(classification_report(truth, px, target_names=[str(i) for i in range(5)]))\n",
    "print(confusion_matrix(truth, px, labels=range(5)))"
   ]
  },
  {
   "cell_type": "markdown",
   "metadata": {},
   "source": [
    "# Conclusion"
   ]
  },
  {
   "cell_type": "markdown",
   "metadata": {},
   "source": [
    "The TPOT model did best overall. The ML approach did a bit better in terms of all classes having 7/10 or more correct classifications, whereas the TPOT model had one class with 5/10 but also a higher overall number of correct classifications in the validation data (44 against the 42 for the autoencoder)."
   ]
  },
  {
   "cell_type": "code",
   "execution_count": null,
   "metadata": {},
   "outputs": [],
   "source": []
  }
 ],
 "metadata": {
  "accelerator": "TPU",
  "colab": {
   "collapsed_sections": [],
   "name": "image_classification.ipynb",
   "provenance": [],
   "toc_visible": true
  },
  "kernelspec": {
   "display_name": "Python 3.6.8 (py_36_env)",
   "language": "python",
   "name": "py_36_env"
  },
  "language_info": {
   "codemirror_mode": {
    "name": "ipython",
    "version": 3
   },
   "file_extension": ".py",
   "mimetype": "text/x-python",
   "name": "python",
   "nbconvert_exporter": "python",
   "pygments_lexer": "ipython3",
   "version": "3.6.8"
  },
  "toc": {
   "base_numbering": 1,
   "nav_menu": {},
   "number_sections": true,
   "sideBar": true,
   "skip_h1_title": false,
   "title_cell": "Table of Contents",
   "title_sidebar": "Contents",
   "toc_cell": false,
   "toc_position": {
    "height": "calc(100% - 180px)",
    "left": "10px",
    "top": "150px",
    "width": "424.875px"
   },
   "toc_section_display": true,
   "toc_window_display": true
  }
 },
 "nbformat": 4,
 "nbformat_minor": 1
}
